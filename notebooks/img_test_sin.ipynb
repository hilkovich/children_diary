{
 "cells": [
  {
   "cell_type": "code",
   "execution_count": 1,
   "metadata": {},
   "outputs": [
    {
     "name": "stderr",
     "output_type": "stream",
     "text": [
      "/home/nikolai/projects/album_stories/.venv/lib/python3.12/site-packages/tqdm/auto.py:21: TqdmWarning: IProgress not found. Please update jupyter and ipywidgets. See https://ipywidgets.readthedocs.io/en/stable/user_install.html\n",
      "  from .autonotebook import tqdm as notebook_tqdm\n",
      "/home/nikolai/projects/album_stories/.venv/lib/python3.12/site-packages/transformers/utils/generic.py:311: UserWarning: torch.utils._pytree._register_pytree_node is deprecated. Please use torch.utils._pytree.register_pytree_node instead.\n",
      "  torch.utils._pytree._register_pytree_node(\n",
      "/home/nikolai/projects/album_stories/.venv/lib/python3.12/site-packages/bitsandbytes/cextension.py:34: UserWarning: The installed version of bitsandbytes was compiled without GPU support. 8-bit optimizers, 8-bit multiplication, and GPU quantization are unavailable.\n",
      "  warn(\"The installed version of bitsandbytes was compiled without GPU support. \"\n"
     ]
    },
    {
     "name": "stdout",
     "output_type": "stream",
     "text": [
      "/home/nikolai/projects/album_stories/.venv/lib/python3.12/site-packages/bitsandbytes/libbitsandbytes_cpu.so: undefined symbol: cadam32bit_grad_fp32\n"
     ]
    },
    {
     "name": "stderr",
     "output_type": "stream",
     "text": [
      "/home/nikolai/projects/album_stories/.venv/lib/python3.12/site-packages/transformers/utils/generic.py:311: UserWarning: torch.utils._pytree._register_pytree_node is deprecated. Please use torch.utils._pytree.register_pytree_node instead.\n",
      "  torch.utils._pytree._register_pytree_node(\n"
     ]
    }
   ],
   "source": [
    "import os\n",
    "import wandb\n",
    "import pandas as pd\n",
    "from PIL import Image\n",
    "from torch.utils.data import Dataset\n",
    "from transformers import BlipProcessor, BlipForConditionalGeneration\n",
    "from rouge import Rouge\n",
    "from bert_score import score\n",
    "from nltk.tokenize import word_tokenize\n",
    "from nltk.translate.meteor_score import meteor_score\n",
    "from pycocoevalcap.cider.cider import Cider"
   ]
  },
  {
   "cell_type": "code",
   "execution_count": 2,
   "metadata": {},
   "outputs": [],
   "source": [
    "class CustomDataset(Dataset):\n",
    "    def __init__(self, data_dir, data, transform=None):\n",
    "        self.data_dir = data_dir\n",
    "        self.data = data\n",
    "        self.transform = transform\n",
    "        self.images = [os.path.join(data_dir, img) for img in os.listdir(data_dir)]\n",
    "\n",
    "    def __len__(self):\n",
    "        return len(self.images)\n",
    "\n",
    "    def __getitem__(self, idx):\n",
    "        image_path = self.images[idx]\n",
    "        image, caption = loader(image_path, self.data)\n",
    "        if self.transform:\n",
    "            image = self.transform(image)\n",
    "        return image, caption\n",
    "\n",
    "\n",
    "def loader(path, data):\n",
    "    image = Image.open(path)\n",
    "    caption = data.loc[data[\"image\"] == os.path.basename(path), \"caption\"].values[0]\n",
    "    return image, caption"
   ]
  },
  {
   "cell_type": "code",
   "execution_count": 3,
   "metadata": {},
   "outputs": [],
   "source": [
    "data_dir = \"datasets/sin_dataset_img/images\"\n",
    "csv_file = \"datasets/sin_dataset_img/captions.csv\"\n",
    "\n",
    "data = pd.read_csv(csv_file)\n",
    "\n",
    "ds_sin = CustomDataset(data_dir, data)"
   ]
  },
  {
   "cell_type": "code",
   "execution_count": 4,
   "metadata": {},
   "outputs": [
    {
     "name": "stderr",
     "output_type": "stream",
     "text": [
      "Failed to detect the name of this notebook, you can set it manually with the WANDB_NOTEBOOK_NAME environment variable to enable code saving.\n"
     ]
    },
    {
     "name": "stderr",
     "output_type": "stream",
     "text": [
      "\u001b[34m\u001b[1mwandb\u001b[0m: Currently logged in as: \u001b[33mn-hilkovich\u001b[0m. Use \u001b[1m`wandb login --relogin`\u001b[0m to force relogin\n"
     ]
    },
    {
     "data": {
      "text/html": [
       "Tracking run with wandb version 0.17.2"
      ],
      "text/plain": [
       "<IPython.core.display.HTML object>"
      ]
     },
     "metadata": {},
     "output_type": "display_data"
    },
    {
     "data": {
      "text/html": [
       "Run data is saved locally in <code>/home/nikolai/projects/album_stories/notebooks/wandb/run-20240624_164852-15bcfpn6</code>"
      ],
      "text/plain": [
       "<IPython.core.display.HTML object>"
      ]
     },
     "metadata": {},
     "output_type": "display_data"
    },
    {
     "data": {
      "text/html": [
       "Syncing run <strong><a href='https://wandb.ai/n-hilkovich/child_diary/runs/15bcfpn6' target=\"_blank\">Pic2Story_0</a></strong> to <a href='https://wandb.ai/n-hilkovich/child_diary' target=\"_blank\">Weights & Biases</a> (<a href='https://wandb.me/run' target=\"_blank\">docs</a>)<br/>"
      ],
      "text/plain": [
       "<IPython.core.display.HTML object>"
      ]
     },
     "metadata": {},
     "output_type": "display_data"
    },
    {
     "data": {
      "text/html": [
       " View project at <a href='https://wandb.ai/n-hilkovich/child_diary' target=\"_blank\">https://wandb.ai/n-hilkovich/child_diary</a>"
      ],
      "text/plain": [
       "<IPython.core.display.HTML object>"
      ]
     },
     "metadata": {},
     "output_type": "display_data"
    },
    {
     "data": {
      "text/html": [
       " View run at <a href='https://wandb.ai/n-hilkovich/child_diary/runs/15bcfpn6' target=\"_blank\">https://wandb.ai/n-hilkovich/child_diary/runs/15bcfpn6</a>"
      ],
      "text/plain": [
       "<IPython.core.display.HTML object>"
      ]
     },
     "metadata": {},
     "output_type": "display_data"
    }
   ],
   "source": [
    "# Модель №1\n",
    "wandb.init(project=\"child_diary\", group=\"sin_ds\", job_type=\"base\", name=\"Pic2Story_0\")\n",
    "\n",
    "processor = BlipProcessor.from_pretrained(\"abhijit2111/Pic2Story\")\n",
    "model = BlipForConditionalGeneration.from_pretrained(\"abhijit2111/Pic2Story\")"
   ]
  },
  {
   "cell_type": "code",
   "execution_count": 5,
   "metadata": {},
   "outputs": [],
   "source": [
    "predicted_captions = []\n",
    "reference_captions = []\n",
    "\n",
    "for image, captions in ds_sin:\n",
    "    inputs = processor(image, return_tensors=\"pt\")\n",
    "    out = model.generate(**inputs)\n",
    "    predicted_captions.append(processor.decode(out[0], skip_special_tokens=True))\n",
    "    reference_captions.append([captions])"
   ]
  },
  {
   "cell_type": "code",
   "execution_count": 6,
   "metadata": {},
   "outputs": [
    {
     "name": "stdout",
     "output_type": "stream",
     "text": [
      "CIDEr Score: 1.266\n"
     ]
    }
   ],
   "source": [
    "predicted_dict = {i: [caption] for i, caption in enumerate(predicted_captions)}\n",
    "reference_dict = {i: captions for i, captions in enumerate(reference_captions)}\n",
    "\n",
    "cider_scorer = Cider()\n",
    "\n",
    "cider_score, _ = cider_scorer.compute_score(reference_dict, predicted_dict)\n",
    "\n",
    "print(f\"CIDEr Score: {cider_score:.3f}\")"
   ]
  },
  {
   "cell_type": "code",
   "execution_count": 7,
   "metadata": {},
   "outputs": [
    {
     "name": "stderr",
     "output_type": "stream",
     "text": [
      "Some weights of RobertaModel were not initialized from the model checkpoint at roberta-large and are newly initialized: ['roberta.pooler.dense.weight', 'roberta.pooler.dense.bias']\n",
      "You should probably TRAIN this model on a down-stream task to be able to use it for predictions and inference.\n"
     ]
    },
    {
     "name": "stdout",
     "output_type": "stream",
     "text": [
      "BERTScore Precision: 0.912\n",
      "BERTScore Recall: 0.924\n",
      "BERTScore F1: 0.918\n"
     ]
    }
   ],
   "source": [
    "P, R, F1 = score(predicted_captions, reference_captions, lang=\"en\", verbose=False)\n",
    "\n",
    "BERTScore_P = P.mean().item()\n",
    "BERTScore_R = R.mean().item()\n",
    "BERTScore_F1 = F1.mean().item()\n",
    "\n",
    "print(f\"BERTScore Precision: {BERTScore_P:.3f}\")\n",
    "print(f\"BERTScore Recall: {BERTScore_R:.3f}\")\n",
    "print(f\"BERTScore F1: {BERTScore_F1:.3f}\")"
   ]
  },
  {
   "cell_type": "code",
   "execution_count": 8,
   "metadata": {},
   "outputs": [
    {
     "name": "stdout",
     "output_type": "stream",
     "text": [
      "METEOR Score: 0.495\n"
     ]
    }
   ],
   "source": [
    "predicted_captions_tokenized = [\n",
    "    word_tokenize(caption) for caption in predicted_captions\n",
    "]\n",
    "reference_captions_tokenized = [\n",
    "    [word_tokenize(caption) for caption in ref] for ref in reference_captions\n",
    "]\n",
    "\n",
    "scores = [\n",
    "    meteor_score(ref, gen)\n",
    "    for ref, gen in zip(reference_captions_tokenized, predicted_captions_tokenized)\n",
    "]\n",
    "average_meteor = sum(scores) / len(scores)\n",
    "\n",
    "print(f\"METEOR Score: {average_meteor:.3f}\")"
   ]
  },
  {
   "cell_type": "code",
   "execution_count": 9,
   "metadata": {},
   "outputs": [
    {
     "name": "stdout",
     "output_type": "stream",
     "text": [
      "ROUGE-1 Scores: {'r': 0.5586580086580086, 'p': 0.5880392156862746, 'f': 0.5612534899822796}\n",
      "ROUGE-2 Scores: {'r': 0.23522727272727276, 'p': 0.26405228758169935, 'f': 0.2453215038405998}\n",
      "ROUGE-l Scores: {'r': 0.4747619047619048, 'p': 0.5003431372549019, 'f': 0.47743142900504615}\n"
     ]
    }
   ],
   "source": [
    "ref_captions = [\". \".join(ref) for ref in reference_captions]\n",
    "\n",
    "rouge = Rouge()\n",
    "\n",
    "scores = rouge.get_scores(predicted_captions, ref_captions, avg=True)\n",
    "\n",
    "print(\"ROUGE-1 Scores:\", scores[\"rouge-1\"])\n",
    "print(\"ROUGE-2 Scores:\", scores[\"rouge-2\"])\n",
    "print(\"ROUGE-l Scores:\", scores[\"rouge-l\"])"
   ]
  },
  {
   "cell_type": "code",
   "execution_count": 10,
   "metadata": {},
   "outputs": [
    {
     "data": {
      "text/html": [
       "<style>\n",
       "    table.wandb td:nth-child(1) { padding: 0 10px; text-align: left ; width: auto;} td:nth-child(2) {text-align: left ; width: 100%}\n",
       "    .wandb-row { display: flex; flex-direction: row; flex-wrap: wrap; justify-content: flex-start; width: 100% }\n",
       "    .wandb-col { display: flex; flex-direction: column; flex-basis: 100%; flex: 1; padding: 10px; }\n",
       "    </style>\n",
       "<div class=\"wandb-row\"><div class=\"wandb-col\"><h3>Run history:</h3><br/><table class=\"wandb\"><tr><td>BERTScore_F1</td><td>▁</td></tr><tr><td>BERTScore_P</td><td>▁</td></tr><tr><td>BERTScore_R</td><td>▁</td></tr><tr><td>CIDEr</td><td>▁</td></tr><tr><td>METEOR</td><td>▁</td></tr></table><br/></div><div class=\"wandb-col\"><h3>Run summary:</h3><br/><table class=\"wandb\"><tr><td>BERTScore_F1</td><td>0.91794</td></tr><tr><td>BERTScore_P</td><td>0.91248</td></tr><tr><td>BERTScore_R</td><td>0.92372</td></tr><tr><td>CIDEr</td><td>1.26607</td></tr><tr><td>METEOR</td><td>0.49483</td></tr></table><br/></div></div>"
      ],
      "text/plain": [
       "<IPython.core.display.HTML object>"
      ]
     },
     "metadata": {},
     "output_type": "display_data"
    },
    {
     "data": {
      "text/html": [
       " View run <strong style=\"color:#cdcd00\">Pic2Story_0</strong> at: <a href='https://wandb.ai/n-hilkovich/child_diary/runs/15bcfpn6' target=\"_blank\">https://wandb.ai/n-hilkovich/child_diary/runs/15bcfpn6</a><br/> View project at: <a href='https://wandb.ai/n-hilkovich/child_diary' target=\"_blank\">https://wandb.ai/n-hilkovich/child_diary</a><br/>Synced 5 W&B file(s), 0 media file(s), 0 artifact file(s) and 0 other file(s)"
      ],
      "text/plain": [
       "<IPython.core.display.HTML object>"
      ]
     },
     "metadata": {},
     "output_type": "display_data"
    },
    {
     "data": {
      "text/html": [
       "Find logs at: <code>./wandb/run-20240624_164852-15bcfpn6/logs</code>"
      ],
      "text/plain": [
       "<IPython.core.display.HTML object>"
      ]
     },
     "metadata": {},
     "output_type": "display_data"
    },
    {
     "data": {
      "text/html": [
       "The new W&B backend becomes opt-out in version 0.18.0; try it out with `wandb.require(\"core\")`! See https://wandb.me/wandb-core for more information."
      ],
      "text/plain": [
       "<IPython.core.display.HTML object>"
      ]
     },
     "metadata": {},
     "output_type": "display_data"
    },
    {
     "name": "stdout",
     "output_type": "stream",
     "text": [
      "Complite\n"
     ]
    }
   ],
   "source": [
    "wandb.log(\n",
    "    {\n",
    "        \"CIDEr\": cider_score,\n",
    "        \"BERTScore_P\": BERTScore_P,\n",
    "        \"BERTScore_R\": BERTScore_R,\n",
    "        \"BERTScore_F1\": BERTScore_F1,\n",
    "        \"METEOR\": average_meteor,\n",
    "    }\n",
    ")\n",
    "\n",
    "wandb.finish()\n",
    "\n",
    "print(\"Complite\")"
   ]
  },
  {
   "cell_type": "code",
   "execution_count": 15,
   "metadata": {},
   "outputs": [],
   "source": [
    "# Модель №2\n",
    "processor = BlipProcessor.from_pretrained(\"Salesforce/blip-image-captioning-base\")\n",
    "model = BlipForConditionalGeneration.from_pretrained(\n",
    "    \"Salesforce/blip-image-captioning-base\"\n",
    ")"
   ]
  },
  {
   "cell_type": "code",
   "execution_count": 16,
   "metadata": {},
   "outputs": [
    {
     "name": "stderr",
     "output_type": "stream",
     "text": [
      "/home/nikolai/projects/album_stories/.venv/lib/python3.12/site-packages/transformers/generation/utils.py:1168: UserWarning: Using the model-agnostic default `max_length` (=20) to control the generation length. We recommend setting `max_new_tokens` to control the maximum length of the generation.\n",
      "  warnings.warn(\n"
     ]
    }
   ],
   "source": [
    "predicted_captions = []\n",
    "reference_captions = []\n",
    "\n",
    "for image, captions in ds_sin:\n",
    "    inputs = processor(image, return_tensors=\"pt\")\n",
    "    out = model.generate(**inputs)\n",
    "    predicted_captions.append(processor.decode(out[0], skip_special_tokens=True))\n",
    "    reference_captions.append([captions])"
   ]
  },
  {
   "cell_type": "code",
   "execution_count": 17,
   "metadata": {},
   "outputs": [
    {
     "name": "stdout",
     "output_type": "stream",
     "text": [
      "CIDEr Score: 0.324\n"
     ]
    }
   ],
   "source": [
    "predicted_dict = {i: [caption] for i, caption in enumerate(predicted_captions)}\n",
    "reference_dict = {i: captions for i, captions in enumerate(reference_captions)}\n",
    "\n",
    "cider_scorer = Cider()\n",
    "\n",
    "cider_score, _ = cider_scorer.compute_score(reference_dict, predicted_dict)\n",
    "\n",
    "print(f\"CIDEr Score: {cider_score:.3f}\")"
   ]
  },
  {
   "cell_type": "code",
   "execution_count": 18,
   "metadata": {},
   "outputs": [
    {
     "name": "stderr",
     "output_type": "stream",
     "text": [
      "Some weights of RobertaModel were not initialized from the model checkpoint at roberta-large and are newly initialized: ['roberta.pooler.dense.bias', 'roberta.pooler.dense.weight']\n",
      "You should probably TRAIN this model on a down-stream task to be able to use it for predictions and inference.\n"
     ]
    },
    {
     "name": "stdout",
     "output_type": "stream",
     "text": [
      "BERTScore Precision: 0.951\n",
      "BERTScore Recall: 0.908\n",
      "BERTScore F1: 0.929\n"
     ]
    }
   ],
   "source": [
    "P, R, F1 = score(predicted_captions, reference_captions, lang=\"en\", verbose=False)\n",
    "\n",
    "print(f\"BERTScore Precision: {P.mean().item():.3f}\")\n",
    "print(f\"BERTScore Recall: {R.mean().item():.3f}\")\n",
    "print(f\"BERTScore F1: {F1.mean().item():.3f}\")"
   ]
  },
  {
   "cell_type": "code",
   "execution_count": 19,
   "metadata": {},
   "outputs": [
    {
     "name": "stdout",
     "output_type": "stream",
     "text": [
      "METEOR Score: 0.332\n"
     ]
    }
   ],
   "source": [
    "predicted_captions_tokenized = [\n",
    "    word_tokenize(caption) for caption in predicted_captions\n",
    "]\n",
    "reference_captions_tokenized = [\n",
    "    [word_tokenize(caption) for caption in ref] for ref in reference_captions\n",
    "]\n",
    "\n",
    "scores = [\n",
    "    meteor_score(ref, gen)\n",
    "    for ref, gen in zip(reference_captions_tokenized, predicted_captions_tokenized)\n",
    "]\n",
    "average_score = sum(scores) / len(scores)\n",
    "\n",
    "print(f\"METEOR Score: {average_score:.3f}\")"
   ]
  },
  {
   "cell_type": "code",
   "execution_count": 20,
   "metadata": {},
   "outputs": [
    {
     "name": "stdout",
     "output_type": "stream",
     "text": [
      "ROUGE-1 Scores: {'r': 0.3490476190476191, 'p': 0.7047619047619048, 'f': 0.46401153954640584}\n",
      "ROUGE-2 Scores: {'r': 0.17878787878787877, 'p': 0.37974025974025977, 'f': 0.24167560344166178}\n",
      "ROUGE-l Scores: {'r': 0.3323809523809524, 'p': 0.6714285714285715, 'f': 0.44178931732418364}\n"
     ]
    }
   ],
   "source": [
    "ref_captions = [\". \".join(ref) for ref in reference_captions]\n",
    "\n",
    "rouge = Rouge()\n",
    "\n",
    "scores = rouge.get_scores(predicted_captions, ref_captions, avg=True)\n",
    "\n",
    "print(\"ROUGE-1 Scores:\", scores[\"rouge-1\"])\n",
    "print(\"ROUGE-2 Scores:\", scores[\"rouge-2\"])\n",
    "print(\"ROUGE-l Scores:\", scores[\"rouge-l\"])"
   ]
  },
  {
   "cell_type": "code",
   "execution_count": 21,
   "metadata": {},
   "outputs": [],
   "source": [
    "# Модель №3\n",
    "processor = BlipProcessor.from_pretrained(\"Salesforce/blip-image-captioning-large\")\n",
    "model = BlipForConditionalGeneration.from_pretrained(\n",
    "    \"Salesforce/blip-image-captioning-large\"\n",
    ")"
   ]
  },
  {
   "cell_type": "code",
   "execution_count": 22,
   "metadata": {},
   "outputs": [],
   "source": [
    "predicted_captions = []\n",
    "reference_captions = []\n",
    "\n",
    "for image, captions in ds_sin:\n",
    "    inputs = processor(image, return_tensors=\"pt\")\n",
    "    out = model.generate(**inputs)\n",
    "    predicted_captions.append(processor.decode(out[0], skip_special_tokens=True))\n",
    "    reference_captions.append([captions])"
   ]
  },
  {
   "cell_type": "code",
   "execution_count": 23,
   "metadata": {},
   "outputs": [
    {
     "name": "stdout",
     "output_type": "stream",
     "text": [
      "CIDEr Score: 0.635\n"
     ]
    }
   ],
   "source": [
    "predicted_dict = {i: [caption] for i, caption in enumerate(predicted_captions)}\n",
    "reference_dict = {i: captions for i, captions in enumerate(reference_captions)}\n",
    "\n",
    "cider_scorer = Cider()\n",
    "\n",
    "cider_score, _ = cider_scorer.compute_score(reference_dict, predicted_dict)\n",
    "\n",
    "print(f\"CIDEr Score: {cider_score:.3f}\")"
   ]
  },
  {
   "cell_type": "code",
   "execution_count": 24,
   "metadata": {},
   "outputs": [
    {
     "name": "stderr",
     "output_type": "stream",
     "text": [
      "Some weights of RobertaModel were not initialized from the model checkpoint at roberta-large and are newly initialized: ['roberta.pooler.dense.bias', 'roberta.pooler.dense.weight']\n",
      "You should probably TRAIN this model on a down-stream task to be able to use it for predictions and inference.\n"
     ]
    },
    {
     "name": "stdout",
     "output_type": "stream",
     "text": [
      "BERTScore Precision: 0.919\n",
      "BERTScore Recall: 0.908\n",
      "BERTScore F1: 0.913\n"
     ]
    }
   ],
   "source": [
    "P, R, F1 = score(predicted_captions, reference_captions, lang=\"en\", verbose=False)\n",
    "\n",
    "print(f\"BERTScore Precision: {P.mean().item():.3f}\")\n",
    "print(f\"BERTScore Recall: {R.mean().item():.3f}\")\n",
    "print(f\"BERTScore F1: {F1.mean().item():.3f}\")"
   ]
  },
  {
   "cell_type": "code",
   "execution_count": 25,
   "metadata": {},
   "outputs": [
    {
     "name": "stdout",
     "output_type": "stream",
     "text": [
      "METEOR Score: 0.365\n"
     ]
    }
   ],
   "source": [
    "predicted_captions_tokenized = [\n",
    "    word_tokenize(caption) for caption in predicted_captions\n",
    "]\n",
    "reference_captions_tokenized = [\n",
    "    [word_tokenize(caption) for caption in ref] for ref in reference_captions\n",
    "]\n",
    "\n",
    "scores = [\n",
    "    meteor_score(ref, gen)\n",
    "    for ref, gen in zip(reference_captions_tokenized, predicted_captions_tokenized)\n",
    "]\n",
    "average_score = sum(scores) / len(scores)\n",
    "\n",
    "print(f\"METEOR Score: {average_score:.3f}\")"
   ]
  },
  {
   "cell_type": "code",
   "execution_count": 26,
   "metadata": {},
   "outputs": [
    {
     "name": "stdout",
     "output_type": "stream",
     "text": [
      "ROUGE-1 Scores: {'r': 0.4447619047619047, 'p': 0.6240093240093241, 'f': 0.5105960248857122}\n",
      "ROUGE-2 Scores: {'r': 0.18371212121212122, 'p': 0.3, 'f': 0.22535013627404696}\n",
      "ROUGE-l Scores: {'r': 0.38567099567099566, 'p': 0.5583916083916083, 'f': 0.4494400146555332}\n"
     ]
    }
   ],
   "source": [
    "ref_captions = [\". \".join(ref) for ref in reference_captions]\n",
    "\n",
    "rouge = Rouge()\n",
    "\n",
    "scores = rouge.get_scores(predicted_captions, ref_captions, avg=True)\n",
    "\n",
    "print(\"ROUGE-1 Scores:\", scores[\"rouge-1\"])\n",
    "print(\"ROUGE-2 Scores:\", scores[\"rouge-2\"])\n",
    "print(\"ROUGE-l Scores:\", scores[\"rouge-l\"])"
   ]
  },
  {
   "cell_type": "code",
   "execution_count": null,
   "metadata": {},
   "outputs": [],
   "source": []
  }
 ],
 "metadata": {
  "kernelspec": {
   "display_name": ".venv",
   "language": "python",
   "name": "python3"
  },
  "language_info": {
   "codemirror_mode": {
    "name": "ipython",
    "version": 3
   },
   "file_extension": ".py",
   "mimetype": "text/x-python",
   "name": "python",
   "nbconvert_exporter": "python",
   "pygments_lexer": "ipython3",
   "version": "3.12.3"
  }
 },
 "nbformat": 4,
 "nbformat_minor": 2
}
