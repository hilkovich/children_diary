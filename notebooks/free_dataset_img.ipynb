{
 "cells": [
  {
   "cell_type": "code",
   "execution_count": 52,
   "metadata": {},
   "outputs": [],
   "source": [
    "from datasets import load_dataset"
   ]
  },
  {
   "cell_type": "code",
   "execution_count": 53,
   "metadata": {},
   "outputs": [],
   "source": [
    "ds_flickr30k = load_dataset(\"lmms-lab/flickr30k\")"
   ]
  },
  {
   "cell_type": "code",
   "execution_count": 54,
   "metadata": {},
   "outputs": [],
   "source": [
    "def check_for_children(caption_list):\n",
    "    keywords = [\"child\", \"girl\", \"boy\", \"baby\"]\n",
    "    return any(\n",
    "        keyword in caption.lower() for keyword in keywords for caption in caption_list\n",
    "    )\n",
    "\n",
    "\n",
    "ds_flickr30k[\"test\"] = ds_flickr30k[\"test\"].add_column(\n",
    "    \"has_children\",\n",
    "    [check_for_children(example[\"caption\"]) for example in ds_flickr30k[\"test\"]],\n",
    ")"
   ]
  },
  {
   "cell_type": "code",
   "execution_count": 55,
   "metadata": {},
   "outputs": [
    {
     "data": {
      "text/plain": [
       "DatasetDict({\n",
       "    test: Dataset({\n",
       "        features: ['image', 'caption', 'sentids', 'img_id', 'filename', 'has_children'],\n",
       "        num_rows: 31783\n",
       "    })\n",
       "})"
      ]
     },
     "execution_count": 55,
     "metadata": {},
     "output_type": "execute_result"
    }
   ],
   "source": [
    "ds_flickr30k"
   ]
  },
  {
   "cell_type": "code",
   "execution_count": 56,
   "metadata": {},
   "outputs": [
    {
     "name": "stderr",
     "output_type": "stream",
     "text": [
      "Filter: 100%|██████████| 31783/31783 [00:44<00:00, 707.20 examples/s]\n"
     ]
    }
   ],
   "source": [
    "filter_ds_flickr30k = ds_flickr30k[\"test\"].filter(\n",
    "    lambda example: example[\"has_children\"]\n",
    ")"
   ]
  },
  {
   "cell_type": "code",
   "execution_count": 59,
   "metadata": {},
   "outputs": [],
   "source": [
    "filter_ds_flickr30k = filter_ds_flickr30k.remove_columns(\"sentids\")"
   ]
  },
  {
   "cell_type": "code",
   "execution_count": 60,
   "metadata": {},
   "outputs": [
    {
     "data": {
      "text/plain": [
       "Dataset({\n",
       "    features: ['image', 'caption', 'img_id', 'filename', 'has_children'],\n",
       "    num_rows: 10361\n",
       "})"
      ]
     },
     "execution_count": 60,
     "metadata": {},
     "output_type": "execute_result"
    }
   ],
   "source": [
    "filter_ds_flickr30k"
   ]
  },
  {
   "cell_type": "code",
   "execution_count": 61,
   "metadata": {},
   "outputs": [
    {
     "name": "stderr",
     "output_type": "stream",
     "text": [
      "Saving the dataset (3/3 shards): 100%|██████████| 10361/10361 [00:01<00:00, 7122.50 examples/s]\n"
     ]
    }
   ],
   "source": [
    "filter_ds_flickr30k.save_to_disk(\"datasets/flickr30k_children.json\")"
   ]
  },
  {
   "cell_type": "code",
   "execution_count": null,
   "metadata": {},
   "outputs": [],
   "source": []
  }
 ],
 "metadata": {
  "kernelspec": {
   "display_name": ".venv",
   "language": "python",
   "name": "python3"
  },
  "language_info": {
   "codemirror_mode": {
    "name": "ipython",
    "version": 3
   },
   "file_extension": ".py",
   "mimetype": "text/x-python",
   "name": "python",
   "nbconvert_exporter": "python",
   "pygments_lexer": "ipython3",
   "version": "3.12.3"
  }
 },
 "nbformat": 4,
 "nbformat_minor": 2
}
