{
 "cells": [
  {
   "cell_type": "code",
   "execution_count": 2,
   "metadata": {},
   "outputs": [],
   "source": [
    "from datasets import load_dataset\n",
    "from transformers import BlipProcessor, BlipForConditionalGeneration\n",
    "from rouge import Rouge\n",
    "from bert_score import score\n",
    "from nltk.tokenize import word_tokenize\n",
    "from nltk.translate.meteor_score import meteor_score\n",
    "from pycocoevalcap.cider.cider import Cider"
   ]
  },
  {
   "cell_type": "code",
   "execution_count": 4,
   "metadata": {},
   "outputs": [
    {
     "data": {
      "text/plain": [
       "DatasetDict({\n",
       "    test: Dataset({\n",
       "        features: ['image', 'caption', 'sentids', 'img_id', 'filename'],\n",
       "        num_rows: 31783\n",
       "    })\n",
       "})"
      ]
     },
     "execution_count": 4,
     "metadata": {},
     "output_type": "execute_result"
    }
   ],
   "source": [
    "ds_flickr30k = load_dataset(\"lmms-lab/flickr30k\")\n",
    "\n",
    "ds_flickr30k"
   ]
  },
  {
   "cell_type": "code",
   "execution_count": 5,
   "metadata": {},
   "outputs": [],
   "source": [
    "def check_for_children(caption_list):\n",
    "    keywords = [\"child\", \"girl\", \"boy\", \"baby\"]\n",
    "    return any(\n",
    "        keyword in caption.lower() for keyword in keywords for caption in caption_list\n",
    "    )"
   ]
  },
  {
   "cell_type": "code",
   "execution_count": 6,
   "metadata": {},
   "outputs": [
    {
     "data": {
      "text/plain": [
       "Dataset({\n",
       "    features: ['image', 'caption', 'img_id', 'filename'],\n",
       "    num_rows: 10361\n",
       "})"
      ]
     },
     "execution_count": 6,
     "metadata": {},
     "output_type": "execute_result"
    }
   ],
   "source": [
    "ds_flickr30k[\"test\"] = ds_flickr30k[\"test\"].add_column(\n",
    "    \"has_children\",\n",
    "    [check_for_children(example[\"caption\"]) for example in ds_flickr30k[\"test\"]],\n",
    ")\n",
    "\n",
    "filter_ds_flickr30k = ds_flickr30k[\"test\"].filter(\n",
    "    lambda example: example[\"has_children\"]\n",
    ")\n",
    "filter_ds_flickr30k = filter_ds_flickr30k.remove_columns([\"sentids\", \"has_children\"])\n",
    "\n",
    "filter_ds_flickr30k"
   ]
  },
  {
   "cell_type": "code",
   "execution_count": 7,
   "metadata": {},
   "outputs": [],
   "source": [
    "# Модель №1\n",
    "processor = BlipProcessor.from_pretrained(\"abhijit2111/Pic2Story\")\n",
    "model = BlipForConditionalGeneration.from_pretrained(\"abhijit2111/Pic2Story\")"
   ]
  },
  {
   "cell_type": "code",
   "execution_count": 19,
   "metadata": {},
   "outputs": [],
   "source": [
    "predicted_captions = []\n",
    "reference_captions = []\n",
    "\n",
    "for i in range(5):\n",
    "    inputs = processor(filter_ds_flickr30k[i][\"image\"], return_tensors=\"pt\")\n",
    "    out = model.generate(**inputs)\n",
    "    predicted_captions.append(processor.decode(out[0], skip_special_tokens=True))\n",
    "    reference_captions.append(filter_ds_flickr30k[i][\"caption\"])"
   ]
  },
  {
   "cell_type": "code",
   "execution_count": 21,
   "metadata": {},
   "outputs": [
    {
     "name": "stdout",
     "output_type": "stream",
     "text": [
      "CIDEr Score: 0.209\n"
     ]
    }
   ],
   "source": [
    "predicted_dict = {i: [caption] for i, caption in enumerate(predicted_captions)}\n",
    "reference_dict = {i: captions for i, captions in enumerate(reference_captions)}\n",
    "\n",
    "cider_scorer = Cider()\n",
    "\n",
    "cider_score, _ = cider_scorer.compute_score(reference_dict, predicted_dict)\n",
    "\n",
    "print(f\"CIDEr Score: {cider_score:.3f}\")"
   ]
  },
  {
   "cell_type": "code",
   "execution_count": 22,
   "metadata": {},
   "outputs": [
    {
     "name": "stderr",
     "output_type": "stream",
     "text": [
      "Some weights of RobertaModel were not initialized from the model checkpoint at roberta-large and are newly initialized: ['roberta.pooler.dense.bias', 'roberta.pooler.dense.weight']\n",
      "You should probably TRAIN this model on a down-stream task to be able to use it for predictions and inference.\n"
     ]
    },
    {
     "name": "stdout",
     "output_type": "stream",
     "text": [
      "BERTScore Precision: 0.892\n",
      "BERTScore Recall: 0.918\n",
      "BERTScore F1: 0.901\n"
     ]
    }
   ],
   "source": [
    "P, R, F1 = score(predicted_captions, reference_captions, lang=\"en\", verbose=False)\n",
    "\n",
    "print(f\"BERTScore Precision: {P.mean().item():.3f}\")\n",
    "print(f\"BERTScore Recall: {R.mean().item():.3f}\")\n",
    "print(f\"BERTScore F1: {F1.mean().item():.3f}\")"
   ]
  },
  {
   "cell_type": "code",
   "execution_count": 23,
   "metadata": {},
   "outputs": [
    {
     "name": "stdout",
     "output_type": "stream",
     "text": [
      "METEOR Score: 0.366\n"
     ]
    }
   ],
   "source": [
    "predicted_captions_tokenized = [\n",
    "    word_tokenize(caption) for caption in predicted_captions\n",
    "]\n",
    "reference_captions_tokenized = [\n",
    "    [word_tokenize(caption) for caption in ref] for ref in reference_captions\n",
    "]\n",
    "\n",
    "scores = [\n",
    "    meteor_score(ref, gen)\n",
    "    for ref, gen in zip(reference_captions_tokenized, predicted_captions_tokenized)\n",
    "]\n",
    "average_score = sum(scores) / len(scores)\n",
    "\n",
    "print(f\"METEOR Score: {average_score:.3f}\")"
   ]
  },
  {
   "cell_type": "code",
   "execution_count": 24,
   "metadata": {},
   "outputs": [
    {
     "name": "stdout",
     "output_type": "stream",
     "text": [
      "ROUGE-1 Scores: {'r': 0.2724145557162635, 'p': 0.507704678362573, 'f': 0.35370769543976177}\n",
      "ROUGE-2 Scores: {'r': 0.04073425603819765, 'p': 0.09726084373143198, 'f': 0.057134230101694584}\n",
      "ROUGE-l Scores: {'r': 0.2659629428130377, 'p': 0.49717836257309944, 'f': 0.34570769543976176}\n"
     ]
    }
   ],
   "source": [
    "ref_captions = [\". \".join(ref) for ref in reference_captions]\n",
    "\n",
    "rouge = Rouge()\n",
    "\n",
    "scores = rouge.get_scores(predicted_captions, ref_captions, avg=True)\n",
    "\n",
    "print(\"ROUGE-1 Scores:\", scores[\"rouge-1\"])\n",
    "print(\"ROUGE-2 Scores:\", scores[\"rouge-2\"])\n",
    "print(\"ROUGE-l Scores:\", scores[\"rouge-l\"])"
   ]
  },
  {
   "cell_type": "code",
   "execution_count": 25,
   "metadata": {},
   "outputs": [],
   "source": [
    "# Модель №2\n",
    "processor = BlipProcessor.from_pretrained(\"Salesforce/blip-image-captioning-base\")\n",
    "model = BlipForConditionalGeneration.from_pretrained(\n",
    "    \"Salesforce/blip-image-captioning-base\"\n",
    ")"
   ]
  },
  {
   "cell_type": "code",
   "execution_count": 26,
   "metadata": {},
   "outputs": [
    {
     "name": "stderr",
     "output_type": "stream",
     "text": [
      "/home/nikolai/projects/album_stories/.venv/lib/python3.12/site-packages/transformers/generation/utils.py:1168: UserWarning: Using the model-agnostic default `max_length` (=20) to control the generation length. We recommend setting `max_new_tokens` to control the maximum length of the generation.\n",
      "  warnings.warn(\n"
     ]
    }
   ],
   "source": [
    "predicted_captions = []\n",
    "reference_captions = []\n",
    "\n",
    "for i in range(5):\n",
    "    inputs = processor(filter_ds_flickr30k[i][\"image\"], return_tensors=\"pt\")\n",
    "    out = model.generate(**inputs)\n",
    "    predicted_captions.append(processor.decode(out[0], skip_special_tokens=True))\n",
    "    reference_captions.append(filter_ds_flickr30k[i][\"caption\"])"
   ]
  },
  {
   "cell_type": "code",
   "execution_count": 27,
   "metadata": {},
   "outputs": [
    {
     "name": "stdout",
     "output_type": "stream",
     "text": [
      "CIDEr Score: 0.346\n"
     ]
    }
   ],
   "source": [
    "predicted_dict = {i: [caption] for i, caption in enumerate(predicted_captions)}\n",
    "reference_dict = {i: captions for i, captions in enumerate(reference_captions)}\n",
    "\n",
    "cider_scorer = Cider()\n",
    "\n",
    "cider_score, _ = cider_scorer.compute_score(reference_dict, predicted_dict)\n",
    "\n",
    "print(f\"CIDEr Score: {cider_score:.3f}\")"
   ]
  },
  {
   "cell_type": "code",
   "execution_count": 28,
   "metadata": {},
   "outputs": [
    {
     "name": "stderr",
     "output_type": "stream",
     "text": [
      "Some weights of RobertaModel were not initialized from the model checkpoint at roberta-large and are newly initialized: ['roberta.pooler.dense.bias', 'roberta.pooler.dense.weight']\n",
      "You should probably TRAIN this model on a down-stream task to be able to use it for predictions and inference.\n"
     ]
    },
    {
     "name": "stdout",
     "output_type": "stream",
     "text": [
      "BERTScore Precision: 0.928\n",
      "BERTScore Recall: 0.893\n",
      "BERTScore F1: 0.907\n"
     ]
    }
   ],
   "source": [
    "P, R, F1 = score(predicted_captions, reference_captions, lang=\"en\", verbose=False)\n",
    "\n",
    "print(f\"BERTScore Precision: {P.mean().item():.3f}\")\n",
    "print(f\"BERTScore Recall: {R.mean().item():.3f}\")\n",
    "print(f\"BERTScore F1: {F1.mean().item():.3f}\")"
   ]
  },
  {
   "cell_type": "code",
   "execution_count": 29,
   "metadata": {},
   "outputs": [
    {
     "name": "stdout",
     "output_type": "stream",
     "text": [
      "METEOR Score: 0.192\n"
     ]
    }
   ],
   "source": [
    "predicted_captions_tokenized = [\n",
    "    word_tokenize(caption) for caption in predicted_captions\n",
    "]\n",
    "reference_captions_tokenized = [\n",
    "    [word_tokenize(caption) for caption in ref] for ref in reference_captions\n",
    "]\n",
    "\n",
    "scores = [\n",
    "    meteor_score(ref, gen)\n",
    "    for ref, gen in zip(reference_captions_tokenized, predicted_captions_tokenized)\n",
    "]\n",
    "average_score = sum(scores) / len(scores)\n",
    "\n",
    "print(f\"METEOR Score: {average_score:.3f}\")"
   ]
  },
  {
   "cell_type": "code",
   "execution_count": 30,
   "metadata": {},
   "outputs": [
    {
     "name": "stdout",
     "output_type": "stream",
     "text": [
      "ROUGE-1 Scores: {'r': 0.10647240172856871, 'p': 0.6366666666666667, 'f': 0.18059141901856915}\n",
      "ROUGE-2 Scores: {'r': 0.02631578947368421, 'p': 0.16666666666666669, 'f': 0.045454544983471075}\n",
      "ROUGE-l Scores: {'r': 0.10059004878739224, 'p': 0.5866666666666667, 'f': 0.17006510322909546}\n"
     ]
    }
   ],
   "source": [
    "ref_captions = [\". \".join(ref) for ref in reference_captions]\n",
    "\n",
    "rouge = Rouge()\n",
    "\n",
    "scores = rouge.get_scores(predicted_captions, ref_captions, avg=True)\n",
    "\n",
    "print(\"ROUGE-1 Scores:\", scores[\"rouge-1\"])\n",
    "print(\"ROUGE-2 Scores:\", scores[\"rouge-2\"])\n",
    "print(\"ROUGE-l Scores:\", scores[\"rouge-l\"])"
   ]
  },
  {
   "cell_type": "code",
   "execution_count": 31,
   "metadata": {},
   "outputs": [],
   "source": [
    "# Модель №3\n",
    "processor = BlipProcessor.from_pretrained(\"Salesforce/blip-image-captioning-large\")\n",
    "model = BlipForConditionalGeneration.from_pretrained(\n",
    "    \"Salesforce/blip-image-captioning-large\"\n",
    ")"
   ]
  },
  {
   "cell_type": "code",
   "execution_count": 32,
   "metadata": {},
   "outputs": [],
   "source": [
    "predicted_captions = []\n",
    "reference_captions = []\n",
    "\n",
    "for i in range(5):\n",
    "    inputs = processor(filter_ds_flickr30k[i][\"image\"], return_tensors=\"pt\")\n",
    "    out = model.generate(**inputs)\n",
    "    predicted_captions.append(processor.decode(out[0], skip_special_tokens=True))\n",
    "    reference_captions.append(filter_ds_flickr30k[i][\"caption\"])"
   ]
  },
  {
   "cell_type": "code",
   "execution_count": 33,
   "metadata": {},
   "outputs": [
    {
     "name": "stdout",
     "output_type": "stream",
     "text": [
      "CIDEr Score: 0.383\n"
     ]
    }
   ],
   "source": [
    "predicted_dict = {i: [caption] for i, caption in enumerate(predicted_captions)}\n",
    "reference_dict = {i: captions for i, captions in enumerate(reference_captions)}\n",
    "\n",
    "cider_scorer = Cider()\n",
    "\n",
    "cider_score, _ = cider_scorer.compute_score(reference_dict, predicted_dict)\n",
    "\n",
    "print(f\"CIDEr Score: {cider_score:.3f}\")"
   ]
  },
  {
   "cell_type": "code",
   "execution_count": 34,
   "metadata": {},
   "outputs": [
    {
     "name": "stderr",
     "output_type": "stream",
     "text": [
      "Some weights of RobertaModel were not initialized from the model checkpoint at roberta-large and are newly initialized: ['roberta.pooler.dense.bias', 'roberta.pooler.dense.weight']\n",
      "You should probably TRAIN this model on a down-stream task to be able to use it for predictions and inference.\n"
     ]
    },
    {
     "name": "stdout",
     "output_type": "stream",
     "text": [
      "BERTScore Precision: 0.904\n",
      "BERTScore Recall: 0.915\n",
      "BERTScore F1: 0.908\n"
     ]
    }
   ],
   "source": [
    "P, R, F1 = score(predicted_captions, reference_captions, lang=\"en\", verbose=False)\n",
    "\n",
    "print(f\"BERTScore Precision: {P.mean().item():.3f}\")\n",
    "print(f\"BERTScore Recall: {R.mean().item():.3f}\")\n",
    "print(f\"BERTScore F1: {F1.mean().item():.3f}\")"
   ]
  },
  {
   "cell_type": "code",
   "execution_count": 35,
   "metadata": {},
   "outputs": [
    {
     "name": "stdout",
     "output_type": "stream",
     "text": [
      "METEOR Score: 0.350\n"
     ]
    }
   ],
   "source": [
    "predicted_captions_tokenized = [\n",
    "    word_tokenize(caption) for caption in predicted_captions\n",
    "]\n",
    "reference_captions_tokenized = [\n",
    "    [word_tokenize(caption) for caption in ref] for ref in reference_captions\n",
    "]\n",
    "\n",
    "scores = [\n",
    "    meteor_score(ref, gen)\n",
    "    for ref, gen in zip(reference_captions_tokenized, predicted_captions_tokenized)\n",
    "]\n",
    "average_score = sum(scores) / len(scores)\n",
    "\n",
    "print(f\"METEOR Score: {average_score:.3f}\")"
   ]
  },
  {
   "cell_type": "code",
   "execution_count": 36,
   "metadata": {},
   "outputs": [
    {
     "name": "stdout",
     "output_type": "stream",
     "text": [
      "ROUGE-1 Scores: {'r': 0.18589854168601797, 'p': 0.53, 'f': 0.27445342968105413}\n",
      "ROUGE-2 Scores: {'r': 0.022641206675224644, 'p': 0.08818181818181818, 'f': 0.036006400594121316}\n",
      "ROUGE-l Scores: {'r': 0.1800161887448415, 'p': 0.51, 'f': 0.26536252059014503}\n"
     ]
    }
   ],
   "source": [
    "ref_captions = [\". \".join(ref) for ref in reference_captions]\n",
    "\n",
    "rouge = Rouge()\n",
    "\n",
    "scores = rouge.get_scores(predicted_captions, ref_captions, avg=True)\n",
    "\n",
    "print(\"ROUGE-1 Scores:\", scores[\"rouge-1\"])\n",
    "print(\"ROUGE-2 Scores:\", scores[\"rouge-2\"])\n",
    "print(\"ROUGE-l Scores:\", scores[\"rouge-l\"])"
   ]
  },
  {
   "cell_type": "code",
   "execution_count": null,
   "metadata": {},
   "outputs": [],
   "source": []
  }
 ],
 "metadata": {
  "kernelspec": {
   "display_name": ".venv",
   "language": "python",
   "name": "python3"
  },
  "language_info": {
   "codemirror_mode": {
    "name": "ipython",
    "version": 3
   },
   "file_extension": ".py",
   "mimetype": "text/x-python",
   "name": "python",
   "nbconvert_exporter": "python",
   "pygments_lexer": "ipython3",
   "version": "3.12.3"
  }
 },
 "nbformat": 4,
 "nbformat_minor": 2
}
