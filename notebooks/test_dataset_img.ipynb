{
 "cells": [
  {
   "cell_type": "code",
   "execution_count": 43,
   "metadata": {},
   "outputs": [],
   "source": [
    "from PIL import Image\n",
    "from rouge import Rouge\n",
    "from bert_score import score\n",
    "from torch.utils.data import Dataset\n",
    "from nltk.tokenize import word_tokenize\n",
    "from nltk.translate.meteor_score import meteor_score\n",
    "from transformers import BlipProcessor, BlipForConditionalGeneration\n",
    "from pycocoevalcap.cider.cider import Cider"
   ]
  },
  {
   "cell_type": "code",
   "execution_count": 44,
   "metadata": {},
   "outputs": [],
   "source": [
    "class MultiCaptionImageDataset(Dataset):\n",
    "    def __init__(self, image_dir, caption_file, transform=None):\n",
    "        self.image_dir = image_dir\n",
    "        self.image_ids, self.captions = self.load_captions(caption_file)\n",
    "        self.transform = transform\n",
    "\n",
    "    def __len__(self):\n",
    "        return len(self.image_ids)\n",
    "\n",
    "    def __getitem__(self, idx):\n",
    "        image_id = self.image_ids[idx]\n",
    "        image = Image.open(f\"{self.image_dir}/{image_id}\")\n",
    "\n",
    "        if self.transform:\n",
    "            image = self.transform(image)\n",
    "\n",
    "        captions = self.captions[idx]\n",
    "        processed_captions = [self.preprocess_caption(caption) for caption in captions]\n",
    "\n",
    "        return image, processed_captions\n",
    "\n",
    "    def load_captions(self, caption_file):\n",
    "        image_ids = []\n",
    "        captions = []\n",
    "        with open(caption_file, \"r\") as file:\n",
    "            for line in file:\n",
    "                parts = line.split(\";\")\n",
    "                image_id = parts[0]\n",
    "                caption = parts[1]\n",
    "                if image_id not in image_ids:\n",
    "                    image_ids.append(image_id)\n",
    "                    captions.append([])\n",
    "                captions[image_ids.index(image_id)].append(caption)\n",
    "        return image_ids, captions\n",
    "\n",
    "    def preprocess_caption(self, caption):\n",
    "        tokens = word_tokenize(caption.lower())\n",
    "        processed_caption = \" \".join(tokens)\n",
    "        return processed_caption"
   ]
  },
  {
   "cell_type": "code",
   "execution_count": 45,
   "metadata": {},
   "outputs": [],
   "source": [
    "sin_dir = \"datasets/sin_dataset_img\"\n",
    "\n",
    "image_dir = f\"{sin_dir}/images\"\n",
    "caption_file = f\"{sin_dir}/captions.txt\"\n",
    "\n",
    "dataset = MultiCaptionImageDataset(image_dir, caption_file)"
   ]
  },
  {
   "cell_type": "code",
   "execution_count": 46,
   "metadata": {},
   "outputs": [],
   "source": [
    "# Модель №1\n",
    "processor = BlipProcessor.from_pretrained(\"abhijit2111/Pic2Story\")\n",
    "model = BlipForConditionalGeneration.from_pretrained(\"abhijit2111/Pic2Story\")"
   ]
  },
  {
   "cell_type": "code",
   "execution_count": 37,
   "metadata": {},
   "outputs": [],
   "source": [
    "# Модель №2\n",
    "processor = BlipProcessor.from_pretrained(\"Salesforce/blip-image-captioning-base\")\n",
    "model = BlipForConditionalGeneration.from_pretrained(\n",
    "    \"Salesforce/blip-image-captioning-base\"\n",
    ")"
   ]
  },
  {
   "cell_type": "code",
   "execution_count": 38,
   "metadata": {},
   "outputs": [],
   "source": [
    "# Модель №3\n",
    "processor = BlipProcessor.from_pretrained(\"Salesforce/blip-image-captioning-large\")\n",
    "model = BlipForConditionalGeneration.from_pretrained(\n",
    "    \"Salesforce/blip-image-captioning-large\"\n",
    ")"
   ]
  },
  {
   "cell_type": "code",
   "execution_count": 47,
   "metadata": {},
   "outputs": [],
   "source": [
    "generated_captions = []\n",
    "reference_captions = []\n",
    "\n",
    "for image, captions in dataset:\n",
    "    inputs = processor(image, return_tensors=\"pt\")\n",
    "    out = model.generate(**inputs, max_length=200)\n",
    "    generated_captions.append(processor.decode(out[0], skip_special_tokens=True))\n",
    "    reference_captions.append(captions)"
   ]
  },
  {
   "cell_type": "code",
   "execution_count": 49,
   "metadata": {},
   "outputs": [
    {
     "name": "stdout",
     "output_type": "stream",
     "text": [
      "CIDEr Score: 8.200\n"
     ]
    }
   ],
   "source": [
    "references = {i: caption for i, caption in enumerate(reference_captions)}\n",
    "candidates = {i: [caption] for i, caption in enumerate(generated_captions)}\n",
    "\n",
    "cider_scorer = Cider()\n",
    "\n",
    "cider_score, _ = cider_scorer.compute_score(references, candidates)\n",
    "\n",
    "print(f\"CIDEr Score: {cider_score:.3f}\")"
   ]
  },
  {
   "cell_type": "code",
   "execution_count": 50,
   "metadata": {},
   "outputs": [
    {
     "name": "stdout",
     "output_type": "stream",
     "text": [
      "ROUGE-1 Scores: {'r': 1.0, 'p': 0.8888888888888888, 'f': 0.9333333284000002}\n",
      "ROUGE-2 Scores: {'r': 0.9722222222222222, 'p': 0.8703703703703703, 'f': 0.9111111061777778}\n",
      "ROUGE-l Scores: {'r': 1.0, 'p': 0.8888888888888888, 'f': 0.9333333284000002}\n"
     ]
    }
   ],
   "source": [
    "reference_captions = [\". \".join(ref) for ref in reference_captions]\n",
    "\n",
    "rouge = Rouge()\n",
    "\n",
    "scores = rouge.get_scores(generated_captions, reference_captions, avg=True)\n",
    "\n",
    "print(\"ROUGE-1 Scores:\", scores[\"rouge-1\"])\n",
    "print(\"ROUGE-2 Scores:\", scores[\"rouge-2\"])\n",
    "print(\"ROUGE-l Scores:\", scores[\"rouge-l\"])"
   ]
  },
  {
   "cell_type": "code",
   "execution_count": 51,
   "metadata": {},
   "outputs": [
    {
     "name": "stdout",
     "output_type": "stream",
     "text": [
      "METEOR Score: 0.167\n"
     ]
    }
   ],
   "source": [
    "generated_captions_tokenized = [\n",
    "    word_tokenize(caption) for caption in generated_captions\n",
    "]\n",
    "reference_captions_tokenized = [\n",
    "    [word_tokenize(caption) for caption in ref] for ref in reference_captions\n",
    "]\n",
    "\n",
    "scores = [\n",
    "    meteor_score(ref, gen)\n",
    "    for ref, gen in zip(reference_captions_tokenized, generated_captions_tokenized)\n",
    "]\n",
    "average_score = sum(scores) / len(scores)\n",
    "\n",
    "print(f\"METEOR Score: {average_score:.3f}\")"
   ]
  },
  {
   "cell_type": "code",
   "execution_count": 52,
   "metadata": {},
   "outputs": [
    {
     "name": "stderr",
     "output_type": "stream",
     "text": [
      "Some weights of RobertaModel were not initialized from the model checkpoint at roberta-large and are newly initialized: ['roberta.pooler.dense.bias', 'roberta.pooler.dense.weight']\n",
      "You should probably TRAIN this model on a down-stream task to be able to use it for predictions and inference.\n"
     ]
    },
    {
     "name": "stdout",
     "output_type": "stream",
     "text": [
      "BERTScore Precision: 0.981\n",
      "BERTScore Recall: 0.996\n",
      "BERTScore F1: 0.988\n"
     ]
    }
   ],
   "source": [
    "P, R, F1 = score(generated_captions, reference_captions, lang=\"en\", verbose=False)\n",
    "\n",
    "print(f\"BERTScore Precision: {P.mean().item():.3f}\")\n",
    "print(f\"BERTScore Recall: {R.mean().item():.3f}\")\n",
    "print(f\"BERTScore F1: {F1.mean().item():.3f}\")"
   ]
  },
  {
   "cell_type": "code",
   "execution_count": null,
   "metadata": {},
   "outputs": [],
   "source": []
  }
 ],
 "metadata": {
  "kernelspec": {
   "display_name": ".packages-venv",
   "language": "python",
   "name": "python3"
  },
  "language_info": {
   "codemirror_mode": {
    "name": "ipython",
    "version": 3
   },
   "file_extension": ".py",
   "mimetype": "text/x-python",
   "name": "python",
   "nbconvert_exporter": "python",
   "pygments_lexer": "ipython3",
   "version": "3.12.3"
  }
 },
 "nbformat": 4,
 "nbformat_minor": 2
}
