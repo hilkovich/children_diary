{
 "cells": [
  {
   "cell_type": "code",
   "execution_count": 2,
   "metadata": {},
   "outputs": [],
   "source": [
    "import os\n",
    "import wandb\n",
    "import pandas as pd\n",
    "from PIL import Image\n",
    "from torch.utils.data import Dataset\n",
    "from transformers import BlipProcessor, BlipForConditionalGeneration\n",
    "from nltk.tokenize import word_tokenize\n",
    "from nltk.translate.meteor_score import meteor_score\n",
    "from pycocoevalcap.cider.cider import Cider\n",
    "from collections import Counter"
   ]
  },
  {
   "cell_type": "code",
   "execution_count": 3,
   "metadata": {},
   "outputs": [],
   "source": [
    "# Кастомный класс создания синтетического датасета\n",
    "class CustomDataset(Dataset):\n",
    "    def __init__(self, data_dir, data, transform=None):\n",
    "        self.data_dir = data_dir\n",
    "        self.data = data\n",
    "        self.transform = transform\n",
    "        self.images = [os.path.join(data_dir, img) for img in os.listdir(data_dir)]\n",
    "\n",
    "    def __len__(self):\n",
    "        return len(self.images)\n",
    "\n",
    "    def __getitem__(self, idx):\n",
    "        image_path = self.images[idx]\n",
    "        image, caption = loader(image_path, self.data)\n",
    "        if self.transform:\n",
    "            image = self.transform(image)\n",
    "        return image, caption\n",
    "\n",
    "\n",
    "def loader(path, data):\n",
    "    image = Image.open(path)\n",
    "    caption = data.loc[data[\"image\"] == os.path.basename(path), \"caption\"].values[0]\n",
    "    return image, caption"
   ]
  },
  {
   "cell_type": "code",
   "execution_count": 4,
   "metadata": {},
   "outputs": [],
   "source": [
    "data_dir = \"datasets/sin_dataset_img\"\n",
    "\n",
    "data = pd.read_csv(f\"{data_dir}/captions.csv\")\n",
    "\n",
    "ds_sin = CustomDataset(f\"{data_dir}/images\", data)"
   ]
  },
  {
   "cell_type": "code",
   "execution_count": 5,
   "metadata": {},
   "outputs": [],
   "source": [
    "# Функция расчета метрики CIDEr\n",
    "def metric_cider(predicted_captions, reference_captions):\n",
    "    predicted_dict = {i: [caption] for i, caption in enumerate(predicted_captions)}\n",
    "    reference_dict = {i: captions for i, captions in enumerate(reference_captions)}\n",
    "\n",
    "    cider_scorer = Cider()\n",
    "\n",
    "    cider_score, _ = cider_scorer.compute_score(reference_dict, predicted_dict)\n",
    "\n",
    "    return cider_score"
   ]
  },
  {
   "cell_type": "code",
   "execution_count": 7,
   "metadata": {},
   "outputs": [],
   "source": [
    "# Функция расчета метрики METEOR\n",
    "def metric_meteor(predicted_captions, reference_captions):\n",
    "    predicted_captions_tokenized = [\n",
    "        word_tokenize(caption) for caption in predicted_captions\n",
    "    ]\n",
    "    reference_captions_tokenized = [\n",
    "        [word_tokenize(caption) for caption in ref] for ref in reference_captions\n",
    "    ]\n",
    "\n",
    "    scores = [\n",
    "        meteor_score(ref, gen)\n",
    "        for ref, gen in zip(reference_captions_tokenized, predicted_captions_tokenized)\n",
    "    ]\n",
    "    average_meteor = sum(scores) / len(scores)\n",
    "\n",
    "    return average_meteor"
   ]
  },
  {
   "cell_type": "code",
   "execution_count": 8,
   "metadata": {},
   "outputs": [],
   "source": [
    "# Функция расчета метрики SPICE\n",
    "def metric_spice(predicted_captions, reference_captions):\n",
    "    spice_scores = []\n",
    "\n",
    "    for gen_caption, ref_captions in zip(predicted_captions, reference_captions):\n",
    "        gen_tokens = word_tokenize(gen_caption.lower())\n",
    "\n",
    "        ref_tokens = [word_tokenize(ref.lower()) for ref in ref_captions]\n",
    "\n",
    "        gen_counter = Counter(gen_tokens)\n",
    "        ref_counters = [Counter(ref) for ref in ref_tokens]\n",
    "\n",
    "        precisions = []\n",
    "        recalls = []\n",
    "        for ref_counter in ref_counters:\n",
    "            common = gen_counter & ref_counter\n",
    "            precisions.append(sum(common.values()) / len(gen_tokens))\n",
    "            recalls.append(sum(common.values()) / len(ref_counter))\n",
    "\n",
    "        precision = sum(precisions) / len(ref_counters)\n",
    "        recall = sum(recalls) / len(ref_counters)\n",
    "        if precision + recall > 0:\n",
    "            spice_score = (precision * recall) / (precision + recall)\n",
    "        else:\n",
    "            spice_score = 0.0\n",
    "\n",
    "        spice_scores.append(spice_score)\n",
    "\n",
    "    average_spice_score = sum(spice_scores) / len(spice_scores)\n",
    "\n",
    "    return average_spice_score"
   ]
  },
  {
   "cell_type": "code",
   "execution_count": 9,
   "metadata": {},
   "outputs": [],
   "source": [
    "# Список моледей от простой к сложной\n",
    "models = {\n",
    "    \"blip_base\": \"Salesforce/blip-image-captioning-base\",\n",
    "    \"blip_large\": \"Salesforce/blip-image-captioning-large\",\n",
    "    \"pic2story\": \"abhijit2111/Pic2Story\",\n",
    "}"
   ]
  },
  {
   "cell_type": "code",
   "execution_count": 10,
   "metadata": {},
   "outputs": [
    {
     "name": "stderr",
     "output_type": "stream",
     "text": [
      "Failed to detect the name of this notebook, you can set it manually with the WANDB_NOTEBOOK_NAME environment variable to enable code saving.\n",
      "\u001b[34m\u001b[1mwandb\u001b[0m: Currently logged in as: \u001b[33mn-hilkovich\u001b[0m. Use \u001b[1m`wandb login --relogin`\u001b[0m to force relogin\n"
     ]
    },
    {
     "data": {
      "text/html": [
       "wandb version 0.17.3 is available!  To upgrade, please run:\n",
       " $ pip install wandb --upgrade"
      ],
      "text/plain": [
       "<IPython.core.display.HTML object>"
      ]
     },
     "metadata": {},
     "output_type": "display_data"
    },
    {
     "data": {
      "text/html": [
       "Tracking run with wandb version 0.17.2"
      ],
      "text/plain": [
       "<IPython.core.display.HTML object>"
      ]
     },
     "metadata": {},
     "output_type": "display_data"
    },
    {
     "data": {
      "text/html": [
       "Run data is saved locally in <code>/home/nikolai/projects/album_stories/notebooks/wandb/run-20240626_130703-krkf39mj</code>"
      ],
      "text/plain": [
       "<IPython.core.display.HTML object>"
      ]
     },
     "metadata": {},
     "output_type": "display_data"
    },
    {
     "data": {
      "text/html": [
       "Syncing run <strong><a href='https://wandb.ai/n-hilkovich/child_diary/runs/krkf39mj' target=\"_blank\">comic-dew-6</a></strong> to <a href='https://wandb.ai/n-hilkovich/child_diary' target=\"_blank\">Weights & Biases</a> (<a href='https://wandb.me/run' target=\"_blank\">docs</a>)<br/>"
      ],
      "text/plain": [
       "<IPython.core.display.HTML object>"
      ]
     },
     "metadata": {},
     "output_type": "display_data"
    },
    {
     "data": {
      "text/html": [
       " View project at <a href='https://wandb.ai/n-hilkovich/child_diary' target=\"_blank\">https://wandb.ai/n-hilkovich/child_diary</a>"
      ],
      "text/plain": [
       "<IPython.core.display.HTML object>"
      ]
     },
     "metadata": {},
     "output_type": "display_data"
    },
    {
     "data": {
      "text/html": [
       " View run at <a href='https://wandb.ai/n-hilkovich/child_diary/runs/krkf39mj' target=\"_blank\">https://wandb.ai/n-hilkovich/child_diary/runs/krkf39mj</a>"
      ],
      "text/plain": [
       "<IPython.core.display.HTML object>"
      ]
     },
     "metadata": {},
     "output_type": "display_data"
    },
    {
     "name": "stderr",
     "output_type": "stream",
     "text": [
      "/home/nikolai/projects/album_stories/.venv/lib/python3.12/site-packages/transformers/generation/utils.py:1168: UserWarning: Using the model-agnostic default `max_length` (=20) to control the generation length. We recommend setting `max_new_tokens` to control the maximum length of the generation.\n",
      "  warnings.warn(\n",
      "Some weights of RobertaModel were not initialized from the model checkpoint at roberta-large and are newly initialized: ['roberta.pooler.dense.bias', 'roberta.pooler.dense.weight']\n",
      "You should probably TRAIN this model on a down-stream task to be able to use it for predictions and inference.\n"
     ]
    },
    {
     "data": {
      "application/vnd.jupyter.widget-view+json": {
       "model_id": "1b8de14a362846118130b2c8f0ced146",
       "version_major": 2,
       "version_minor": 0
      },
      "text/plain": [
       "VBox(children=(Label(value='0.003 MB of 0.003 MB uploaded\\r'), FloatProgress(value=1.0, max=1.0)))"
      ]
     },
     "metadata": {},
     "output_type": "display_data"
    },
    {
     "data": {
      "text/html": [
       "<style>\n",
       "    table.wandb td:nth-child(1) { padding: 0 10px; text-align: left ; width: auto;} td:nth-child(2) {text-align: left ; width: 100%}\n",
       "    .wandb-row { display: flex; flex-direction: row; flex-wrap: wrap; justify-content: flex-start; width: 100% }\n",
       "    .wandb-col { display: flex; flex-direction: column; flex-basis: 100%; flex: 1; padding: 10px; }\n",
       "    </style>\n",
       "<div class=\"wandb-row\"><div class=\"wandb-col\"><h3>Run history:</h3><br/><table class=\"wandb\"><tr><td>BERTScore_F1</td><td>▁</td></tr><tr><td>CIDEr</td><td>▁</td></tr><tr><td>METEOR</td><td>▁</td></tr><tr><td>SPICE</td><td>▁</td></tr></table><br/></div><div class=\"wandb-col\"><h3>Run summary:</h3><br/><table class=\"wandb\"><tr><td>BERTScore_F1</td><td>0.91119</td></tr><tr><td>CIDEr</td><td>0.40045</td></tr><tr><td>METEOR</td><td>0.24829</td></tr><tr><td>SPICE</td><td>0.21557</td></tr></table><br/></div></div>"
      ],
      "text/plain": [
       "<IPython.core.display.HTML object>"
      ]
     },
     "metadata": {},
     "output_type": "display_data"
    },
    {
     "data": {
      "text/html": [
       " View run <strong style=\"color:#cdcd00\">comic-dew-6</strong> at: <a href='https://wandb.ai/n-hilkovich/child_diary/runs/krkf39mj' target=\"_blank\">https://wandb.ai/n-hilkovich/child_diary/runs/krkf39mj</a><br/> View project at: <a href='https://wandb.ai/n-hilkovich/child_diary' target=\"_blank\">https://wandb.ai/n-hilkovich/child_diary</a><br/>Synced 5 W&B file(s), 0 media file(s), 0 artifact file(s) and 0 other file(s)"
      ],
      "text/plain": [
       "<IPython.core.display.HTML object>"
      ]
     },
     "metadata": {},
     "output_type": "display_data"
    },
    {
     "data": {
      "text/html": [
       "Find logs at: <code>./wandb/run-20240626_130703-krkf39mj/logs</code>"
      ],
      "text/plain": [
       "<IPython.core.display.HTML object>"
      ]
     },
     "metadata": {},
     "output_type": "display_data"
    },
    {
     "data": {
      "text/html": [
       "The new W&B backend becomes opt-out in version 0.18.0; try it out with `wandb.require(\"core\")`! See https://wandb.me/wandb-core for more information."
      ],
      "text/plain": [
       "<IPython.core.display.HTML object>"
      ]
     },
     "metadata": {},
     "output_type": "display_data"
    },
    {
     "data": {
      "application/vnd.jupyter.widget-view+json": {
       "model_id": "1be37c0c5778482baffd2247b4313390",
       "version_major": 2,
       "version_minor": 0
      },
      "text/plain": [
       "VBox(children=(Label(value='Waiting for wandb.init()...\\r'), FloatProgress(value=0.0111142495888891, max=1.0))…"
      ]
     },
     "metadata": {},
     "output_type": "display_data"
    },
    {
     "data": {
      "text/html": [
       "wandb version 0.17.3 is available!  To upgrade, please run:\n",
       " $ pip install wandb --upgrade"
      ],
      "text/plain": [
       "<IPython.core.display.HTML object>"
      ]
     },
     "metadata": {},
     "output_type": "display_data"
    },
    {
     "data": {
      "text/html": [
       "Tracking run with wandb version 0.17.2"
      ],
      "text/plain": [
       "<IPython.core.display.HTML object>"
      ]
     },
     "metadata": {},
     "output_type": "display_data"
    },
    {
     "data": {
      "text/html": [
       "Run data is saved locally in <code>/home/nikolai/projects/album_stories/notebooks/wandb/run-20240626_131028-euzmeswr</code>"
      ],
      "text/plain": [
       "<IPython.core.display.HTML object>"
      ]
     },
     "metadata": {},
     "output_type": "display_data"
    },
    {
     "data": {
      "text/html": [
       "Syncing run <strong><a href='https://wandb.ai/n-hilkovich/child_diary/runs/euzmeswr' target=\"_blank\">feasible-meadow-7</a></strong> to <a href='https://wandb.ai/n-hilkovich/child_diary' target=\"_blank\">Weights & Biases</a> (<a href='https://wandb.me/run' target=\"_blank\">docs</a>)<br/>"
      ],
      "text/plain": [
       "<IPython.core.display.HTML object>"
      ]
     },
     "metadata": {},
     "output_type": "display_data"
    },
    {
     "data": {
      "text/html": [
       " View project at <a href='https://wandb.ai/n-hilkovich/child_diary' target=\"_blank\">https://wandb.ai/n-hilkovich/child_diary</a>"
      ],
      "text/plain": [
       "<IPython.core.display.HTML object>"
      ]
     },
     "metadata": {},
     "output_type": "display_data"
    },
    {
     "data": {
      "text/html": [
       " View run at <a href='https://wandb.ai/n-hilkovich/child_diary/runs/euzmeswr' target=\"_blank\">https://wandb.ai/n-hilkovich/child_diary/runs/euzmeswr</a>"
      ],
      "text/plain": [
       "<IPython.core.display.HTML object>"
      ]
     },
     "metadata": {},
     "output_type": "display_data"
    },
    {
     "name": "stderr",
     "output_type": "stream",
     "text": [
      "/home/nikolai/projects/album_stories/.venv/lib/python3.12/site-packages/transformers/generation/utils.py:1168: UserWarning: Using the model-agnostic default `max_length` (=20) to control the generation length. We recommend setting `max_new_tokens` to control the maximum length of the generation.\n",
      "  warnings.warn(\n",
      "Some weights of RobertaModel were not initialized from the model checkpoint at roberta-large and are newly initialized: ['roberta.pooler.dense.bias', 'roberta.pooler.dense.weight']\n",
      "You should probably TRAIN this model on a down-stream task to be able to use it for predictions and inference.\n"
     ]
    },
    {
     "data": {
      "application/vnd.jupyter.widget-view+json": {
       "model_id": "bea52e89625449888830bba39c2a2d3d",
       "version_major": 2,
       "version_minor": 0
      },
      "text/plain": [
       "VBox(children=(Label(value='0.003 MB of 0.003 MB uploaded\\r'), FloatProgress(value=1.0, max=1.0)))"
      ]
     },
     "metadata": {},
     "output_type": "display_data"
    },
    {
     "data": {
      "text/html": [
       "<style>\n",
       "    table.wandb td:nth-child(1) { padding: 0 10px; text-align: left ; width: auto;} td:nth-child(2) {text-align: left ; width: 100%}\n",
       "    .wandb-row { display: flex; flex-direction: row; flex-wrap: wrap; justify-content: flex-start; width: 100% }\n",
       "    .wandb-col { display: flex; flex-direction: column; flex-basis: 100%; flex: 1; padding: 10px; }\n",
       "    </style>\n",
       "<div class=\"wandb-row\"><div class=\"wandb-col\"><h3>Run history:</h3><br/><table class=\"wandb\"><tr><td>BERTScore_F1</td><td>▁</td></tr><tr><td>CIDEr</td><td>▁</td></tr><tr><td>METEOR</td><td>▁</td></tr><tr><td>SPICE</td><td>▁</td></tr></table><br/></div><div class=\"wandb-col\"><h3>Run summary:</h3><br/><table class=\"wandb\"><tr><td>BERTScore_F1</td><td>0.90736</td></tr><tr><td>CIDEr</td><td>0.654</td></tr><tr><td>METEOR</td><td>0.30281</td></tr><tr><td>SPICE</td><td>0.24125</td></tr></table><br/></div></div>"
      ],
      "text/plain": [
       "<IPython.core.display.HTML object>"
      ]
     },
     "metadata": {},
     "output_type": "display_data"
    },
    {
     "data": {
      "text/html": [
       " View run <strong style=\"color:#cdcd00\">feasible-meadow-7</strong> at: <a href='https://wandb.ai/n-hilkovich/child_diary/runs/euzmeswr' target=\"_blank\">https://wandb.ai/n-hilkovich/child_diary/runs/euzmeswr</a><br/> View project at: <a href='https://wandb.ai/n-hilkovich/child_diary' target=\"_blank\">https://wandb.ai/n-hilkovich/child_diary</a><br/>Synced 5 W&B file(s), 0 media file(s), 0 artifact file(s) and 0 other file(s)"
      ],
      "text/plain": [
       "<IPython.core.display.HTML object>"
      ]
     },
     "metadata": {},
     "output_type": "display_data"
    },
    {
     "data": {
      "text/html": [
       "Find logs at: <code>./wandb/run-20240626_131028-euzmeswr/logs</code>"
      ],
      "text/plain": [
       "<IPython.core.display.HTML object>"
      ]
     },
     "metadata": {},
     "output_type": "display_data"
    },
    {
     "data": {
      "text/html": [
       "The new W&B backend becomes opt-out in version 0.18.0; try it out with `wandb.require(\"core\")`! See https://wandb.me/wandb-core for more information."
      ],
      "text/plain": [
       "<IPython.core.display.HTML object>"
      ]
     },
     "metadata": {},
     "output_type": "display_data"
    },
    {
     "data": {
      "application/vnd.jupyter.widget-view+json": {
       "model_id": "62fff2efd5654a21b510628ed2fbb9ae",
       "version_major": 2,
       "version_minor": 0
      },
      "text/plain": [
       "VBox(children=(Label(value='Waiting for wandb.init()...\\r'), FloatProgress(value=0.011114127522222992, max=1.0…"
      ]
     },
     "metadata": {},
     "output_type": "display_data"
    },
    {
     "data": {
      "text/html": [
       "wandb version 0.17.3 is available!  To upgrade, please run:\n",
       " $ pip install wandb --upgrade"
      ],
      "text/plain": [
       "<IPython.core.display.HTML object>"
      ]
     },
     "metadata": {},
     "output_type": "display_data"
    },
    {
     "data": {
      "text/html": [
       "Tracking run with wandb version 0.17.2"
      ],
      "text/plain": [
       "<IPython.core.display.HTML object>"
      ]
     },
     "metadata": {},
     "output_type": "display_data"
    },
    {
     "data": {
      "text/html": [
       "Run data is saved locally in <code>/home/nikolai/projects/album_stories/notebooks/wandb/run-20240626_131806-62cgeg2j</code>"
      ],
      "text/plain": [
       "<IPython.core.display.HTML object>"
      ]
     },
     "metadata": {},
     "output_type": "display_data"
    },
    {
     "data": {
      "text/html": [
       "Syncing run <strong><a href='https://wandb.ai/n-hilkovich/child_diary/runs/62cgeg2j' target=\"_blank\">sunny-shape-8</a></strong> to <a href='https://wandb.ai/n-hilkovich/child_diary' target=\"_blank\">Weights & Biases</a> (<a href='https://wandb.me/run' target=\"_blank\">docs</a>)<br/>"
      ],
      "text/plain": [
       "<IPython.core.display.HTML object>"
      ]
     },
     "metadata": {},
     "output_type": "display_data"
    },
    {
     "data": {
      "text/html": [
       " View project at <a href='https://wandb.ai/n-hilkovich/child_diary' target=\"_blank\">https://wandb.ai/n-hilkovich/child_diary</a>"
      ],
      "text/plain": [
       "<IPython.core.display.HTML object>"
      ]
     },
     "metadata": {},
     "output_type": "display_data"
    },
    {
     "data": {
      "text/html": [
       " View run at <a href='https://wandb.ai/n-hilkovich/child_diary/runs/62cgeg2j' target=\"_blank\">https://wandb.ai/n-hilkovich/child_diary/runs/62cgeg2j</a>"
      ],
      "text/plain": [
       "<IPython.core.display.HTML object>"
      ]
     },
     "metadata": {},
     "output_type": "display_data"
    },
    {
     "name": "stderr",
     "output_type": "stream",
     "text": [
      "Some weights of RobertaModel were not initialized from the model checkpoint at roberta-large and are newly initialized: ['roberta.pooler.dense.bias', 'roberta.pooler.dense.weight']\n",
      "You should probably TRAIN this model on a down-stream task to be able to use it for predictions and inference.\n"
     ]
    },
    {
     "data": {
      "application/vnd.jupyter.widget-view+json": {
       "model_id": "d3fdedd93e704fb185cb041d2f595e39",
       "version_major": 2,
       "version_minor": 0
      },
      "text/plain": [
       "VBox(children=(Label(value='0.003 MB of 0.003 MB uploaded\\r'), FloatProgress(value=1.0, max=1.0)))"
      ]
     },
     "metadata": {},
     "output_type": "display_data"
    },
    {
     "data": {
      "text/html": [
       "<style>\n",
       "    table.wandb td:nth-child(1) { padding: 0 10px; text-align: left ; width: auto;} td:nth-child(2) {text-align: left ; width: 100%}\n",
       "    .wandb-row { display: flex; flex-direction: row; flex-wrap: wrap; justify-content: flex-start; width: 100% }\n",
       "    .wandb-col { display: flex; flex-direction: column; flex-basis: 100%; flex: 1; padding: 10px; }\n",
       "    </style>\n",
       "<div class=\"wandb-row\"><div class=\"wandb-col\"><h3>Run history:</h3><br/><table class=\"wandb\"><tr><td>BERTScore_F1</td><td>▁</td></tr><tr><td>CIDEr</td><td>▁</td></tr><tr><td>METEOR</td><td>▁</td></tr><tr><td>SPICE</td><td>▁</td></tr></table><br/></div><div class=\"wandb-col\"><h3>Run summary:</h3><br/><table class=\"wandb\"><tr><td>BERTScore_F1</td><td>0.90835</td></tr><tr><td>CIDEr</td><td>1.02592</td></tr><tr><td>METEOR</td><td>0.38718</td></tr><tr><td>SPICE</td><td>0.26395</td></tr></table><br/></div></div>"
      ],
      "text/plain": [
       "<IPython.core.display.HTML object>"
      ]
     },
     "metadata": {},
     "output_type": "display_data"
    },
    {
     "data": {
      "text/html": [
       " View run <strong style=\"color:#cdcd00\">sunny-shape-8</strong> at: <a href='https://wandb.ai/n-hilkovich/child_diary/runs/62cgeg2j' target=\"_blank\">https://wandb.ai/n-hilkovich/child_diary/runs/62cgeg2j</a><br/> View project at: <a href='https://wandb.ai/n-hilkovich/child_diary' target=\"_blank\">https://wandb.ai/n-hilkovich/child_diary</a><br/>Synced 5 W&B file(s), 0 media file(s), 0 artifact file(s) and 0 other file(s)"
      ],
      "text/plain": [
       "<IPython.core.display.HTML object>"
      ]
     },
     "metadata": {},
     "output_type": "display_data"
    },
    {
     "data": {
      "text/html": [
       "Find logs at: <code>./wandb/run-20240626_131806-62cgeg2j/logs</code>"
      ],
      "text/plain": [
       "<IPython.core.display.HTML object>"
      ]
     },
     "metadata": {},
     "output_type": "display_data"
    },
    {
     "data": {
      "text/html": [
       "The new W&B backend becomes opt-out in version 0.18.0; try it out with `wandb.require(\"core\")`! See https://wandb.me/wandb-core for more information."
      ],
      "text/plain": [
       "<IPython.core.display.HTML object>"
      ]
     },
     "metadata": {},
     "output_type": "display_data"
    }
   ],
   "source": [
    "# Цикл предсказания каждой модели с логированием метрик в wandb\n",
    "for name, model_name in models.items():\n",
    "    wandb.init(project=\"child_diary\", group=name, job_type=\"base\")\n",
    "\n",
    "    # Загрузка модели генерации описаний изображений\n",
    "    processor = BlipProcessor.from_pretrained(model_name)\n",
    "    model = BlipForConditionalGeneration.from_pretrained(model_name)\n",
    "\n",
    "    predicted_captions = []\n",
    "    reference_captions = []\n",
    "\n",
    "    # Выполнение предсказания модели\n",
    "    for image, captions in ds_sin:\n",
    "        inputs = processor(image, return_tensors=\"pt\")\n",
    "        out = model.generate(**inputs)\n",
    "        predicted_captions.append(processor.decode(out[0], skip_special_tokens=True))\n",
    "        reference_captions.append([captions])\n",
    "\n",
    "    wandb.log(\n",
    "        {\n",
    "            \"CIDEr\": metric_cider(predicted_captions, reference_captions),\n",
    "            \"METEOR\": metric_meteor(predicted_captions, reference_captions),\n",
    "            \"SPICE\": metric_spice(predicted_captions, reference_captions),\n",
    "        }\n",
    "    )\n",
    "\n",
    "    wandb.finish()"
   ]
  },
  {
   "cell_type": "code",
   "execution_count": null,
   "metadata": {},
   "outputs": [],
   "source": []
  }
 ],
 "metadata": {
  "kernelspec": {
   "display_name": "DataSphere Kernel",
   "language": "python",
   "name": "python3"
  },
  "language_info": {
   "codemirror_mode": {
    "name": "ipython",
    "version": 3
   },
   "file_extension": ".py",
   "mimetype": "text/x-python",
   "name": "python",
   "nbconvert_exporter": "python",
   "pygments_lexer": "ipython3",
   "version": "3.12.3"
  }
 },
 "nbformat": 4,
 "nbformat_minor": 2
}
