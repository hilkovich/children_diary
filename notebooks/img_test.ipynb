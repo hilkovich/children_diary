{
 "cells": [
  {
   "cell_type": "code",
   "execution_count": 43,
   "metadata": {},
   "outputs": [],
   "source": [
    "import os\n",
    "import wandb\n",
    "import pandas as pd\n",
    "from PIL import Image\n",
    "from torch.utils.data import Dataset\n",
    "from datasets import load_dataset, concatenate_datasets\n",
    "from transformers import BlipProcessor, BlipForConditionalGeneration\n",
    "from bert_score import score\n",
    "from nltk.tokenize import word_tokenize\n",
    "from nltk.translate.meteor_score import meteor_score\n",
    "from pycocoevalcap.cider.cider import Cider\n",
    "from collections import Counter"
   ]
  },
  {
   "cell_type": "code",
   "execution_count": 25,
   "metadata": {},
   "outputs": [
    {
     "data": {
      "text/plain": [
       "DatasetDict({\n",
       "    test: Dataset({\n",
       "        features: ['image', 'caption', 'sentids', 'img_id', 'filename'],\n",
       "        num_rows: 31783\n",
       "    })\n",
       "})"
      ]
     },
     "execution_count": 25,
     "metadata": {},
     "output_type": "execute_result"
    }
   ],
   "source": [
    "ds_flickr30k = load_dataset(\"lmms-lab/flickr30k\")\n",
    "\n",
    "ds_flickr30k"
   ]
  },
  {
   "cell_type": "code",
   "execution_count": 26,
   "metadata": {},
   "outputs": [],
   "source": [
    "def check_for_children(caption_list):\n",
    "    keywords = [\"child\", \"girl\", \"boy\", \"baby\"]\n",
    "    return any(\n",
    "        keyword in caption.lower() for keyword in keywords for caption in caption_list\n",
    "    )"
   ]
  },
  {
   "cell_type": "code",
   "execution_count": 27,
   "metadata": {},
   "outputs": [
    {
     "data": {
      "text/plain": [
       "Dataset({\n",
       "    features: ['image', 'caption'],\n",
       "    num_rows: 10361\n",
       "})"
      ]
     },
     "execution_count": 27,
     "metadata": {},
     "output_type": "execute_result"
    }
   ],
   "source": [
    "ds_flickr30k[\"test\"] = ds_flickr30k[\"test\"].add_column(\n",
    "    \"has_children\",\n",
    "    [check_for_children(example[\"caption\"]) for example in ds_flickr30k[\"test\"]],\n",
    ")\n",
    "\n",
    "filter_ds_flickr30k = ds_flickr30k[\"test\"].filter(\n",
    "    lambda example: example[\"has_children\"]\n",
    ")\n",
    "filter_ds_flickr30k = filter_ds_flickr30k.remove_columns(\n",
    "    [\"sentids\", \"has_children\", \"img_id\", \"filename\"]\n",
    ")\n",
    "\n",
    "filter_ds_flickr30k"
   ]
  },
  {
   "cell_type": "code",
   "execution_count": 28,
   "metadata": {},
   "outputs": [
    {
     "data": {
      "text/plain": [
       "DatasetDict({\n",
       "    validation: Dataset({\n",
       "        features: ['image', 'image_coco_url', 'image_date_captured', 'image_file_name', 'image_height', 'image_width', 'image_id', 'image_license', 'image_open_images_id', 'annotations_ids', 'annotations_captions'],\n",
       "        num_rows: 4500\n",
       "    })\n",
       "    test: Dataset({\n",
       "        features: ['image', 'image_coco_url', 'image_date_captured', 'image_file_name', 'image_height', 'image_width', 'image_id', 'image_license', 'image_open_images_id', 'annotations_ids', 'annotations_captions'],\n",
       "        num_rows: 10600\n",
       "    })\n",
       "})"
      ]
     },
     "execution_count": 28,
     "metadata": {},
     "output_type": "execute_result"
    }
   ],
   "source": [
    "ds_nocaps = load_dataset(\"lmms-lab/NoCaps\")\n",
    "\n",
    "ds_nocaps"
   ]
  },
  {
   "cell_type": "code",
   "execution_count": 29,
   "metadata": {},
   "outputs": [
    {
     "data": {
      "text/plain": [
       "Dataset({\n",
       "    features: ['image', 'caption'],\n",
       "    num_rows: 667\n",
       "})"
      ]
     },
     "execution_count": 29,
     "metadata": {},
     "output_type": "execute_result"
    }
   ],
   "source": [
    "ds_nocaps[\"validation\"] = ds_nocaps[\"validation\"].add_column(\n",
    "    \"has_children\",\n",
    "    [\n",
    "        check_for_children(example[\"annotations_captions\"])\n",
    "        for example in ds_nocaps[\"validation\"]\n",
    "    ],\n",
    ")\n",
    "\n",
    "filter_ds_nocaps = ds_nocaps[\"validation\"].filter(\n",
    "    lambda example: example[\"has_children\"]\n",
    ")\n",
    "filter_ds_nocaps = filter_ds_nocaps.remove_columns(\n",
    "    [\n",
    "        \"annotations_ids\",\n",
    "        \"has_children\",\n",
    "        \"image_open_images_id\",\n",
    "        \"image_license\",\n",
    "        \"image_width\",\n",
    "        \"image_height\",\n",
    "        \"image_date_captured\",\n",
    "        \"image_coco_url\",\n",
    "        \"image_file_name\",\n",
    "        \"image_id\",\n",
    "    ]\n",
    ")\n",
    "\n",
    "filter_ds_nocaps = filter_ds_nocaps.rename_columns({\"annotations_captions\": \"caption\"})\n",
    "\n",
    "filter_ds_nocaps"
   ]
  },
  {
   "cell_type": "code",
   "execution_count": 30,
   "metadata": {},
   "outputs": [
    {
     "data": {
      "text/plain": [
       "Dataset({\n",
       "    features: ['image', 'caption'],\n",
       "    num_rows: 11028\n",
       "})"
      ]
     },
     "execution_count": 30,
     "metadata": {},
     "output_type": "execute_result"
    }
   ],
   "source": [
    "ds_train = concatenate_datasets([filter_ds_flickr30k, filter_ds_nocaps])\n",
    "\n",
    "ds_train"
   ]
  },
  {
   "cell_type": "code",
   "execution_count": 32,
   "metadata": {},
   "outputs": [
    {
     "data": {
      "application/vnd.jupyter.widget-view+json": {
       "model_id": "63e38aa832cc46cf9031803105b1e99f",
       "version_major": 2,
       "version_minor": 0
      },
      "text/plain": [
       "Saving the dataset (0/4 shards):   0%|          | 0/11028 [00:00<?, ? examples/s]"
      ]
     },
     "metadata": {},
     "output_type": "display_data"
    }
   ],
   "source": [
    "ds_train.save_to_disk(\"datasets/ds_train\")"
   ]
  },
  {
   "cell_type": "code",
   "execution_count": 33,
   "metadata": {},
   "outputs": [],
   "source": [
    "class CustomDataset(Dataset):\n",
    "    def __init__(self, data_dir, data, transform=None):\n",
    "        self.data_dir = data_dir\n",
    "        self.data = data\n",
    "        self.transform = transform\n",
    "        self.images = [os.path.join(data_dir, img) for img in os.listdir(data_dir)]\n",
    "\n",
    "    def __len__(self):\n",
    "        return len(self.images)\n",
    "\n",
    "    def __getitem__(self, idx):\n",
    "        image_path = self.images[idx]\n",
    "        image, caption = loader(image_path, self.data)\n",
    "        if self.transform:\n",
    "            image = self.transform(image)\n",
    "        return image, caption\n",
    "\n",
    "\n",
    "def loader(path, data):\n",
    "    image = Image.open(path)\n",
    "    caption = data.loc[data[\"image\"] == os.path.basename(path), \"caption\"].values[0]\n",
    "    return image, caption"
   ]
  },
  {
   "cell_type": "code",
   "execution_count": 34,
   "metadata": {},
   "outputs": [],
   "source": [
    "data_dir = \"datasets/sin_dataset_img\"\n",
    "\n",
    "data = pd.read_csv(f\"{data_dir}/captions.csv\")\n",
    "\n",
    "ds_sin = CustomDataset(f\"{data_dir}/images\", data)"
   ]
  },
  {
   "cell_type": "code",
   "execution_count": 35,
   "metadata": {},
   "outputs": [],
   "source": [
    "def metric_cider(predicted_captions, reference_captions):\n",
    "    predicted_dict = {i: [caption] for i, caption in enumerate(predicted_captions)}\n",
    "    reference_dict = {i: captions for i, captions in enumerate(reference_captions)}\n",
    "\n",
    "    cider_scorer = Cider()\n",
    "\n",
    "    cider_score, _ = cider_scorer.compute_score(reference_dict, predicted_dict)\n",
    "\n",
    "    return cider_score"
   ]
  },
  {
   "cell_type": "code",
   "execution_count": 36,
   "metadata": {},
   "outputs": [],
   "source": [
    "def metric_bertscore(predicted_captions, reference_captions):\n",
    "    P, R, F1 = score(predicted_captions, reference_captions, lang=\"en\", verbose=False)\n",
    "\n",
    "    BERTScore_F1 = F1.mean().item()\n",
    "\n",
    "    return BERTScore_F1"
   ]
  },
  {
   "cell_type": "code",
   "execution_count": 37,
   "metadata": {},
   "outputs": [],
   "source": [
    "def metric_meteor(predicted_captions, reference_captions):\n",
    "    predicted_captions_tokenized = [\n",
    "        word_tokenize(caption) for caption in predicted_captions\n",
    "    ]\n",
    "    reference_captions_tokenized = [\n",
    "        [word_tokenize(caption) for caption in ref] for ref in reference_captions\n",
    "    ]\n",
    "\n",
    "    scores = [\n",
    "        meteor_score(ref, gen)\n",
    "        for ref, gen in zip(reference_captions_tokenized, predicted_captions_tokenized)\n",
    "    ]\n",
    "    average_meteor = sum(scores) / len(scores)\n",
    "\n",
    "    return average_meteor"
   ]
  },
  {
   "cell_type": "code",
   "execution_count": 38,
   "metadata": {},
   "outputs": [],
   "source": [
    "def metric_spice(predicted_captions, reference_captions):\n",
    "    spice_scores = []\n",
    "\n",
    "    for gen_caption, ref_captions in zip(predicted_captions, reference_captions):\n",
    "        gen_tokens = word_tokenize(gen_caption.lower())\n",
    "\n",
    "        ref_tokens = [word_tokenize(ref.lower()) for ref in ref_captions]\n",
    "\n",
    "        gen_counter = Counter(gen_tokens)\n",
    "        ref_counters = [Counter(ref) for ref in ref_tokens]\n",
    "\n",
    "        precisions = []\n",
    "        recalls = []\n",
    "        for ref_counter in ref_counters:\n",
    "            common = gen_counter & ref_counter\n",
    "            precisions.append(sum(common.values()) / len(gen_tokens))\n",
    "            recalls.append(sum(common.values()) / len(ref_counter))\n",
    "\n",
    "        precision = sum(precisions) / len(ref_counters)\n",
    "        recall = sum(recalls) / len(ref_counters)\n",
    "        if precision + recall > 0:\n",
    "            spice_score = (precision * recall) / (precision + recall)\n",
    "        else:\n",
    "            spice_score = 0.0\n",
    "\n",
    "        spice_scores.append(spice_score)\n",
    "\n",
    "    average_spice_score = sum(spice_scores) / len(spice_scores)\n",
    "\n",
    "    return average_spice_score"
   ]
  },
  {
   "cell_type": "code",
   "execution_count": 44,
   "metadata": {},
   "outputs": [],
   "source": [
    "models = {\n",
    "    \"blip_base\": \"Salesforce/blip-image-captioning-base\",\n",
    "    \"blip_large\": \"Salesforce/blip-image-captioning-large\",\n",
    "    \"pic2story\": \"abhijit2111/Pic2Story\",\n",
    "}"
   ]
  },
  {
   "cell_type": "code",
   "execution_count": 15,
   "metadata": {},
   "outputs": [],
   "source": [
    "for name, model_name in models:\n",
    "    wandb.init(project=\"child_diary\", group=name, job_type=\"base\")\n",
    "\n",
    "    processor = BlipProcessor.from_pretrained(model_name)\n",
    "    model = BlipForConditionalGeneration.from_pretrained(model_name)\n",
    "\n",
    "    predicted_captions = []\n",
    "    reference_captions = []\n",
    "\n",
    "    for image, captions in ds_sin:\n",
    "        inputs = processor(image, return_tensors=\"pt\").to(\"cuda\")\n",
    "        out = model.generate(**inputs)\n",
    "        predicted_captions.append(processor.decode(out[0], skip_special_tokens=True))\n",
    "        reference_captions.append([captions])\n",
    "\n",
    "    wandb.log(\n",
    "        {\n",
    "            \"CIDEr\": metric_cider(predicted_captions, reference_captions),\n",
    "            \"BERTScore_F1\": metric_bertscore(predicted_captions, reference_captions),\n",
    "            \"METEOR\": metric_meteor(predicted_captions, reference_captions),\n",
    "            \"SPICE\": metric_spice(predicted_captions, reference_captions),\n",
    "        }\n",
    "    )\n",
    "\n",
    "    wandb.finish()"
   ]
  },
  {
   "cell_type": "code",
   "execution_count": null,
   "metadata": {},
   "outputs": [],
   "source": []
  }
 ],
 "metadata": {
  "kernelspec": {
   "display_name": ".venv",
   "language": "python",
   "name": "python3"
  },
  "language_info": {
   "codemirror_mode": {
    "name": "ipython",
    "version": 3
   },
   "file_extension": ".py",
   "mimetype": "text/x-python",
   "name": "python",
   "nbconvert_exporter": "python",
   "pygments_lexer": "ipython3",
   "version": "3.12.3"
  }
 },
 "nbformat": 4,
 "nbformat_minor": 2
}
