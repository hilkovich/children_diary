{
 "cells": [
  {
   "cell_type": "code",
   "execution_count": 1,
   "metadata": {},
   "outputs": [],
   "source": [
    "import os\n",
    "import wandb\n",
    "import pandas as pd\n",
    "from PIL import Image\n",
    "from time import time\n",
    "from evaluate import load\n",
    "from torch.utils.data import Dataset\n",
    "from transformers import BlipProcessor, BlipForConditionalGeneration\n",
    "from transformers import AutoProcessor, AutoModelForCausalLM"
   ]
  },
  {
   "cell_type": "code",
   "execution_count": 2,
   "metadata": {},
   "outputs": [],
   "source": [
    "# Кастомный класс создания синтетического датасета\n",
    "class CustomDataset(Dataset):\n",
    "    def __init__(self, data_dir, data, transform=None):\n",
    "        self.data_dir = data_dir\n",
    "        self.data = data\n",
    "        self.transform = transform\n",
    "        self.images = [os.path.join(data_dir, img) for img in os.listdir(data_dir)]\n",
    "\n",
    "    def __len__(self):\n",
    "        return len(self.images)\n",
    "\n",
    "    def __getitem__(self, idx):\n",
    "        image_path = self.images[idx]\n",
    "        image, caption = loader(image_path, self.data)\n",
    "        if self.transform:\n",
    "            image = self.transform(image)\n",
    "        return image, caption\n",
    "\n",
    "\n",
    "def loader(path, data):\n",
    "    image = Image.open(path)\n",
    "    caption = data.loc[data[\"image\"] == os.path.basename(path), \"caption\"].values[0]\n",
    "    return image, caption"
   ]
  },
  {
   "cell_type": "code",
   "execution_count": 3,
   "metadata": {},
   "outputs": [],
   "source": [
    "data_dir = \"datasets/sin_dataset_img\"\n",
    "\n",
    "data = pd.read_csv(f\"{data_dir}/captions.csv\")\n",
    "\n",
    "ds_sin = CustomDataset(f\"{data_dir}/images\", data)"
   ]
  },
  {
   "cell_type": "code",
   "execution_count": 4,
   "metadata": {},
   "outputs": [],
   "source": [
    "# Функция расчета метрики METEOR\n",
    "def metric_meteor(predicted_captions, reference_captions):\n",
    "    meteor = load(\"meteor\")\n",
    "    meteor_avg = meteor.compute(\n",
    "        predictions=predicted_captions, references=reference_captions\n",
    "    )\n",
    "\n",
    "    return meteor_avg"
   ]
  },
  {
   "cell_type": "code",
   "execution_count": 5,
   "metadata": {},
   "outputs": [],
   "source": [
    "# Функция расчета метрики ROUGE\n",
    "def metric_rouge(predicted_captions, reference_captions):\n",
    "    rouge = load(\"rouge\")\n",
    "    rouge_avg = rouge.compute(\n",
    "        predictions=predicted_captions, references=reference_captions\n",
    "    )\n",
    "\n",
    "    return rouge_avg"
   ]
  },
  {
   "cell_type": "code",
   "execution_count": 6,
   "metadata": {},
   "outputs": [],
   "source": [
    "# Функция расчета метрики WER\n",
    "def metric_wer(predicted_captions, reference_captions):\n",
    "    wer = load(\"wer\")\n",
    "    wer_avg = wer.compute(predictions=predicted_captions, references=reference_captions)\n",
    "\n",
    "    return wer_avg"
   ]
  },
  {
   "cell_type": "code",
   "execution_count": 7,
   "metadata": {},
   "outputs": [
    {
     "name": "stderr",
     "output_type": "stream",
     "text": [
      "Failed to detect the name of this notebook, you can set it manually with the WANDB_NOTEBOOK_NAME environment variable to enable code saving.\n"
     ]
    },
    {
     "name": "stderr",
     "output_type": "stream",
     "text": [
      "\u001b[34m\u001b[1mwandb\u001b[0m: Currently logged in as: \u001b[33mn-hilkovich\u001b[0m. Use \u001b[1m`wandb login --relogin`\u001b[0m to force relogin\n"
     ]
    },
    {
     "data": {
      "text/html": [
       "wandb version 0.17.4 is available!  To upgrade, please run:\n",
       " $ pip install wandb --upgrade"
      ],
      "text/plain": [
       "<IPython.core.display.HTML object>"
      ]
     },
     "metadata": {},
     "output_type": "display_data"
    },
    {
     "data": {
      "text/html": [
       "Tracking run with wandb version 0.17.3"
      ],
      "text/plain": [
       "<IPython.core.display.HTML object>"
      ]
     },
     "metadata": {},
     "output_type": "display_data"
    },
    {
     "data": {
      "text/html": [
       "Run data is saved locally in <code>/home/nikolai/projects/album_stories/notebooks/wandb/run-20240704_132447-uu6p9ocw</code>"
      ],
      "text/plain": [
       "<IPython.core.display.HTML object>"
      ]
     },
     "metadata": {},
     "output_type": "display_data"
    },
    {
     "data": {
      "text/html": [
       "Syncing run <strong><a href='https://wandb.ai/n-hilkovich/child_diary/runs/uu6p9ocw' target=\"_blank\">glad-plant-17</a></strong> to <a href='https://wandb.ai/n-hilkovich/child_diary' target=\"_blank\">Weights & Biases</a> (<a href='https://wandb.me/run' target=\"_blank\">docs</a>)<br/>"
      ],
      "text/plain": [
       "<IPython.core.display.HTML object>"
      ]
     },
     "metadata": {},
     "output_type": "display_data"
    },
    {
     "data": {
      "text/html": [
       " View project at <a href='https://wandb.ai/n-hilkovich/child_diary' target=\"_blank\">https://wandb.ai/n-hilkovich/child_diary</a>"
      ],
      "text/plain": [
       "<IPython.core.display.HTML object>"
      ]
     },
     "metadata": {},
     "output_type": "display_data"
    },
    {
     "data": {
      "text/html": [
       " View run at <a href='https://wandb.ai/n-hilkovich/child_diary/runs/uu6p9ocw' target=\"_blank\">https://wandb.ai/n-hilkovich/child_diary/runs/uu6p9ocw</a>"
      ],
      "text/plain": [
       "<IPython.core.display.HTML object>"
      ]
     },
     "metadata": {},
     "output_type": "display_data"
    },
    {
     "name": "stderr",
     "output_type": "stream",
     "text": [
      "[nltk_data] Downloading package wordnet to /home/nikolai/nltk_data...\n",
      "[nltk_data]   Package wordnet is already up-to-date!\n",
      "[nltk_data] Downloading package punkt to /home/nikolai/nltk_data...\n",
      "[nltk_data]   Package punkt is already up-to-date!\n",
      "[nltk_data] Downloading package omw-1.4 to /home/nikolai/nltk_data...\n",
      "[nltk_data]   Package omw-1.4 is already up-to-date!\n"
     ]
    },
    {
     "data": {
      "application/vnd.jupyter.widget-view+json": {
       "model_id": "8e589c4fcb454b9592f048958bfb5eaf",
       "version_major": 2,
       "version_minor": 0
      },
      "text/plain": [
       "VBox(children=(Label(value='0.003 MB of 0.003 MB uploaded\\r'), FloatProgress(value=1.0, max=1.0)))"
      ]
     },
     "metadata": {},
     "output_type": "display_data"
    },
    {
     "data": {
      "text/html": [
       "<style>\n",
       "    table.wandb td:nth-child(1) { padding: 0 10px; text-align: left ; width: auto;} td:nth-child(2) {text-align: left ; width: 100%}\n",
       "    .wandb-row { display: flex; flex-direction: row; flex-wrap: wrap; justify-content: flex-start; width: 100% }\n",
       "    .wandb-col { display: flex; flex-direction: column; flex-basis: 100%; flex: 1; padding: 10px; }\n",
       "    </style>\n",
       "<div class=\"wandb-row\"><div class=\"wandb-col\"><h3>Run history:</h3><br/><table class=\"wandb\"><tr><td>ROUGE-1</td><td>▁</td></tr><tr><td>ROUGE-2</td><td>▁</td></tr><tr><td>ROUGE-L</td><td>▁</td></tr><tr><td>Speed 1 image</td><td>▁</td></tr><tr><td>WER</td><td>▁</td></tr></table><br/></div><div class=\"wandb-col\"><h3>Run summary:</h3><br/><table class=\"wandb\"><tr><td>ROUGE-1</td><td>0.25369</td></tr><tr><td>ROUGE-2</td><td>0.08123</td></tr><tr><td>ROUGE-L</td><td>0.23948</td></tr><tr><td>Speed 1 image</td><td>1.84151</td></tr><tr><td>WER</td><td>0.87461</td></tr></table><br/></div></div>"
      ],
      "text/plain": [
       "<IPython.core.display.HTML object>"
      ]
     },
     "metadata": {},
     "output_type": "display_data"
    },
    {
     "data": {
      "text/html": [
       " View run <strong style=\"color:#cdcd00\">glad-plant-17</strong> at: <a href='https://wandb.ai/n-hilkovich/child_diary/runs/uu6p9ocw' target=\"_blank\">https://wandb.ai/n-hilkovich/child_diary/runs/uu6p9ocw</a><br/> View project at: <a href='https://wandb.ai/n-hilkovich/child_diary' target=\"_blank\">https://wandb.ai/n-hilkovich/child_diary</a><br/>Synced 5 W&B file(s), 0 media file(s), 0 artifact file(s) and 0 other file(s)"
      ],
      "text/plain": [
       "<IPython.core.display.HTML object>"
      ]
     },
     "metadata": {},
     "output_type": "display_data"
    },
    {
     "data": {
      "text/html": [
       "Find logs at: <code>./wandb/run-20240704_132447-uu6p9ocw/logs</code>"
      ],
      "text/plain": [
       "<IPython.core.display.HTML object>"
      ]
     },
     "metadata": {},
     "output_type": "display_data"
    },
    {
     "data": {
      "text/html": [
       "The new W&B backend becomes opt-out in version 0.18.0; try it out with `wandb.require(\"core\")`! See https://wandb.me/wandb-core for more information."
      ],
      "text/plain": [
       "<IPython.core.display.HTML object>"
      ]
     },
     "metadata": {},
     "output_type": "display_data"
    }
   ],
   "source": [
    "# Простая модель генерации описания изображений (показатели снимались на GPU V100)\n",
    "model_name = \"microsoft/git-base\"\n",
    "\n",
    "wandb.init(project=\"child_diary\", group=model_name, job_type=\"base\")\n",
    "\n",
    "# Загрузка модели генерации описаний изображений\n",
    "processor = AutoProcessor.from_pretrained(model_name)\n",
    "model = AutoModelForCausalLM.from_pretrained(model_name)\n",
    "\n",
    "predicted_captions = []\n",
    "reference_captions = []\n",
    "\n",
    "start_time = time()\n",
    "\n",
    "# Выполнение предсказания модели\n",
    "for image, captions in ds_sin:\n",
    "    pixel_values = processor(images=image, return_tensors=\"pt\").pixel_values\n",
    "    generated_ids = model.generate(pixel_values=pixel_values, max_length=50)\n",
    "    pred_caption = processor.batch_decode(generated_ids, skip_special_tokens=True)[0]\n",
    "\n",
    "    predicted_captions.append(pred_caption)\n",
    "    reference_captions.append(captions)\n",
    "\n",
    "end_time = time()\n",
    "\n",
    "rouge_result = metric_rouge(predicted_captions, reference_captions)\n",
    "\n",
    "wandb.log(\n",
    "    {\n",
    "        \"METEOR\": metric_meteor(predicted_captions, reference_captions),\n",
    "        \"ROUGE-1\": rouge_result[\"rouge1\"],\n",
    "        \"ROUGE-2\": rouge_result[\"rouge2\"],\n",
    "        \"ROUGE-L\": rouge_result[\"rougeL\"],\n",
    "        \"WER\": metric_wer(predicted_captions, reference_captions),\n",
    "        \"Speed 1 image\": (end_time - start_time) / len(ds_sin),\n",
    "    }\n",
    ")\n",
    "\n",
    "wandb.finish()"
   ]
  },
  {
   "cell_type": "code",
   "execution_count": 8,
   "metadata": {},
   "outputs": [
    {
     "data": {
      "text/html": [
       "wandb version 0.17.4 is available!  To upgrade, please run:\n",
       " $ pip install wandb --upgrade"
      ],
      "text/plain": [
       "<IPython.core.display.HTML object>"
      ]
     },
     "metadata": {},
     "output_type": "display_data"
    },
    {
     "data": {
      "text/html": [
       "Tracking run with wandb version 0.17.3"
      ],
      "text/plain": [
       "<IPython.core.display.HTML object>"
      ]
     },
     "metadata": {},
     "output_type": "display_data"
    },
    {
     "data": {
      "text/html": [
       "Run data is saved locally in <code>/home/nikolai/projects/album_stories/notebooks/wandb/run-20240704_133124-n2eacygy</code>"
      ],
      "text/plain": [
       "<IPython.core.display.HTML object>"
      ]
     },
     "metadata": {},
     "output_type": "display_data"
    },
    {
     "data": {
      "text/html": [
       "Syncing run <strong><a href='https://wandb.ai/n-hilkovich/child_diary/runs/n2eacygy' target=\"_blank\">gallant-bird-18</a></strong> to <a href='https://wandb.ai/n-hilkovich/child_diary' target=\"_blank\">Weights & Biases</a> (<a href='https://wandb.me/run' target=\"_blank\">docs</a>)<br/>"
      ],
      "text/plain": [
       "<IPython.core.display.HTML object>"
      ]
     },
     "metadata": {},
     "output_type": "display_data"
    },
    {
     "data": {
      "text/html": [
       " View project at <a href='https://wandb.ai/n-hilkovich/child_diary' target=\"_blank\">https://wandb.ai/n-hilkovich/child_diary</a>"
      ],
      "text/plain": [
       "<IPython.core.display.HTML object>"
      ]
     },
     "metadata": {},
     "output_type": "display_data"
    },
    {
     "data": {
      "text/html": [
       " View run at <a href='https://wandb.ai/n-hilkovich/child_diary/runs/n2eacygy' target=\"_blank\">https://wandb.ai/n-hilkovich/child_diary/runs/n2eacygy</a>"
      ],
      "text/plain": [
       "<IPython.core.display.HTML object>"
      ]
     },
     "metadata": {},
     "output_type": "display_data"
    },
    {
     "name": "stderr",
     "output_type": "stream",
     "text": [
      "/home/nikolai/projects/album_stories/.venv/lib/python3.12/site-packages/transformers/generation/utils.py:1249: UserWarning: Using the model-agnostic default `max_length` (=20) to control the generation length. We recommend setting `max_new_tokens` to control the maximum length of the generation.\n",
      "  warnings.warn(\n",
      "[nltk_data] Downloading package wordnet to /home/nikolai/nltk_data...\n",
      "[nltk_data]   Package wordnet is already up-to-date!\n",
      "[nltk_data] Downloading package punkt to /home/nikolai/nltk_data...\n",
      "[nltk_data]   Package punkt is already up-to-date!\n",
      "[nltk_data] Downloading package omw-1.4 to /home/nikolai/nltk_data...\n",
      "[nltk_data]   Package omw-1.4 is already up-to-date!\n"
     ]
    },
    {
     "data": {
      "application/vnd.jupyter.widget-view+json": {
       "model_id": "114110ee953044c5bbdc8e6704090cb9",
       "version_major": 2,
       "version_minor": 0
      },
      "text/plain": [
       "VBox(children=(Label(value='0.003 MB of 0.003 MB uploaded\\r'), FloatProgress(value=1.0, max=1.0)))"
      ]
     },
     "metadata": {},
     "output_type": "display_data"
    },
    {
     "data": {
      "text/html": [
       "<style>\n",
       "    table.wandb td:nth-child(1) { padding: 0 10px; text-align: left ; width: auto;} td:nth-child(2) {text-align: left ; width: 100%}\n",
       "    .wandb-row { display: flex; flex-direction: row; flex-wrap: wrap; justify-content: flex-start; width: 100% }\n",
       "    .wandb-col { display: flex; flex-direction: column; flex-basis: 100%; flex: 1; padding: 10px; }\n",
       "    </style>\n",
       "<div class=\"wandb-row\"><div class=\"wandb-col\"><h3>Run history:</h3><br/><table class=\"wandb\"><tr><td>ROUGE-1</td><td>▁</td></tr><tr><td>ROUGE-2</td><td>▁</td></tr><tr><td>ROUGE-L</td><td>▁</td></tr><tr><td>Speed 1 image</td><td>▁</td></tr><tr><td>WER</td><td>▁</td></tr></table><br/></div><div class=\"wandb-col\"><h3>Run summary:</h3><br/><table class=\"wandb\"><tr><td>ROUGE-1</td><td>0.44335</td></tr><tr><td>ROUGE-2</td><td>0.19654</td></tr><tr><td>ROUGE-L</td><td>0.36868</td></tr><tr><td>Speed 1 image</td><td>2.94832</td></tr><tr><td>WER</td><td>0.80062</td></tr></table><br/></div></div>"
      ],
      "text/plain": [
       "<IPython.core.display.HTML object>"
      ]
     },
     "metadata": {},
     "output_type": "display_data"
    },
    {
     "data": {
      "text/html": [
       " View run <strong style=\"color:#cdcd00\">gallant-bird-18</strong> at: <a href='https://wandb.ai/n-hilkovich/child_diary/runs/n2eacygy' target=\"_blank\">https://wandb.ai/n-hilkovich/child_diary/runs/n2eacygy</a><br/> View project at: <a href='https://wandb.ai/n-hilkovich/child_diary' target=\"_blank\">https://wandb.ai/n-hilkovich/child_diary</a><br/>Synced 5 W&B file(s), 0 media file(s), 0 artifact file(s) and 0 other file(s)"
      ],
      "text/plain": [
       "<IPython.core.display.HTML object>"
      ]
     },
     "metadata": {},
     "output_type": "display_data"
    },
    {
     "data": {
      "text/html": [
       "Find logs at: <code>./wandb/run-20240704_133124-n2eacygy/logs</code>"
      ],
      "text/plain": [
       "<IPython.core.display.HTML object>"
      ]
     },
     "metadata": {},
     "output_type": "display_data"
    },
    {
     "data": {
      "text/html": [
       "The new W&B backend becomes opt-out in version 0.18.0; try it out with `wandb.require(\"core\")`! See https://wandb.me/wandb-core for more information."
      ],
      "text/plain": [
       "<IPython.core.display.HTML object>"
      ]
     },
     "metadata": {},
     "output_type": "display_data"
    }
   ],
   "source": [
    "# Средняя модель генерации описания изображений (показатели снимались на GPU V100)\n",
    "model_name = \"Salesforce/blip-image-captioning-large\"\n",
    "\n",
    "wandb.init(project=\"child_diary\", group=model_name, job_type=\"base\")\n",
    "\n",
    "# Загрузка модели генерации описаний изображений\n",
    "processor = BlipProcessor.from_pretrained(model_name)\n",
    "model = BlipForConditionalGeneration.from_pretrained(model_name)\n",
    "\n",
    "predicted_captions = []\n",
    "reference_captions = []\n",
    "\n",
    "start_time = time()\n",
    "\n",
    "# Выполнение предсказания модели\n",
    "for image, captions in ds_sin:\n",
    "    inputs = processor(image, return_tensors=\"pt\")\n",
    "    out = model.generate(**inputs)\n",
    "    predicted_captions.append(processor.decode(out[0], skip_special_tokens=True))\n",
    "    reference_captions.append(captions)\n",
    "\n",
    "end_time = time()\n",
    "\n",
    "rouge_result = metric_rouge(predicted_captions, reference_captions)\n",
    "\n",
    "wandb.log(\n",
    "    {\n",
    "        \"METEOR\": metric_meteor(predicted_captions, reference_captions),\n",
    "        \"ROUGE-1\": rouge_result[\"rouge1\"],\n",
    "        \"ROUGE-2\": rouge_result[\"rouge2\"],\n",
    "        \"ROUGE-L\": rouge_result[\"rougeL\"],\n",
    "        \"WER\": metric_wer(predicted_captions, reference_captions),\n",
    "        \"Speed 1 image\": (end_time - start_time) / len(ds_sin),\n",
    "    }\n",
    ")\n",
    "\n",
    "wandb.finish()"
   ]
  },
  {
   "cell_type": "code",
   "execution_count": 9,
   "metadata": {},
   "outputs": [
    {
     "data": {
      "text/html": [
       "wandb version 0.17.4 is available!  To upgrade, please run:\n",
       " $ pip install wandb --upgrade"
      ],
      "text/plain": [
       "<IPython.core.display.HTML object>"
      ]
     },
     "metadata": {},
     "output_type": "display_data"
    },
    {
     "data": {
      "text/html": [
       "Tracking run with wandb version 0.17.3"
      ],
      "text/plain": [
       "<IPython.core.display.HTML object>"
      ]
     },
     "metadata": {},
     "output_type": "display_data"
    },
    {
     "data": {
      "text/html": [
       "Run data is saved locally in <code>/home/nikolai/projects/album_stories/notebooks/wandb/run-20240704_134031-jaucoz0u</code>"
      ],
      "text/plain": [
       "<IPython.core.display.HTML object>"
      ]
     },
     "metadata": {},
     "output_type": "display_data"
    },
    {
     "data": {
      "text/html": [
       "Syncing run <strong><a href='https://wandb.ai/n-hilkovich/child_diary/runs/jaucoz0u' target=\"_blank\">wandering-dawn-19</a></strong> to <a href='https://wandb.ai/n-hilkovich/child_diary' target=\"_blank\">Weights & Biases</a> (<a href='https://wandb.me/run' target=\"_blank\">docs</a>)<br/>"
      ],
      "text/plain": [
       "<IPython.core.display.HTML object>"
      ]
     },
     "metadata": {},
     "output_type": "display_data"
    },
    {
     "data": {
      "text/html": [
       " View project at <a href='https://wandb.ai/n-hilkovich/child_diary' target=\"_blank\">https://wandb.ai/n-hilkovich/child_diary</a>"
      ],
      "text/plain": [
       "<IPython.core.display.HTML object>"
      ]
     },
     "metadata": {},
     "output_type": "display_data"
    },
    {
     "data": {
      "text/html": [
       " View run at <a href='https://wandb.ai/n-hilkovich/child_diary/runs/jaucoz0u' target=\"_blank\">https://wandb.ai/n-hilkovich/child_diary/runs/jaucoz0u</a>"
      ],
      "text/plain": [
       "<IPython.core.display.HTML object>"
      ]
     },
     "metadata": {},
     "output_type": "display_data"
    },
    {
     "name": "stderr",
     "output_type": "stream",
     "text": [
      "[nltk_data] Downloading package wordnet to /home/nikolai/nltk_data...\n",
      "[nltk_data]   Package wordnet is already up-to-date!\n",
      "[nltk_data] Downloading package punkt to /home/nikolai/nltk_data...\n",
      "[nltk_data]   Package punkt is already up-to-date!\n",
      "[nltk_data] Downloading package omw-1.4 to /home/nikolai/nltk_data...\n",
      "[nltk_data]   Package omw-1.4 is already up-to-date!\n"
     ]
    },
    {
     "data": {
      "application/vnd.jupyter.widget-view+json": {
       "model_id": "943384f386ee43339a2b4d5a13c18856",
       "version_major": 2,
       "version_minor": 0
      },
      "text/plain": [
       "VBox(children=(Label(value='0.003 MB of 0.008 MB uploaded\\r'), FloatProgress(value=0.35766670427620445, max=1.…"
      ]
     },
     "metadata": {},
     "output_type": "display_data"
    },
    {
     "data": {
      "text/html": [
       "<style>\n",
       "    table.wandb td:nth-child(1) { padding: 0 10px; text-align: left ; width: auto;} td:nth-child(2) {text-align: left ; width: 100%}\n",
       "    .wandb-row { display: flex; flex-direction: row; flex-wrap: wrap; justify-content: flex-start; width: 100% }\n",
       "    .wandb-col { display: flex; flex-direction: column; flex-basis: 100%; flex: 1; padding: 10px; }\n",
       "    </style>\n",
       "<div class=\"wandb-row\"><div class=\"wandb-col\"><h3>Run history:</h3><br/><table class=\"wandb\"><tr><td>ROUGE-1</td><td>▁</td></tr><tr><td>ROUGE-2</td><td>▁</td></tr><tr><td>ROUGE-L</td><td>▁</td></tr><tr><td>Speed 1 image</td><td>▁</td></tr><tr><td>WER</td><td>▁</td></tr></table><br/></div><div class=\"wandb-col\"><h3>Run summary:</h3><br/><table class=\"wandb\"><tr><td>ROUGE-1</td><td>0.49204</td></tr><tr><td>ROUGE-2</td><td>0.22125</td></tr><tr><td>ROUGE-L</td><td>0.38709</td></tr><tr><td>Speed 1 image</td><td>3.76119</td></tr><tr><td>WER</td><td>0.89072</td></tr></table><br/></div></div>"
      ],
      "text/plain": [
       "<IPython.core.display.HTML object>"
      ]
     },
     "metadata": {},
     "output_type": "display_data"
    },
    {
     "data": {
      "text/html": [
       " View run <strong style=\"color:#cdcd00\">wandering-dawn-19</strong> at: <a href='https://wandb.ai/n-hilkovich/child_diary/runs/jaucoz0u' target=\"_blank\">https://wandb.ai/n-hilkovich/child_diary/runs/jaucoz0u</a><br/> View project at: <a href='https://wandb.ai/n-hilkovich/child_diary' target=\"_blank\">https://wandb.ai/n-hilkovich/child_diary</a><br/>Synced 5 W&B file(s), 0 media file(s), 0 artifact file(s) and 0 other file(s)"
      ],
      "text/plain": [
       "<IPython.core.display.HTML object>"
      ]
     },
     "metadata": {},
     "output_type": "display_data"
    },
    {
     "data": {
      "text/html": [
       "Find logs at: <code>./wandb/run-20240704_134031-jaucoz0u/logs</code>"
      ],
      "text/plain": [
       "<IPython.core.display.HTML object>"
      ]
     },
     "metadata": {},
     "output_type": "display_data"
    },
    {
     "data": {
      "text/html": [
       "The new W&B backend becomes opt-out in version 0.18.0; try it out with `wandb.require(\"core\")`! See https://wandb.me/wandb-core for more information."
      ],
      "text/plain": [
       "<IPython.core.display.HTML object>"
      ]
     },
     "metadata": {},
     "output_type": "display_data"
    }
   ],
   "source": [
    "# Сложная модель генерации описания изображений (показатели снимались на GPU V100)\n",
    "model_name = \"abhijit2111/Pic2Story\"\n",
    "\n",
    "wandb.init(project=\"child_diary\", group=model_name, job_type=\"base\")\n",
    "\n",
    "# Загрузка модели генерации описаний изображений\n",
    "processor = BlipProcessor.from_pretrained(model_name)\n",
    "model = BlipForConditionalGeneration.from_pretrained(model_name)\n",
    "\n",
    "predicted_captions = []\n",
    "reference_captions = []\n",
    "\n",
    "start_time = time()\n",
    "\n",
    "# Выполнение предсказания модели\n",
    "for image, captions in ds_sin:\n",
    "    inputs = processor(image, return_tensors=\"pt\")\n",
    "    out = model.generate(**inputs)\n",
    "    predicted_captions.append(processor.decode(out[0], skip_special_tokens=True))\n",
    "    reference_captions.append(captions)\n",
    "\n",
    "end_time = time()\n",
    "\n",
    "rouge_result = metric_rouge(predicted_captions, reference_captions)\n",
    "\n",
    "wandb.log(\n",
    "    {\n",
    "        \"METEOR\": metric_meteor(predicted_captions, reference_captions),\n",
    "        \"ROUGE-1\": rouge_result[\"rouge1\"],\n",
    "        \"ROUGE-2\": rouge_result[\"rouge2\"],\n",
    "        \"ROUGE-L\": rouge_result[\"rougeL\"],\n",
    "        \"WER\": metric_wer(predicted_captions, reference_captions),\n",
    "        \"Speed 1 image\": (end_time - start_time) / len(ds_sin),\n",
    "    }\n",
    ")\n",
    "\n",
    "wandb.finish()"
   ]
  },
  {
   "cell_type": "code",
   "execution_count": null,
   "metadata": {},
   "outputs": [],
   "source": []
  }
 ],
 "metadata": {
  "kernelspec": {
   "display_name": "DataSphere Kernel",
   "language": "python",
   "name": "python3"
  },
  "language_info": {
   "codemirror_mode": {
    "name": "ipython",
    "version": 3
   },
   "file_extension": ".py",
   "mimetype": "text/x-python",
   "name": "python",
   "nbconvert_exporter": "python",
   "pygments_lexer": "ipython3",
   "version": "3.12.3"
  }
 },
 "nbformat": 4,
 "nbformat_minor": 2
}
