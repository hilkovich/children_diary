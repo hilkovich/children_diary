{
 "cells": [
  {
   "cell_type": "code",
   "execution_count": 10,
   "metadata": {},
   "outputs": [],
   "source": [
    "import os\n",
    "import pickle\n",
    "import pandas as pd\n",
    "from PIL import Image\n",
    "from torchvision import transforms\n",
    "from torch.utils.data import Dataset\n",
    "from datasets import load_dataset"
   ]
  },
  {
   "cell_type": "code",
   "execution_count": 3,
   "metadata": {},
   "outputs": [
    {
     "data": {
      "text/plain": [
       "DatasetDict({\n",
       "    test: Dataset({\n",
       "        features: ['image', 'caption', 'sentids', 'img_id', 'filename'],\n",
       "        num_rows: 31783\n",
       "    })\n",
       "})"
      ]
     },
     "execution_count": 3,
     "metadata": {},
     "output_type": "execute_result"
    }
   ],
   "source": [
    "ds_flickr30k = load_dataset(\"lmms-lab/flickr30k\")\n",
    "\n",
    "ds_flickr30k"
   ]
  },
  {
   "cell_type": "code",
   "execution_count": 4,
   "metadata": {},
   "outputs": [],
   "source": [
    "def check_for_children(caption_list):\n",
    "    keywords = [\"child\", \"girl\", \"boy\", \"baby\"]\n",
    "    return any(\n",
    "        keyword in caption.lower() for keyword in keywords for caption in caption_list\n",
    "    )"
   ]
  },
  {
   "cell_type": "code",
   "execution_count": 5,
   "metadata": {},
   "outputs": [
    {
     "data": {
      "text/plain": [
       "Dataset({\n",
       "    features: ['image', 'caption', 'img_id', 'filename'],\n",
       "    num_rows: 10361\n",
       "})"
      ]
     },
     "execution_count": 5,
     "metadata": {},
     "output_type": "execute_result"
    }
   ],
   "source": [
    "ds_flickr30k[\"test\"] = ds_flickr30k[\"test\"].add_column(\n",
    "    \"has_children\",\n",
    "    [check_for_children(example[\"caption\"]) for example in ds_flickr30k[\"test\"]],\n",
    ")\n",
    "\n",
    "filter_ds_flickr30k = ds_flickr30k[\"test\"].filter(\n",
    "    lambda example: example[\"has_children\"]\n",
    ")\n",
    "filter_ds_flickr30k = filter_ds_flickr30k.remove_columns([\"sentids\", \"has_children\"])\n",
    "\n",
    "filter_ds_flickr30k"
   ]
  },
  {
   "cell_type": "code",
   "execution_count": 6,
   "metadata": {},
   "outputs": [
    {
     "name": "stderr",
     "output_type": "stream",
     "text": [
      "Saving the dataset (3/3 shards): 100%|██████████| 10361/10361 [00:04<00:00, 2269.41 examples/s]\n"
     ]
    }
   ],
   "source": [
    "filter_ds_flickr30k.save_to_disk(\"datasets/flickr30k_children.json\")"
   ]
  },
  {
   "cell_type": "code",
   "execution_count": 7,
   "metadata": {},
   "outputs": [
    {
     "data": {
      "text/plain": [
       "DatasetDict({\n",
       "    validation: Dataset({\n",
       "        features: ['image', 'image_coco_url', 'image_date_captured', 'image_file_name', 'image_height', 'image_width', 'image_id', 'image_license', 'image_open_images_id', 'annotations_ids', 'annotations_captions'],\n",
       "        num_rows: 4500\n",
       "    })\n",
       "    test: Dataset({\n",
       "        features: ['image', 'image_coco_url', 'image_date_captured', 'image_file_name', 'image_height', 'image_width', 'image_id', 'image_license', 'image_open_images_id', 'annotations_ids', 'annotations_captions'],\n",
       "        num_rows: 10600\n",
       "    })\n",
       "})"
      ]
     },
     "execution_count": 7,
     "metadata": {},
     "output_type": "execute_result"
    }
   ],
   "source": [
    "ds_nocaps = load_dataset(\"lmms-lab/NoCaps\")\n",
    "\n",
    "ds_nocaps"
   ]
  },
  {
   "cell_type": "code",
   "execution_count": 8,
   "metadata": {},
   "outputs": [
    {
     "data": {
      "text/plain": [
       "Dataset({\n",
       "    features: ['image', 'filename', 'img_id', 'caption'],\n",
       "    num_rows: 667\n",
       "})"
      ]
     },
     "execution_count": 8,
     "metadata": {},
     "output_type": "execute_result"
    }
   ],
   "source": [
    "ds_nocaps[\"validation\"] = ds_nocaps[\"validation\"].add_column(\n",
    "    \"has_children\",\n",
    "    [\n",
    "        check_for_children(example[\"annotations_captions\"])\n",
    "        for example in ds_nocaps[\"validation\"]\n",
    "    ],\n",
    ")\n",
    "\n",
    "filter_ds_nocaps = ds_nocaps[\"validation\"].filter(\n",
    "    lambda example: example[\"has_children\"]\n",
    ")\n",
    "filter_ds_nocaps = filter_ds_nocaps.remove_columns(\n",
    "    [\n",
    "        \"annotations_ids\",\n",
    "        \"has_children\",\n",
    "        \"image_open_images_id\",\n",
    "        \"image_license\",\n",
    "        \"image_width\",\n",
    "        \"image_height\",\n",
    "        \"image_date_captured\",\n",
    "        \"image_coco_url\",\n",
    "    ]\n",
    ")\n",
    "\n",
    "filter_ds_nocaps = filter_ds_nocaps.rename_columns(\n",
    "    {\n",
    "        \"annotations_captions\": \"caption\",\n",
    "        \"image_file_name\": \"filename\",\n",
    "        \"image_id\": \"img_id\",\n",
    "    }\n",
    ")\n",
    "\n",
    "filter_ds_nocaps"
   ]
  },
  {
   "cell_type": "code",
   "execution_count": 9,
   "metadata": {},
   "outputs": [
    {
     "name": "stderr",
     "output_type": "stream",
     "text": [
      "Saving the dataset (1/1 shards): 100%|██████████| 667/667 [00:00<00:00, 788.10 examples/s]\n"
     ]
    }
   ],
   "source": [
    "filter_ds_nocaps.save_to_disk(\"datasets/nocaps_children.json\")"
   ]
  },
  {
   "cell_type": "code",
   "execution_count": 3,
   "metadata": {},
   "outputs": [],
   "source": [
    "class CustomDataset(Dataset):\n",
    "    def __init__(self, data_dir, transform=None):\n",
    "        self.data_dir = data_dir\n",
    "        self.transform = transform\n",
    "        self.images = [os.path.join(data_dir, img) for img in os.listdir(data_dir)]\n",
    "\n",
    "    def __len__(self):\n",
    "        return len(self.images)\n",
    "\n",
    "    def __getitem__(self, idx):\n",
    "        image_path = self.images[idx]\n",
    "        image, caption = loader(image_path)\n",
    "        if self.transform:\n",
    "            image = self.transform(image)\n",
    "        return image, caption\n",
    "\n",
    "\n",
    "def loader(path):\n",
    "    image = Image.open(path)\n",
    "    caption = data.loc[data[\"image\"] == os.path.basename(path), \"caption\"].values[0]\n",
    "    return image, caption\n"
   ]
  },
  {
   "cell_type": "code",
   "execution_count": 4,
   "metadata": {},
   "outputs": [],
   "source": [
    "data_dir = \"datasets/sin_dataset_img/images\"\n",
    "csv_file = \"datasets/sin_dataset_img/captions.csv\"\n",
    "\n",
    "data = pd.read_csv(csv_file)\n",
    "\n",
    "transform = transforms.Compose([transforms.Resize((256, 256)), transforms.ToTensor()])\n",
    "\n",
    "ds_sin = CustomDataset(data_dir, transform=transform)"
   ]
  },
  {
   "cell_type": "code",
   "execution_count": 11,
   "metadata": {},
   "outputs": [],
   "source": [
    "with open(\"datasets/sin_children.pkl\", \"wb\") as f:\n",
    "    pickle.dump(ds_sin, f)"
   ]
  },
  {
   "cell_type": "code",
   "execution_count": null,
   "metadata": {},
   "outputs": [],
   "source": []
  }
 ],
 "metadata": {
  "kernelspec": {
   "display_name": ".venv",
   "language": "python",
   "name": "python3"
  },
  "language_info": {
   "codemirror_mode": {
    "name": "ipython",
    "version": 3
   },
   "file_extension": ".py",
   "mimetype": "text/x-python",
   "name": "python",
   "nbconvert_exporter": "python",
   "pygments_lexer": "ipython3",
   "version": "3.12.3"
  }
 },
 "nbformat": 4,
 "nbformat_minor": 2
}
