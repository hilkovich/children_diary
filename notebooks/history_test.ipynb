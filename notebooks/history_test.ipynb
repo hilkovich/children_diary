{
 "cells": [
  {
   "cell_type": "code",
   "execution_count": null,
   "metadata": {},
   "outputs": [],
   "source": [
    "import os\n",
    "import json\n",
    "import requests\n",
    "import wandb\n",
    "import pandas as pd\n",
    "from time import time\n",
    "from rouge import Rouge"
   ]
  },
  {
   "cell_type": "code",
   "execution_count": null,
   "metadata": {},
   "outputs": [],
   "source": [
    "%load_ext dotenv\n",
    "%dotenv"
   ]
  },
  {
   "cell_type": "code",
   "execution_count": null,
   "metadata": {},
   "outputs": [],
   "source": [
    "YANDEX_ID_CATALOG = os.environ[\"YANDEX_ID_CATALOG\"]\n",
    "YANDEX_API_KEY = os.environ[\"YANDEX_API_KEY\"]"
   ]
  },
  {
   "cell_type": "code",
   "execution_count": null,
   "metadata": {},
   "outputs": [],
   "source": [
    "# Подключения к API YandexGPT 3 Pro с возвратом сгенерированной истории\n",
    "def prediction_history(message):\n",
    "    prompt = {\n",
    "        \"modelUri\": f\"gpt://{YANDEX_ID_CATALOG}/yandexgpt/latest\",  # YandexGPT 3 Pro\n",
    "        \"completionOptions\": {\"stream\": False, \"temperature\": 0.6, \"maxTokens\": \"2000\"},\n",
    "        \"messages\": [\n",
    "            {\n",
    "                \"role\": \"system\",\n",
    "                \"text\": \"Ты русский писатель детских рассказов. Всегда возвращаешь текст только на русском.\",\n",
    "            },\n",
    "            {\n",
    "                \"role\": \"user\",\n",
    "                \"text\": message,\n",
    "            },\n",
    "        ],\n",
    "    }\n",
    "\n",
    "    url = \"https://llm.api.cloud.yandex.net/foundationModels/v1/completion\"\n",
    "    headers = {\n",
    "        \"Content-Type\": \"application/json\",\n",
    "        \"Authorization\": f\"Api-Key {YANDEX_API_KEY}\",\n",
    "    }\n",
    "\n",
    "    response = requests.post(url, headers=headers, json=prompt)\n",
    "\n",
    "    result = json.loads(response.text)\n",
    "\n",
    "    return result[\"result\"][\"alternatives\"][0][\"message\"][\"text\"]"
   ]
  },
  {
   "cell_type": "code",
   "execution_count": null,
   "metadata": {},
   "outputs": [],
   "source": [
    "# Расчет метрики ROUGE\n",
    "def metric_rouge(generated_history, reference_history):\n",
    "    rouge = Rouge()\n",
    "\n",
    "    avg_rouge_scores = {\n",
    "        \"rouge-1\": {\"f\": 0, \"p\": 0, \"r\": 0},\n",
    "        \"rouge-2\": {\"f\": 0, \"p\": 0, \"r\": 0},\n",
    "        \"rouge-l\": {\"f\": 0, \"p\": 0, \"r\": 0},\n",
    "    }\n",
    "    count_texts = len(reference_history)\n",
    "\n",
    "    for ref_text, gen_text in zip(reference_history, generated_history):\n",
    "        scores = rouge.get_scores(gen_text, ref_text)[0]\n",
    "        for metric in avg_rouge_scores:\n",
    "            for key in avg_rouge_scores[metric]:\n",
    "                avg_rouge_scores[metric][key] += scores[metric][key]\n",
    "\n",
    "    for metric in avg_rouge_scores:\n",
    "        for key in avg_rouge_scores[metric]:\n",
    "            avg_rouge_scores[metric][key] /= count_texts\n",
    "\n",
    "    return avg_rouge_scores"
   ]
  },
  {
   "cell_type": "code",
   "execution_count": null,
   "metadata": {},
   "outputs": [],
   "source": [
    "# Загрузка синтетического датасета для оценки качества LLM\n",
    "sin_ds = pd.read_csv(\"datasets/history_sin/history_sin.csv\")\n",
    "\n",
    "sin_ds.head(2)"
   ]
  },
  {
   "cell_type": "code",
   "execution_count": null,
   "metadata": {},
   "outputs": [],
   "source": [
    "# Предсказание LLM истории с логированием метрик в wandb (работа с моделью через API)\n",
    "wandb.init(project=\"child_diary\", group=\"yandexgpt-3-pro\", job_type=\"base\")\n",
    "\n",
    "predicted_history = []\n",
    "reference_history = []\n",
    "\n",
    "count_captions = 0\n",
    "start_time = time()\n",
    "\n",
    "for i in range(sin_ds.shape[0]):\n",
    "    photo_captions = sin_ds.img_input[i]\n",
    "    len_photo_captions = len(\n",
    "        sin_ds.img_input[i].translate(str.maketrans(\"\", \"\", '[]\"')).split(\", \")\n",
    "    )\n",
    "    photo_description = sin_ds.text_input[i]\n",
    "    setup_input = \"В тексте не использовать слова: фотография, изображение, затем\"\n",
    "    message = f\"\"\"\n",
    "        Напиши развернутое описание от первого лица происходящего на {len_photo_captions} фотографиях объединив в сюжет.\n",
    "        Подписи к фотографиям: {photo_captions}.\n",
    "        Описание событий, происходящих на фотографиях: {photo_description}.\n",
    "        Дополнительные требования: {setup_input}.\n",
    "        \"\"\"\n",
    "\n",
    "    predicted_history.append(prediction_history(message))\n",
    "    reference_history.append(sin_ds.target[i])\n",
    "    count_captions += len_photo_captions\n",
    "\n",
    "end_time = time()\n",
    "\n",
    "wandb.log(\n",
    "    {\n",
    "        \"ROUGE-L\": metric_rouge(predicted_history, reference_history)[\"rouge-l\"][\"f\"],\n",
    "        \"Speed 1 image\": (end_time - start_time) / count_captions,\n",
    "        \"Save conversion\": 0.8,\n",
    "    }\n",
    ")\n",
    "\n",
    "wandb.finish()"
   ]
  },
  {
   "cell_type": "code",
   "execution_count": null,
   "metadata": {},
   "outputs": [],
   "source": []
  }
 ],
 "metadata": {
  "kernelspec": {
   "display_name": ".venv",
   "language": "python",
   "name": "python3"
  },
  "language_info": {
   "codemirror_mode": {
    "name": "ipython",
    "version": 3
   },
   "file_extension": ".py",
   "mimetype": "text/x-python",
   "name": "python",
   "nbconvert_exporter": "python",
   "pygments_lexer": "ipython3",
   "version": "3.12.3"
  }
 },
 "nbformat": 4,
 "nbformat_minor": 2
}
