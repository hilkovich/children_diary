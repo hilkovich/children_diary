{
 "cells": [
  {
   "cell_type": "code",
   "execution_count": 1,
   "metadata": {},
   "outputs": [],
   "source": [
    "import os\n",
    "import json\n",
    "import requests"
   ]
  },
  {
   "cell_type": "code",
   "execution_count": 2,
   "metadata": {},
   "outputs": [],
   "source": [
    "%load_ext dotenv\n",
    "%dotenv"
   ]
  },
  {
   "cell_type": "code",
   "execution_count": 3,
   "metadata": {},
   "outputs": [],
   "source": [
    "id_catalog = os.environ[\"ID_CATALOG_YANDEX\"]\n",
    "api_key = os.environ[\"API_KEY_YANDEX\"]"
   ]
  },
  {
   "cell_type": "code",
   "execution_count": 7,
   "metadata": {},
   "outputs": [],
   "source": [
    "def pred_history(message):\n",
    "    prompt = {\n",
    "        \"modelUri\": f\"gpt://{id_catalog}/yandexgpt/latest\",  # YandexGPT 3 Pro\n",
    "        \"completionOptions\": {\"stream\": False, \"temperature\": 0.6, \"maxTokens\": \"2000\"},\n",
    "        \"messages\": [\n",
    "            {\n",
    "                \"role\": \"system\",\n",
    "                \"text\": \"Ты русский писатель детских рассказов. Всегда возвращаешь текст только на русском.\",\n",
    "            },\n",
    "            {\n",
    "                \"role\": \"user\",\n",
    "                \"text\": message,\n",
    "            },\n",
    "        ],\n",
    "    }\n",
    "\n",
    "    url = \"https://llm.api.cloud.yandex.net/foundationModels/v1/completion\"\n",
    "    headers = {\n",
    "        \"Content-Type\": \"application/json\",\n",
    "        \"Authorization\": f\"Api-Key {api_key}\",\n",
    "    }\n",
    "\n",
    "    response = requests.post(url, headers=headers, json=prompt)\n",
    "\n",
    "    result = json.loads(response.text)\n",
    "\n",
    "    return result[\"result\"][\"alternatives\"][0][\"message\"][\"text\"]"
   ]
  },
  {
   "cell_type": "code",
   "execution_count": 8,
   "metadata": {},
   "outputs": [],
   "source": [
    "message = (\n",
    "    \"Write a small 50-word story starring a girl Katya in the park with a teddy bear\"\n",
    ")"
   ]
  },
  {
   "cell_type": "code",
   "execution_count": 9,
   "metadata": {},
   "outputs": [
    {
     "data": {
      "text/plain": [
       "'В парке на скамейке сидела девочка Катя и читала книгу. Рядом с ней сидел её верный друг – плюшевый медведь. Вдруг подул сильный ветер, и книга чуть не улетела. Но Катя успела поймать её, а мишка удержал шляпку девочки. Катя улыбнулась своему другу и обняла его.'"
      ]
     },
     "execution_count": 9,
     "metadata": {},
     "output_type": "execute_result"
    }
   ],
   "source": [
    "result = pred_history(message)\n",
    "\n",
    "result"
   ]
  },
  {
   "cell_type": "code",
   "execution_count": null,
   "metadata": {},
   "outputs": [],
   "source": []
  }
 ],
 "metadata": {
  "kernelspec": {
   "display_name": ".venv",
   "language": "python",
   "name": "python3"
  },
  "language_info": {
   "codemirror_mode": {
    "name": "ipython",
    "version": 3
   },
   "file_extension": ".py",
   "mimetype": "text/x-python",
   "name": "python",
   "nbconvert_exporter": "python",
   "pygments_lexer": "ipython3",
   "version": "3.12.3"
  }
 },
 "nbformat": 4,
 "nbformat_minor": 2
}
