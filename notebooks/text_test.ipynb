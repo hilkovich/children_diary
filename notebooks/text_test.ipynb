{
 "cells": [
  {
   "cell_type": "code",
   "execution_count": 1,
   "metadata": {},
   "outputs": [],
   "source": [
    "import os\n",
    "import json\n",
    "import requests\n",
    "import wandb\n",
    "import pandas as pd\n",
    "from PIL import Image\n",
    "from nltk.tokenize import word_tokenize\n",
    "from nltk.translate.meteor_score import meteor_score\n",
    "from sklearn.feature_extraction.text import TfidfVectorizer\n",
    "from sklearn.metrics.pairwise import cosine_similarity\n",
    "from sklearn.feature_extraction.text import CountVectorizer\n",
    "from sklearn.metrics.pairwise import euclidean_distances"
   ]
  },
  {
   "cell_type": "code",
   "execution_count": 2,
   "metadata": {},
   "outputs": [],
   "source": [
    "%load_ext dotenv\n",
    "%dotenv"
   ]
  },
  {
   "cell_type": "code",
   "execution_count": 3,
   "metadata": {},
   "outputs": [],
   "source": [
    "id_catalog = os.environ[\"ID_CATALOG_YANDEX\"]\n",
    "api_key = os.environ[\"API_KEY_YANDEX\"]"
   ]
  },
  {
   "cell_type": "code",
   "execution_count": 4,
   "metadata": {},
   "outputs": [],
   "source": [
    "# Функция подключения к API YandexGPT 3 Pro с возвратом сгенерированного развернутого описания\n",
    "def pred_history(message):\n",
    "    prompt = {\n",
    "        \"modelUri\": f\"gpt://{id_catalog}/yandexgpt/latest\",  # YandexGPT 3 Pro\n",
    "        \"completionOptions\": {\"stream\": False, \"temperature\": 0.6, \"maxTokens\": \"2000\"},\n",
    "        \"messages\": [\n",
    "            {\n",
    "                \"role\": \"system\",\n",
    "                \"text\": \"Ты русский писатель детских рассказов. Всегда возвращаешь текст только на русском.\",\n",
    "            },\n",
    "            {\n",
    "                \"role\": \"user\",\n",
    "                \"text\": message,\n",
    "            },\n",
    "        ],\n",
    "    }\n",
    "\n",
    "    url = \"https://llm.api.cloud.yandex.net/foundationModels/v1/completion\"\n",
    "    headers = {\n",
    "        \"Content-Type\": \"application/json\",\n",
    "        \"Authorization\": f\"Api-Key {api_key}\",\n",
    "    }\n",
    "\n",
    "    response = requests.post(url, headers=headers, json=prompt)\n",
    "\n",
    "    result = json.loads(response.text)\n",
    "\n",
    "    return result[\"result\"][\"alternatives\"][0][\"message\"][\"text\"]"
   ]
  },
  {
   "cell_type": "code",
   "execution_count": null,
   "metadata": {},
   "outputs": [],
   "source": [
    "# Пример фотографий для генерации развернутого описания\n",
    "image = Image.open(\"datasets/photosession.jpg\")\n",
    "\n",
    "image"
   ]
  },
  {
   "cell_type": "code",
   "execution_count": null,
   "metadata": {},
   "outputs": [],
   "source": [
    "# Входные данные от клиента (синтетический пример по фотографиям выше)\n",
    "img_input = [\n",
    "    \"arafed image of a woman and two girls posing for a picture\",  # закрашенное изображение женщины и двух девочек, позирующих для фотосессии\n",
    "    \"a woman bending over holds a child in her arms in a room\",  # женщина наклонившись держит на руках ребенка в комнате\n",
    "    \"there is a woman and a child sitting on a window sill\",  # на подоконнике сидят женщина и ребенок\n",
    "    \"there are two children that are laying on a bed together\",  # есть двое детей, которые лежат вместе на кровати\n",
    "    \"there are three women laying on a bed with a child\",  # на кровати лежат три женщины с ребенком\n",
    "    \"there are three women and a child standing in front of a window\",  # перед окном стоят три женщины и ребенок\n",
    "    \"there are two women standing next to each other near a window\",  # у окна стоят рядом друг с другом две женщины\n",
    "    \"there are two pictures of a woman and a child sitting on a window sill\",  # там есть две фотографии женщины и ребенка, сидящих на подоконнике\n",
    "    \"arafed woman and child smiling at each other while standing in front of a window\",  # женщина в черном и ребенок улыбаются друг другу, стоя перед окном\n",
    "]\n",
    "\n",
    "text_input = \"Фотосессия в белой комнате фотостудии у большого окна мамы в ярком зеленом свиторе с дочерьми младшая Саша старшая Катя\"\n",
    "\n",
    "setup_input = \"В тексте не использовать слова фотография, изображение\""
   ]
  },
  {
   "cell_type": "code",
   "execution_count": null,
   "metadata": {},
   "outputs": [],
   "source": [
    "# Финальный запрос для генерации развернутого описания\n",
    "message = f\"\"\"\n",
    "        Напиши развернутое описание происходящего на {len(img_input)} фотографиях объединив в сюжет.\n",
    "        Описания фотографий: {img_input}.\n",
    "        Дополнительное описание к фотографий: {text_input}.\n",
    "        Дополнительные требования: {setup_input}.\n",
    "\"\"\""
   ]
  },
  {
   "cell_type": "code",
   "execution_count": null,
   "metadata": {},
   "outputs": [],
   "source": [
    "result = pred_history(message)\n",
    "\n",
    "result"
   ]
  },
  {
   "cell_type": "code",
   "execution_count": null,
   "metadata": {},
   "outputs": [],
   "source": [
    "answer = \"\"\"\n",
    "    В уютной фотостудии, где стены были окрашены в белый цвет, а большое окно выходило на оживлённую улицу, \n",
    "    проходила фотосессия. У окна стояли мама и её дочки — Саша и Катя.\n",
    "\n",
    "    Мама, одетая в яркий зелёный свитер, обнимала своих девочек. Она улыбалась и смотрела на них с любовью. \n",
    "    Саша, младшая дочка, стояла рядом с мамой и держала её за руку. А старшая дочка, Катя, стояла чуть поодаль \n",
    "    и делала вид, что ей не нравится вся эта суета. Но на самом деле она тоже была счастлива.\n",
    "\n",
    "    Фотограф попросил маму взять Сашу на руки, чтобы сделать ещё один снимок. Мама с радостью подхватила дочку \n",
    "    и подняла её вверх. В этот момент Саша засмеялась от счастья, а мама поцеловала её в щёку.\n",
    "    \n",
    "    После фотосессии все трое решили немного отдохнуть. Они сели на широкий подоконник и стали смотреть на людей, \n",
    "    которые проходили мимо. Мама рассказывала девочкам о том, как она сама маленькой девочкой любила сидеть у окна \n",
    "    и наблюдать за прохожими. И вот теперь она сидит здесь со своими дочками и вспоминает своё детство.\n",
    "    \n",
    "    Пока они сидели у окна, к ним подошла женщина, которая работала в фотостудии. Она принесла им чай и печенье. \n",
    "    Все вместе они пили чай и разговаривали. А потом женщины решили прилечь на мягкий диван, который стоял в углу \n",
    "    комнаты. Вскоре к ним присоединилась и Саша. Она устроилась между мамой и Катей и закрыла глаза.\n",
    "    \n",
    "    Так они и лежали все вместе, наслаждаясь покоем и тишиной. Им было хорошо и уютно. Казалось, что время остановилось, \n",
    "    и они могут лежать так вечно.\n",
    "    \n",
    "    Но вскоре их покой был нарушен. В комнату вошли ещё две женщины. Это были подруги мамы. Они пришли поздравить её с \n",
    "    очередной фотосессией и принесли с собой торт. Все были рады встрече. Они смеялись и шутили, вспоминая прошлые дни. \n",
    "    А маленькая Саша сидела у мамы на коленях и слушала их разговоры. Ей было интересно всё, о чём говорили взрослые.\n",
    "    \n",
    "    В конце концов, все четверо женщин и маленькая девочка встали перед окном. Они смотрели на город, который лежал внизу, \n",
    "    и думали о своём. О чём они думали, никто не знал. Может быть, они мечтали о будущем, а может быть, просто наслаждались \n",
    "    настоящим. Но одно было ясно: они были счастливы вместе.\n",
    "\"\"\""
   ]
  },
  {
   "cell_type": "code",
   "execution_count": 5,
   "metadata": {},
   "outputs": [],
   "source": [
    "# Функция расчета метрики METEOR\n",
    "def metric_meteor(predicted_texts, reference_texts):\n",
    "    metrics = []\n",
    "\n",
    "    for i in range(len(predicted_texts)):\n",
    "        reference_tokens = word_tokenize(reference_texts[i])\n",
    "        predicted_tokens = word_tokenize(predicted_texts[i])\n",
    "\n",
    "        meteor = meteor_score([reference_tokens], predicted_tokens)\n",
    "        metrics.append(meteor)\n",
    "\n",
    "    return sum(metrics) / len(metrics)"
   ]
  },
  {
   "cell_type": "code",
   "execution_count": 6,
   "metadata": {},
   "outputs": [],
   "source": [
    "# Функция расчета косинусного сходства между текстами на основе угла между векторами\n",
    "def cos_similarity(predicted_texts, reference_texts):\n",
    "    metrics = []\n",
    "\n",
    "    for i in range(len(predicted_texts)):\n",
    "        tfidf_vectorizer = TfidfVectorizer()\n",
    "        tfidf_matrix = tfidf_vectorizer.fit_transform(\n",
    "            [predicted_texts[i], reference_texts[i]]\n",
    "        )\n",
    "\n",
    "        cosine_sim = cosine_similarity(tfidf_matrix[0], tfidf_matrix[1])\n",
    "        metrics.append(cosine_sim)\n",
    "\n",
    "    return (sum(metrics) / len(metrics))[0][0]"
   ]
  },
  {
   "cell_type": "code",
   "execution_count": 7,
   "metadata": {},
   "outputs": [],
   "source": [
    "# Функция расчета Жаккара сходства между двумя множествами слов в текстах\n",
    "def jaccard_similarity(predicted_texts, reference_texts):\n",
    "    metrics = []\n",
    "\n",
    "    for i in range(len(predicted_texts)):\n",
    "        set1 = set(predicted_texts[i].lower().split())\n",
    "        set2 = set(reference_texts[i].lower().split())\n",
    "\n",
    "        intersection = len(set1.intersection(set2))\n",
    "        union = len(set1.union(set2))\n",
    "\n",
    "        jaccard_sim = intersection / union if union != 0 else 0\n",
    "\n",
    "        metrics.append(jaccard_sim)\n",
    "\n",
    "    return sum(metrics) / len(metrics)"
   ]
  },
  {
   "cell_type": "code",
   "execution_count": 8,
   "metadata": {},
   "outputs": [],
   "source": [
    "# Функция расчета Евклидово расстояния измеряющее расстояние между двумя точками в многомерном пространстве\n",
    "def euclidean_distance(predicted_texts, reference_texts):\n",
    "    metrics = []\n",
    "\n",
    "    for i in range(len(predicted_texts)):\n",
    "        vectorizer = CountVectorizer()\n",
    "        vectorizer.fit([predicted_texts[i], reference_texts[i]])\n",
    "        vectorized_text1 = vectorizer.transform([predicted_texts[i]])\n",
    "        vectorized_text2 = vectorizer.transform([reference_texts[i]])\n",
    "\n",
    "        euclidean_distance = euclidean_distances(vectorized_text1, vectorized_text2)\n",
    "        metrics.append(euclidean_distance[0][0])\n",
    "\n",
    "    return sum(metrics) / len(metrics)"
   ]
  },
  {
   "cell_type": "code",
   "execution_count": 9,
   "metadata": {},
   "outputs": [
    {
     "data": {
      "text/html": [
       "<div>\n",
       "<style scoped>\n",
       "    .dataframe tbody tr th:only-of-type {\n",
       "        vertical-align: middle;\n",
       "    }\n",
       "\n",
       "    .dataframe tbody tr th {\n",
       "        vertical-align: top;\n",
       "    }\n",
       "\n",
       "    .dataframe thead th {\n",
       "        text-align: right;\n",
       "    }\n",
       "</style>\n",
       "<table border=\"1\" class=\"dataframe\">\n",
       "  <thead>\n",
       "    <tr style=\"text-align: right;\">\n",
       "      <th></th>\n",
       "      <th>img_input</th>\n",
       "      <th>text_input</th>\n",
       "      <th>target</th>\n",
       "    </tr>\n",
       "  </thead>\n",
       "  <tbody>\n",
       "    <tr>\n",
       "      <th>0</th>\n",
       "      <td>[ \"две женщины сидят на траве с двумя детьми и...</td>\n",
       "      <td>Семейная прогулка по парку с пикником с детьми...</td>\n",
       "      <td>Сегодня особенный день — мы всей семьёй отправ...</td>\n",
       "    </tr>\n",
       "    <tr>\n",
       "      <th>1</th>\n",
       "      <td>[ \"женщина держит на руках маленькую девочку\",...</td>\n",
       "      <td>Мама с дочкой Катей гуляет по парку с памятниками</td>\n",
       "      <td>Сегодня у меня выдался замечательный день. Мы ...</td>\n",
       "    </tr>\n",
       "    <tr>\n",
       "      <th>2</th>\n",
       "      <td>[ \"пара, стоящая в саду, обнявшись\", \"мужчина ...</td>\n",
       "      <td>Семейная фотосессия с младенцем в цветущем саду</td>\n",
       "      <td>Мы с семьёй собрались в нашем любимом саду, чт...</td>\n",
       "    </tr>\n",
       "    <tr>\n",
       "      <th>3</th>\n",
       "      <td>[ \"маленькая девочка сидит на стуле\", \"маленьк...</td>\n",
       "      <td>Один день из жизни моей дочки Марины</td>\n",
       "      <td>Сегодня я проснулась раньше обычного, чтобы пр...</td>\n",
       "    </tr>\n",
       "    <tr>\n",
       "      <th>4</th>\n",
       "      <td>[ \"мужчина держит ребенка на руках перед дерев...</td>\n",
       "      <td>Сегодня гуляем с нашим Сашей в тихом месте города</td>\n",
       "      <td>Сегодня мы с Сашей решили прогуляться в тихом ...</td>\n",
       "    </tr>\n",
       "  </tbody>\n",
       "</table>\n",
       "</div>"
      ],
      "text/plain": [
       "                                           img_input  \\\n",
       "0  [ \"две женщины сидят на траве с двумя детьми и...   \n",
       "1  [ \"женщина держит на руках маленькую девочку\",...   \n",
       "2  [ \"пара, стоящая в саду, обнявшись\", \"мужчина ...   \n",
       "3  [ \"маленькая девочка сидит на стуле\", \"маленьк...   \n",
       "4  [ \"мужчина держит ребенка на руках перед дерев...   \n",
       "\n",
       "                                          text_input  \\\n",
       "0  Семейная прогулка по парку с пикником с детьми...   \n",
       "1  Мама с дочкой Катей гуляет по парку с памятниками   \n",
       "2    Семейная фотосессия с младенцем в цветущем саду   \n",
       "3               Один день из жизни моей дочки Марины   \n",
       "4  Сегодня гуляем с нашим Сашей в тихом месте города   \n",
       "\n",
       "                                              target  \n",
       "0  Сегодня особенный день — мы всей семьёй отправ...  \n",
       "1  Сегодня у меня выдался замечательный день. Мы ...  \n",
       "2  Мы с семьёй собрались в нашем любимом саду, чт...  \n",
       "3  Сегодня я проснулась раньше обычного, чтобы пр...  \n",
       "4  Сегодня мы с Сашей решили прогуляться в тихом ...  "
      ]
     },
     "execution_count": 9,
     "metadata": {},
     "output_type": "execute_result"
    }
   ],
   "source": [
    "# Загрузка синтетического датасета для оценки качества LLM\n",
    "sin_ds = pd.read_csv(\"datasets/sin_dataset_text/sin_dataset_text.csv\")\n",
    "\n",
    "sin_ds.head()"
   ]
  },
  {
   "cell_type": "code",
   "execution_count": 10,
   "metadata": {},
   "outputs": [
    {
     "name": "stderr",
     "output_type": "stream",
     "text": [
      "Failed to detect the name of this notebook, you can set it manually with the WANDB_NOTEBOOK_NAME environment variable to enable code saving.\n",
      "\u001b[34m\u001b[1mwandb\u001b[0m: Currently logged in as: \u001b[33mn-hilkovich\u001b[0m. Use \u001b[1m`wandb login --relogin`\u001b[0m to force relogin\n"
     ]
    },
    {
     "data": {
      "text/html": [
       "wandb version 0.17.3 is available!  To upgrade, please run:\n",
       " $ pip install wandb --upgrade"
      ],
      "text/plain": [
       "<IPython.core.display.HTML object>"
      ]
     },
     "metadata": {},
     "output_type": "display_data"
    },
    {
     "data": {
      "text/html": [
       "Tracking run with wandb version 0.17.2"
      ],
      "text/plain": [
       "<IPython.core.display.HTML object>"
      ]
     },
     "metadata": {},
     "output_type": "display_data"
    },
    {
     "data": {
      "text/html": [
       "Run data is saved locally in <code>/home/nikolai/projects/album_stories/notebooks/wandb/run-20240702_134633-dru7ejy4</code>"
      ],
      "text/plain": [
       "<IPython.core.display.HTML object>"
      ]
     },
     "metadata": {},
     "output_type": "display_data"
    },
    {
     "data": {
      "text/html": [
       "Syncing run <strong><a href='https://wandb.ai/n-hilkovich/child_diary/runs/dru7ejy4' target=\"_blank\">usual-pyramid-10</a></strong> to <a href='https://wandb.ai/n-hilkovich/child_diary' target=\"_blank\">Weights & Biases</a> (<a href='https://wandb.me/run' target=\"_blank\">docs</a>)<br/>"
      ],
      "text/plain": [
       "<IPython.core.display.HTML object>"
      ]
     },
     "metadata": {},
     "output_type": "display_data"
    },
    {
     "data": {
      "text/html": [
       " View project at <a href='https://wandb.ai/n-hilkovich/child_diary' target=\"_blank\">https://wandb.ai/n-hilkovich/child_diary</a>"
      ],
      "text/plain": [
       "<IPython.core.display.HTML object>"
      ]
     },
     "metadata": {},
     "output_type": "display_data"
    },
    {
     "data": {
      "text/html": [
       " View run at <a href='https://wandb.ai/n-hilkovich/child_diary/runs/dru7ejy4' target=\"_blank\">https://wandb.ai/n-hilkovich/child_diary/runs/dru7ejy4</a>"
      ],
      "text/plain": [
       "<IPython.core.display.HTML object>"
      ]
     },
     "metadata": {},
     "output_type": "display_data"
    },
    {
     "data": {
      "application/vnd.jupyter.widget-view+json": {
       "model_id": "8e97099bd0e2451eac5fbbb16b834e7b",
       "version_major": 2,
       "version_minor": 0
      },
      "text/plain": [
       "VBox(children=(Label(value='0.008 MB of 0.008 MB uploaded\\r'), FloatProgress(value=1.0, max=1.0)))"
      ]
     },
     "metadata": {},
     "output_type": "display_data"
    },
    {
     "data": {
      "text/html": [
       "<style>\n",
       "    table.wandb td:nth-child(1) { padding: 0 10px; text-align: left ; width: auto;} td:nth-child(2) {text-align: left ; width: 100%}\n",
       "    .wandb-row { display: flex; flex-direction: row; flex-wrap: wrap; justify-content: flex-start; width: 100% }\n",
       "    .wandb-col { display: flex; flex-direction: column; flex-basis: 100%; flex: 1; padding: 10px; }\n",
       "    </style>\n",
       "<div class=\"wandb-row\"><div class=\"wandb-col\"><h3>Run history:</h3><br/><table class=\"wandb\"><tr><td>METEOR</td><td>▁</td></tr><tr><td>Евклидово расстояние</td><td>▁</td></tr><tr><td>Жаккара сходство</td><td>▁</td></tr><tr><td>Косинусное сходство </td><td>▁</td></tr></table><br/></div><div class=\"wandb-col\"><h3>Run summary:</h3><br/><table class=\"wandb\"><tr><td>METEOR</td><td>0.26519</td></tr><tr><td>Евклидово расстояние</td><td>18.90789</td></tr><tr><td>Жаккара сходство</td><td>0.14823</td></tr><tr><td>Косинусное сходство </td><td>0.38853</td></tr></table><br/></div></div>"
      ],
      "text/plain": [
       "<IPython.core.display.HTML object>"
      ]
     },
     "metadata": {},
     "output_type": "display_data"
    },
    {
     "data": {
      "text/html": [
       " View run <strong style=\"color:#cdcd00\">usual-pyramid-10</strong> at: <a href='https://wandb.ai/n-hilkovich/child_diary/runs/dru7ejy4' target=\"_blank\">https://wandb.ai/n-hilkovich/child_diary/runs/dru7ejy4</a><br/> View project at: <a href='https://wandb.ai/n-hilkovich/child_diary' target=\"_blank\">https://wandb.ai/n-hilkovich/child_diary</a><br/>Synced 4 W&B file(s), 0 media file(s), 0 artifact file(s) and 0 other file(s)"
      ],
      "text/plain": [
       "<IPython.core.display.HTML object>"
      ]
     },
     "metadata": {},
     "output_type": "display_data"
    },
    {
     "data": {
      "text/html": [
       "Find logs at: <code>./wandb/run-20240702_134633-dru7ejy4/logs</code>"
      ],
      "text/plain": [
       "<IPython.core.display.HTML object>"
      ]
     },
     "metadata": {},
     "output_type": "display_data"
    },
    {
     "data": {
      "text/html": [
       "The new W&B backend becomes opt-out in version 0.18.0; try it out with `wandb.require(\"core\")`! See https://wandb.me/wandb-core for more information."
      ],
      "text/plain": [
       "<IPython.core.display.HTML object>"
      ]
     },
     "metadata": {},
     "output_type": "display_data"
    }
   ],
   "source": [
    "# Цикл предсказания LLM развернутого описания с логированием метрик в wandb\n",
    "wandb.init(project=\"child_diary\", group=\"yandexgpt\", job_type=\"base\")\n",
    "\n",
    "predicted_texts = []\n",
    "reference_texts = []\n",
    "\n",
    "for i in range(sin_ds.shape[0]):\n",
    "    img_input = sin_ds.img_input[i]\n",
    "    text_input = sin_ds.text_input[i]\n",
    "    setup_input = \"В тексте не использовать слова фотография, изображение, затем\"\n",
    "    message = f\"\"\"\n",
    "        Напиши развернутое описание от первого лица происходящего на {len(img_input)} фотографиях объединив в сюжет.\n",
    "        Описания фотографий: {img_input}.\n",
    "        Дополнительное описание к фотографий: {text_input}.\n",
    "        Дополнительные требования: {setup_input}.\n",
    "        \"\"\"\n",
    "\n",
    "    result = pred_history(message)\n",
    "    predicted_texts.append(result)\n",
    "    reference_texts.append(sin_ds.target[i])\n",
    "\n",
    "wandb.log(\n",
    "    {\n",
    "        \"METEOR\": metric_meteor(predicted_texts, reference_texts),\n",
    "        \"Косинусное сходство \": cos_similarity(predicted_texts, reference_texts),\n",
    "        \"Жаккара сходство\": jaccard_similarity(predicted_texts, reference_texts),\n",
    "        \"Евклидово расстояние\": euclidean_distance(predicted_texts, reference_texts),\n",
    "    }\n",
    ")\n",
    "\n",
    "wandb.finish()"
   ]
  },
  {
   "cell_type": "code",
   "execution_count": null,
   "metadata": {},
   "outputs": [],
   "source": []
  }
 ],
 "metadata": {
  "kernelspec": {
   "display_name": ".venv",
   "language": "python",
   "name": "python3"
  },
  "language_info": {
   "codemirror_mode": {
    "name": "ipython",
    "version": 3
   },
   "file_extension": ".py",
   "mimetype": "text/x-python",
   "name": "python",
   "nbconvert_exporter": "python",
   "pygments_lexer": "ipython3",
   "version": "3.12.3"
  }
 },
 "nbformat": 4,
 "nbformat_minor": 2
}
