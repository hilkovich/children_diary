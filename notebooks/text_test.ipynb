{
 "cells": [
  {
   "cell_type": "code",
   "execution_count": null,
   "metadata": {},
   "outputs": [],
   "source": [
    "import os\n",
    "import json\n",
    "import requests\n",
    "import wandb\n",
    "import pandas as pd\n",
    "from PIL import Image\n",
    "from nltk.tokenize import word_tokenize\n",
    "from nltk.translate.meteor_score import meteor_score\n",
    "from sklearn.feature_extraction.text import TfidfVectorizer\n",
    "from sklearn.metrics.pairwise import cosine_similarity\n",
    "from sklearn.feature_extraction.text import CountVectorizer\n",
    "from sklearn.metrics.pairwise import euclidean_distances"
   ]
  },
  {
   "cell_type": "code",
   "execution_count": null,
   "metadata": {},
   "outputs": [],
   "source": [
    "%load_ext dotenv\n",
    "%dotenv"
   ]
  },
  {
   "cell_type": "code",
   "execution_count": null,
   "metadata": {},
   "outputs": [],
   "source": [
    "id_catalog = os.environ[\"ID_CATALOG_YANDEX\"]\n",
    "api_key = os.environ[\"API_KEY_YANDEX\"]"
   ]
  },
  {
   "cell_type": "code",
   "execution_count": null,
   "metadata": {},
   "outputs": [],
   "source": [
    "# Функция подключения к API YandexGPT 3 Pro с возвратом сгенерированного развернутого описания\n",
    "def pred_history(message):\n",
    "    prompt = {\n",
    "        \"modelUri\": f\"gpt://{id_catalog}/yandexgpt/latest\",  # YandexGPT 3 Pro\n",
    "        \"completionOptions\": {\"stream\": False, \"temperature\": 0.6, \"maxTokens\": \"2000\"},\n",
    "        \"messages\": [\n",
    "            {\n",
    "                \"role\": \"system\",\n",
    "                \"text\": \"Ты русский писатель детских рассказов. Всегда возвращаешь текст только на русском.\",\n",
    "            },\n",
    "            {\n",
    "                \"role\": \"user\",\n",
    "                \"text\": message,\n",
    "            },\n",
    "        ],\n",
    "    }\n",
    "\n",
    "    url = \"https://llm.api.cloud.yandex.net/foundationModels/v1/completion\"\n",
    "    headers = {\n",
    "        \"Content-Type\": \"application/json\",\n",
    "        \"Authorization\": f\"Api-Key {api_key}\",\n",
    "    }\n",
    "\n",
    "    response = requests.post(url, headers=headers, json=prompt)\n",
    "\n",
    "    result = json.loads(response.text)\n",
    "\n",
    "    return result[\"result\"][\"alternatives\"][0][\"message\"][\"text\"]"
   ]
  },
  {
   "cell_type": "code",
   "execution_count": null,
   "metadata": {},
   "outputs": [],
   "source": [
    "# Пример фотографий для генерации развернутого описания\n",
    "image = Image.open(\"datasets/photosession.jpg\")\n",
    "\n",
    "image"
   ]
  },
  {
   "cell_type": "code",
   "execution_count": null,
   "metadata": {},
   "outputs": [],
   "source": [
    "# Входные данные от клиента (синтетический пример по фотографиям выше)\n",
    "img_input = [\n",
    "    \"arafed image of a woman and two girls posing for a picture\",  # закрашенное изображение женщины и двух девочек, позирующих для фотосессии\n",
    "    \"a woman bending over holds a child in her arms in a room\",  # женщина наклонившись держит на руках ребенка в комнате\n",
    "    \"there is a woman and a child sitting on a window sill\",  # на подоконнике сидят женщина и ребенок\n",
    "    \"there are two children that are laying on a bed together\",  # есть двое детей, которые лежат вместе на кровати\n",
    "    \"there are three women laying on a bed with a child\",  # на кровати лежат три женщины с ребенком\n",
    "    \"there are three women and a child standing in front of a window\",  # перед окном стоят три женщины и ребенок\n",
    "    \"there are two women standing next to each other near a window\",  # у окна стоят рядом друг с другом две женщины\n",
    "    \"there are two pictures of a woman and a child sitting on a window sill\",  # там есть две фотографии женщины и ребенка, сидящих на подоконнике\n",
    "    \"arafed woman and child smiling at each other while standing in front of a window\",  # женщина в черном и ребенок улыбаются друг другу, стоя перед окном\n",
    "]\n",
    "\n",
    "text_input = \"Фотосессия в белой комнате фотостудии у большого окна мамы в ярком зеленом свиторе с дочерьми младшая Саша старшая Катя\"\n",
    "\n",
    "setup_input = \"В тексте не использовать слова фотография, изображение\""
   ]
  },
  {
   "cell_type": "code",
   "execution_count": null,
   "metadata": {},
   "outputs": [],
   "source": [
    "# Финальный запрос для генерации развернутого описания\n",
    "message = f\"\"\"\n",
    "        Напиши развернутое описание происходящего на {len(img_input)} фотографиях объединив в сюжет.\n",
    "        Описания фотографий: {img_input}.\n",
    "        Дополнительное описание к фотографий: {text_input}.\n",
    "        Дополнительные требования: {setup_input}.\n",
    "\"\"\""
   ]
  },
  {
   "cell_type": "code",
   "execution_count": null,
   "metadata": {},
   "outputs": [],
   "source": [
    "result = pred_history(message)\n",
    "\n",
    "result"
   ]
  },
  {
   "cell_type": "code",
   "execution_count": null,
   "metadata": {},
   "outputs": [],
   "source": [
    "answer = \"\"\"\n",
    "    В уютной фотостудии, где стены были окрашены в белый цвет, а большое окно выходило на оживлённую улицу, \n",
    "    проходила фотосессия. У окна стояли мама и её дочки — Саша и Катя.\n",
    "\n",
    "    Мама, одетая в яркий зелёный свитер, обнимала своих девочек. Она улыбалась и смотрела на них с любовью. \n",
    "    Саша, младшая дочка, стояла рядом с мамой и держала её за руку. А старшая дочка, Катя, стояла чуть поодаль \n",
    "    и делала вид, что ей не нравится вся эта суета. Но на самом деле она тоже была счастлива.\n",
    "\n",
    "    Фотограф попросил маму взять Сашу на руки, чтобы сделать ещё один снимок. Мама с радостью подхватила дочку \n",
    "    и подняла её вверх. В этот момент Саша засмеялась от счастья, а мама поцеловала её в щёку.\n",
    "    \n",
    "    После фотосессии все трое решили немного отдохнуть. Они сели на широкий подоконник и стали смотреть на людей, \n",
    "    которые проходили мимо. Мама рассказывала девочкам о том, как она сама маленькой девочкой любила сидеть у окна \n",
    "    и наблюдать за прохожими. И вот теперь она сидит здесь со своими дочками и вспоминает своё детство.\n",
    "    \n",
    "    Пока они сидели у окна, к ним подошла женщина, которая работала в фотостудии. Она принесла им чай и печенье. \n",
    "    Все вместе они пили чай и разговаривали. А потом женщины решили прилечь на мягкий диван, который стоял в углу \n",
    "    комнаты. Вскоре к ним присоединилась и Саша. Она устроилась между мамой и Катей и закрыла глаза.\n",
    "    \n",
    "    Так они и лежали все вместе, наслаждаясь покоем и тишиной. Им было хорошо и уютно. Казалось, что время остановилось, \n",
    "    и они могут лежать так вечно.\n",
    "    \n",
    "    Но вскоре их покой был нарушен. В комнату вошли ещё две женщины. Это были подруги мамы. Они пришли поздравить её с \n",
    "    очередной фотосессией и принесли с собой торт. Все были рады встрече. Они смеялись и шутили, вспоминая прошлые дни. \n",
    "    А маленькая Саша сидела у мамы на коленях и слушала их разговоры. Ей было интересно всё, о чём говорили взрослые.\n",
    "    \n",
    "    В конце концов, все четверо женщин и маленькая девочка встали перед окном. Они смотрели на город, который лежал внизу, \n",
    "    и думали о своём. О чём они думали, никто не знал. Может быть, они мечтали о будущем, а может быть, просто наслаждались \n",
    "    настоящим. Но одно было ясно: они были счастливы вместе.\n",
    "\"\"\""
   ]
  },
  {
   "cell_type": "code",
   "execution_count": null,
   "metadata": {},
   "outputs": [],
   "source": [
    "# Функция расчета метрики METEOR\n",
    "def metric_meteor(predicted_texts, reference_texts):\n",
    "    metrics = []\n",
    "\n",
    "    for i in range(len(predicted_texts)):\n",
    "        reference_tokens = word_tokenize(reference_texts[i])\n",
    "        predicted_tokens = word_tokenize(predicted_texts[i])\n",
    "\n",
    "        meteor = meteor_score([reference_tokens], predicted_tokens)\n",
    "        metrics.append(meteor)\n",
    "\n",
    "    return metrics / len(metrics)"
   ]
  },
  {
   "cell_type": "code",
   "execution_count": null,
   "metadata": {},
   "outputs": [],
   "source": [
    "# Функция расчета косинусного сходства между текстами на основе угла между векторами\n",
    "def cos_similarity(predicted_texts, reference_texts):\n",
    "    metrics = []\n",
    "\n",
    "    for i in range(len(predicted_texts)):\n",
    "        tfidf_vectorizer = TfidfVectorizer()\n",
    "        tfidf_matrix = tfidf_vectorizer.fit_transform(\n",
    "            [predicted_texts[i], reference_texts[i]]\n",
    "        )\n",
    "\n",
    "        cosine_sim = cosine_similarity(tfidf_matrix[0], tfidf_matrix[1])\n",
    "        metrics.append(cosine_sim)\n",
    "\n",
    "    return metrics / len(metrics)"
   ]
  },
  {
   "cell_type": "code",
   "execution_count": null,
   "metadata": {},
   "outputs": [],
   "source": [
    "# Функция расчета Жаккара сходства между двумя множествами слов в текстах\n",
    "def jaccard_similarity(predicted_texts, reference_texts):\n",
    "    metrics = []\n",
    "\n",
    "    for i in range(len(predicted_texts)):\n",
    "        set1 = set(predicted_texts[i].lower().split())\n",
    "        set2 = set(reference_texts[i].lower().split())\n",
    "\n",
    "        intersection = len(set1.intersection(set2))\n",
    "        union = len(set1.union(set2))\n",
    "\n",
    "        jaccard_sim = intersection / union if union != 0 else 0\n",
    "\n",
    "        metrics.append(jaccard_sim)\n",
    "\n",
    "    return metrics / len(metrics)"
   ]
  },
  {
   "cell_type": "code",
   "execution_count": null,
   "metadata": {},
   "outputs": [],
   "source": [
    "# Функция расчета Евклидово расстояния измеряющее расстояние между двумя точками в многомерном пространстве\n",
    "def euclidean_distance(predicted_texts, reference_texts):\n",
    "    metrics = []\n",
    "\n",
    "    for i in range(len(predicted_texts)):\n",
    "        vectorizer = CountVectorizer()\n",
    "        vectorizer.fit([predicted_texts[i], reference_texts[i]])\n",
    "        vectorized_text1 = vectorizer.transform([predicted_texts[i]])\n",
    "        vectorized_text2 = vectorizer.transform([reference_texts[i]])\n",
    "\n",
    "        euclidean_distance = euclidean_distances(vectorized_text1, vectorized_text2)\n",
    "        metrics.append(euclidean_distance[0][0])\n",
    "\n",
    "    return metrics / len(metrics)"
   ]
  },
  {
   "cell_type": "code",
   "execution_count": null,
   "metadata": {},
   "outputs": [],
   "source": [
    "# Загрузка синтетического датасета для оценки качества LLM\n",
    "sin_ds = pd.read_csv(\"datasets/sin_dataset_text/sin_dataset_text.csv\")\n",
    "\n",
    "sin_ds.head()"
   ]
  },
  {
   "cell_type": "code",
   "execution_count": null,
   "metadata": {},
   "outputs": [],
   "source": [
    "# Цикл предсказания LLM развернутого описания с логированием метрик в wandb\n",
    "wandb.init(project=\"child_diary\", group=\"yandexgpt\", job_type=\"base\")\n",
    "\n",
    "predicted_texts = []\n",
    "reference_texts = []\n",
    "\n",
    "for i in range(sin_ds.shape[0]):\n",
    "    img_input = sin_ds.img_input[i]\n",
    "    text_input = sin_ds.text_input[i]\n",
    "    setup_input = \"В тексте не использовать слова фотография, изображение, затем\"\n",
    "    message = f\"\"\"\n",
    "        Напиши развернутое описание от первого лица происходящего на {len(img_input)} фотографиях объединив в сюжет.\n",
    "        Описания фотографий: {img_input}.\n",
    "        Дополнительное описание к фотографий: {text_input}.\n",
    "        Дополнительные требования: {setup_input}.\n",
    "        \"\"\"\n",
    "\n",
    "    result = pred_history(message)\n",
    "    predicted_texts.append(result)\n",
    "    reference_texts.append(sin_ds.target[i])\n",
    "\n",
    "wandb.log(\n",
    "    {\n",
    "        \"METEOR\": metric_meteor(predicted_texts, reference_texts),\n",
    "        \"Косинусное сходство \": cos_similarity(predicted_texts, reference_texts),\n",
    "        \"Жаккара сходство\": jaccard_similarity(predicted_texts, reference_texts),\n",
    "        \"Евклидово расстояние\": euclidean_distance(predicted_texts, reference_texts),\n",
    "    }\n",
    ")\n",
    "\n",
    "wandb.finish()"
   ]
  },
  {
   "cell_type": "code",
   "execution_count": null,
   "metadata": {},
   "outputs": [],
   "source": []
  }
 ],
 "metadata": {
  "kernelspec": {
   "display_name": ".venv",
   "language": "python",
   "name": "python3"
  },
  "language_info": {
   "codemirror_mode": {
    "name": "ipython",
    "version": 3
   },
   "file_extension": ".py",
   "mimetype": "text/x-python",
   "name": "python",
   "nbconvert_exporter": "python",
   "pygments_lexer": "ipython3",
   "version": "3.12.3"
  }
 },
 "nbformat": 4,
 "nbformat_minor": 2
}
