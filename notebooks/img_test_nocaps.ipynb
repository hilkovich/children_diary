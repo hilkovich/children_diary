{
 "cells": [
  {
   "cell_type": "code",
   "execution_count": 2,
   "metadata": {},
   "outputs": [],
   "source": [
    "from datasets import load_dataset\n",
    "from transformers import BlipProcessor, BlipForConditionalGeneration\n",
    "from rouge import Rouge\n",
    "from bert_score import score\n",
    "from nltk.tokenize import word_tokenize\n",
    "from nltk.translate.meteor_score import meteor_score\n",
    "from pycocoevalcap.cider.cider import Cider"
   ]
  },
  {
   "cell_type": "code",
   "execution_count": 3,
   "metadata": {},
   "outputs": [
    {
     "data": {
      "text/plain": [
       "DatasetDict({\n",
       "    validation: Dataset({\n",
       "        features: ['image', 'image_coco_url', 'image_date_captured', 'image_file_name', 'image_height', 'image_width', 'image_id', 'image_license', 'image_open_images_id', 'annotations_ids', 'annotations_captions'],\n",
       "        num_rows: 4500\n",
       "    })\n",
       "    test: Dataset({\n",
       "        features: ['image', 'image_coco_url', 'image_date_captured', 'image_file_name', 'image_height', 'image_width', 'image_id', 'image_license', 'image_open_images_id', 'annotations_ids', 'annotations_captions'],\n",
       "        num_rows: 10600\n",
       "    })\n",
       "})"
      ]
     },
     "execution_count": 3,
     "metadata": {},
     "output_type": "execute_result"
    }
   ],
   "source": [
    "ds_nocaps = load_dataset(\"lmms-lab/NoCaps\")\n",
    "\n",
    "ds_nocaps"
   ]
  },
  {
   "cell_type": "code",
   "execution_count": 4,
   "metadata": {},
   "outputs": [],
   "source": [
    "def check_for_children(caption_list):\n",
    "    keywords = [\"child\", \"girl\", \"boy\", \"baby\"]\n",
    "    return any(\n",
    "        keyword in caption.lower() for keyword in keywords for caption in caption_list\n",
    "    )"
   ]
  },
  {
   "cell_type": "code",
   "execution_count": 5,
   "metadata": {},
   "outputs": [
    {
     "data": {
      "text/plain": [
       "Dataset({\n",
       "    features: ['image', 'filename', 'img_id', 'caption'],\n",
       "    num_rows: 667\n",
       "})"
      ]
     },
     "execution_count": 5,
     "metadata": {},
     "output_type": "execute_result"
    }
   ],
   "source": [
    "ds_nocaps[\"validation\"] = ds_nocaps[\"validation\"].add_column(\n",
    "    \"has_children\",\n",
    "    [\n",
    "        check_for_children(example[\"annotations_captions\"])\n",
    "        for example in ds_nocaps[\"validation\"]\n",
    "    ],\n",
    ")\n",
    "\n",
    "filter_ds_nocaps = ds_nocaps[\"validation\"].filter(\n",
    "    lambda example: example[\"has_children\"]\n",
    ")\n",
    "filter_ds_nocaps = filter_ds_nocaps.remove_columns(\n",
    "    [\n",
    "        \"annotations_ids\",\n",
    "        \"has_children\",\n",
    "        \"image_open_images_id\",\n",
    "        \"image_license\",\n",
    "        \"image_width\",\n",
    "        \"image_height\",\n",
    "        \"image_date_captured\",\n",
    "        \"image_coco_url\",\n",
    "    ]\n",
    ")\n",
    "\n",
    "filter_ds_nocaps = filter_ds_nocaps.rename_columns(\n",
    "    {\n",
    "        \"annotations_captions\": \"caption\",\n",
    "        \"image_file_name\": \"filename\",\n",
    "        \"image_id\": \"img_id\",\n",
    "    }\n",
    ")\n",
    "\n",
    "filter_ds_nocaps"
   ]
  },
  {
   "cell_type": "code",
   "execution_count": 6,
   "metadata": {},
   "outputs": [],
   "source": [
    "# Модель №1\n",
    "processor = BlipProcessor.from_pretrained(\"abhijit2111/Pic2Story\")\n",
    "model = BlipForConditionalGeneration.from_pretrained(\"abhijit2111/Pic2Story\")"
   ]
  },
  {
   "cell_type": "code",
   "execution_count": 7,
   "metadata": {},
   "outputs": [],
   "source": [
    "predicted_captions = []\n",
    "reference_captions = []\n",
    "\n",
    "for i in range(5):\n",
    "    inputs = processor(filter_ds_nocaps[i][\"image\"], return_tensors=\"pt\")\n",
    "    out = model.generate(**inputs)\n",
    "    predicted_captions.append(processor.decode(out[0], skip_special_tokens=True))\n",
    "    reference_captions.append(filter_ds_nocaps[i][\"caption\"])"
   ]
  },
  {
   "cell_type": "code",
   "execution_count": 8,
   "metadata": {},
   "outputs": [
    {
     "name": "stdout",
     "output_type": "stream",
     "text": [
      "CIDEr Score: 0.386\n"
     ]
    }
   ],
   "source": [
    "predicted_dict = {i: [caption] for i, caption in enumerate(predicted_captions)}\n",
    "reference_dict = {i: captions for i, captions in enumerate(reference_captions)}\n",
    "\n",
    "cider_scorer = Cider()\n",
    "\n",
    "cider_score, _ = cider_scorer.compute_score(reference_dict, predicted_dict)\n",
    "\n",
    "print(f\"CIDEr Score: {cider_score:.3f}\")"
   ]
  },
  {
   "cell_type": "code",
   "execution_count": 9,
   "metadata": {},
   "outputs": [
    {
     "name": "stderr",
     "output_type": "stream",
     "text": [
      "Some weights of RobertaModel were not initialized from the model checkpoint at roberta-large and are newly initialized: ['roberta.pooler.dense.bias', 'roberta.pooler.dense.weight']\n",
      "You should probably TRAIN this model on a down-stream task to be able to use it for predictions and inference.\n"
     ]
    },
    {
     "name": "stdout",
     "output_type": "stream",
     "text": [
      "BERTScore Precision: 0.900\n",
      "BERTScore Recall: 0.939\n",
      "BERTScore F1: 0.916\n"
     ]
    }
   ],
   "source": [
    "P, R, F1 = score(predicted_captions, reference_captions, lang=\"en\", verbose=False)\n",
    "\n",
    "print(f\"BERTScore Precision: {P.mean().item():.3f}\")\n",
    "print(f\"BERTScore Recall: {R.mean().item():.3f}\")\n",
    "print(f\"BERTScore F1: {F1.mean().item():.3f}\")"
   ]
  },
  {
   "cell_type": "code",
   "execution_count": 10,
   "metadata": {},
   "outputs": [
    {
     "name": "stdout",
     "output_type": "stream",
     "text": [
      "METEOR Score: 0.504\n"
     ]
    }
   ],
   "source": [
    "predicted_captions_tokenized = [\n",
    "    word_tokenize(caption) for caption in predicted_captions\n",
    "]\n",
    "reference_captions_tokenized = [\n",
    "    [word_tokenize(caption) for caption in ref] for ref in reference_captions\n",
    "]\n",
    "\n",
    "scores = [\n",
    "    meteor_score(ref, gen)\n",
    "    for ref, gen in zip(reference_captions_tokenized, predicted_captions_tokenized)\n",
    "]\n",
    "average_score = sum(scores) / len(scores)\n",
    "\n",
    "print(f\"METEOR Score: {average_score:.3f}\")"
   ]
  },
  {
   "cell_type": "code",
   "execution_count": 11,
   "metadata": {},
   "outputs": [
    {
     "name": "stdout",
     "output_type": "stream",
     "text": [
      "ROUGE-1 Scores: {'r': 0.22548692185107386, 'p': 0.7040170940170939, 'f': 0.33676125066644025}\n",
      "ROUGE-2 Scores: {'r': 0.07954457867616299, 'p': 0.40660130718954246, 'f': 0.1323900260738019}\n",
      "ROUGE-l Scores: {'r': 0.20980386412604224, 'p': 0.6496367521367521, 'f': 0.3129299195012005}\n"
     ]
    }
   ],
   "source": [
    "ref_captions = [\". \".join(ref) for ref in reference_captions]\n",
    "\n",
    "rouge = Rouge()\n",
    "\n",
    "scores = rouge.get_scores(predicted_captions, ref_captions, avg=True)\n",
    "\n",
    "print(\"ROUGE-1 Scores:\", scores[\"rouge-1\"])\n",
    "print(\"ROUGE-2 Scores:\", scores[\"rouge-2\"])\n",
    "print(\"ROUGE-l Scores:\", scores[\"rouge-l\"])"
   ]
  },
  {
   "cell_type": "code",
   "execution_count": 12,
   "metadata": {},
   "outputs": [],
   "source": [
    "# Модель №2\n",
    "processor = BlipProcessor.from_pretrained(\"Salesforce/blip-image-captioning-base\")\n",
    "model = BlipForConditionalGeneration.from_pretrained(\n",
    "    \"Salesforce/blip-image-captioning-base\"\n",
    ")"
   ]
  },
  {
   "cell_type": "code",
   "execution_count": 13,
   "metadata": {},
   "outputs": [
    {
     "name": "stderr",
     "output_type": "stream",
     "text": [
      "/home/nikolai/projects/album_stories/.venv/lib/python3.12/site-packages/transformers/generation/utils.py:1168: UserWarning: Using the model-agnostic default `max_length` (=20) to control the generation length. We recommend setting `max_new_tokens` to control the maximum length of the generation.\n",
      "  warnings.warn(\n"
     ]
    }
   ],
   "source": [
    "predicted_captions = []\n",
    "reference_captions = []\n",
    "\n",
    "for i in range(5):\n",
    "    inputs = processor(filter_ds_nocaps[i][\"image\"], return_tensors=\"pt\")\n",
    "    out = model.generate(**inputs)\n",
    "    predicted_captions.append(processor.decode(out[0], skip_special_tokens=True))\n",
    "    reference_captions.append(filter_ds_nocaps[i][\"caption\"])"
   ]
  },
  {
   "cell_type": "code",
   "execution_count": 14,
   "metadata": {},
   "outputs": [
    {
     "name": "stdout",
     "output_type": "stream",
     "text": [
      "CIDEr Score: 0.787\n"
     ]
    }
   ],
   "source": [
    "predicted_dict = {i: [caption] for i, caption in enumerate(predicted_captions)}\n",
    "reference_dict = {i: captions for i, captions in enumerate(reference_captions)}\n",
    "\n",
    "cider_scorer = Cider()\n",
    "\n",
    "cider_score, _ = cider_scorer.compute_score(reference_dict, predicted_dict)\n",
    "\n",
    "print(f\"CIDEr Score: {cider_score:.3f}\")"
   ]
  },
  {
   "cell_type": "code",
   "execution_count": 15,
   "metadata": {},
   "outputs": [
    {
     "name": "stderr",
     "output_type": "stream",
     "text": [
      "Some weights of RobertaModel were not initialized from the model checkpoint at roberta-large and are newly initialized: ['roberta.pooler.dense.bias', 'roberta.pooler.dense.weight']\n",
      "You should probably TRAIN this model on a down-stream task to be able to use it for predictions and inference.\n"
     ]
    },
    {
     "name": "stdout",
     "output_type": "stream",
     "text": [
      "BERTScore Precision: 0.950\n",
      "BERTScore Recall: 0.950\n",
      "BERTScore F1: 0.948\n"
     ]
    }
   ],
   "source": [
    "P, R, F1 = score(predicted_captions, reference_captions, lang=\"en\", verbose=False)\n",
    "\n",
    "print(f\"BERTScore Precision: {P.mean().item():.3f}\")\n",
    "print(f\"BERTScore Recall: {R.mean().item():.3f}\")\n",
    "print(f\"BERTScore F1: {F1.mean().item():.3f}\")"
   ]
  },
  {
   "cell_type": "code",
   "execution_count": 16,
   "metadata": {},
   "outputs": [
    {
     "name": "stdout",
     "output_type": "stream",
     "text": [
      "METEOR Score: 0.573\n"
     ]
    }
   ],
   "source": [
    "predicted_captions_tokenized = [\n",
    "    word_tokenize(caption) for caption in predicted_captions\n",
    "]\n",
    "reference_captions_tokenized = [\n",
    "    [word_tokenize(caption) for caption in ref] for ref in reference_captions\n",
    "]\n",
    "\n",
    "scores = [\n",
    "    meteor_score(ref, gen)\n",
    "    for ref, gen in zip(reference_captions_tokenized, predicted_captions_tokenized)\n",
    "]\n",
    "average_score = sum(scores) / len(scores)\n",
    "\n",
    "print(f\"METEOR Score: {average_score:.3f}\")"
   ]
  },
  {
   "cell_type": "code",
   "execution_count": 17,
   "metadata": {},
   "outputs": [
    {
     "name": "stdout",
     "output_type": "stream",
     "text": [
      "ROUGE-1 Scores: {'r': 0.15737122523282476, 'p': 0.9, 'f': 0.26503357260843846}\n",
      "ROUGE-2 Scores: {'r': 0.06074103427391693, 'p': 0.6452020202020202, 'f': 0.11015277620490949}\n",
      "ROUGE-l Scores: {'r': 0.15737122523282476, 'p': 0.9, 'f': 0.26503357260843846}\n"
     ]
    }
   ],
   "source": [
    "ref_captions = [\". \".join(ref) for ref in reference_captions]\n",
    "\n",
    "rouge = Rouge()\n",
    "\n",
    "scores = rouge.get_scores(predicted_captions, ref_captions, avg=True)\n",
    "\n",
    "print(\"ROUGE-1 Scores:\", scores[\"rouge-1\"])\n",
    "print(\"ROUGE-2 Scores:\", scores[\"rouge-2\"])\n",
    "print(\"ROUGE-l Scores:\", scores[\"rouge-l\"])"
   ]
  },
  {
   "cell_type": "code",
   "execution_count": 18,
   "metadata": {},
   "outputs": [],
   "source": [
    "# Модель №3\n",
    "processor = BlipProcessor.from_pretrained(\"Salesforce/blip-image-captioning-large\")\n",
    "model = BlipForConditionalGeneration.from_pretrained(\n",
    "    \"Salesforce/blip-image-captioning-large\"\n",
    ")"
   ]
  },
  {
   "cell_type": "code",
   "execution_count": 19,
   "metadata": {},
   "outputs": [],
   "source": [
    "predicted_captions = []\n",
    "reference_captions = []\n",
    "\n",
    "for i in range(5):\n",
    "    inputs = processor(filter_ds_nocaps[i][\"image\"], return_tensors=\"pt\")\n",
    "    out = model.generate(**inputs)\n",
    "    predicted_captions.append(processor.decode(out[0], skip_special_tokens=True))\n",
    "    reference_captions.append(filter_ds_nocaps[i][\"caption\"])"
   ]
  },
  {
   "cell_type": "code",
   "execution_count": 20,
   "metadata": {},
   "outputs": [
    {
     "name": "stdout",
     "output_type": "stream",
     "text": [
      "CIDEr Score: 0.847\n"
     ]
    }
   ],
   "source": [
    "predicted_dict = {i: [caption] for i, caption in enumerate(predicted_captions)}\n",
    "reference_dict = {i: captions for i, captions in enumerate(reference_captions)}\n",
    "\n",
    "cider_scorer = Cider()\n",
    "\n",
    "cider_score, _ = cider_scorer.compute_score(reference_dict, predicted_dict)\n",
    "\n",
    "print(f\"CIDEr Score: {cider_score:.3f}\")"
   ]
  },
  {
   "cell_type": "code",
   "execution_count": 21,
   "metadata": {},
   "outputs": [
    {
     "name": "stderr",
     "output_type": "stream",
     "text": [
      "Some weights of RobertaModel were not initialized from the model checkpoint at roberta-large and are newly initialized: ['roberta.pooler.dense.bias', 'roberta.pooler.dense.weight']\n",
      "You should probably TRAIN this model on a down-stream task to be able to use it for predictions and inference.\n"
     ]
    },
    {
     "name": "stdout",
     "output_type": "stream",
     "text": [
      "BERTScore Precision: 0.930\n",
      "BERTScore Recall: 0.941\n",
      "BERTScore F1: 0.934\n"
     ]
    }
   ],
   "source": [
    "P, R, F1 = score(predicted_captions, reference_captions, lang=\"en\", verbose=False)\n",
    "\n",
    "print(f\"BERTScore Precision: {P.mean().item():.3f}\")\n",
    "print(f\"BERTScore Recall: {R.mean().item():.3f}\")\n",
    "print(f\"BERTScore F1: {F1.mean().item():.3f}\")"
   ]
  },
  {
   "cell_type": "code",
   "execution_count": 22,
   "metadata": {},
   "outputs": [
    {
     "name": "stdout",
     "output_type": "stream",
     "text": [
      "METEOR Score: 0.573\n"
     ]
    }
   ],
   "source": [
    "predicted_captions_tokenized = [\n",
    "    word_tokenize(caption) for caption in predicted_captions\n",
    "]\n",
    "reference_captions_tokenized = [\n",
    "    [word_tokenize(caption) for caption in ref] for ref in reference_captions\n",
    "]\n",
    "\n",
    "scores = [\n",
    "    meteor_score(ref, gen)\n",
    "    for ref, gen in zip(reference_captions_tokenized, predicted_captions_tokenized)\n",
    "]\n",
    "average_score = sum(scores) / len(scores)\n",
    "\n",
    "print(f\"METEOR Score: {average_score:.3f}\")"
   ]
  },
  {
   "cell_type": "code",
   "execution_count": 23,
   "metadata": {},
   "outputs": [
    {
     "name": "stdout",
     "output_type": "stream",
     "text": [
      "ROUGE-1 Scores: {'r': 0.17474507184376725, 'p': 0.8122222222222224, 'f': 0.28590673369714664}\n",
      "ROUGE-2 Scores: {'r': 0.06471296960726579, 'p': 0.5334188034188034, 'f': 0.11521377127903625}\n",
      "ROUGE-l Scores: {'r': 0.16191205120586855, 'p': 0.758888888888889, 'f': 0.2654790607411718}\n"
     ]
    }
   ],
   "source": [
    "ref_captions = [\". \".join(ref) for ref in reference_captions]\n",
    "\n",
    "rouge = Rouge()\n",
    "\n",
    "scores = rouge.get_scores(predicted_captions, ref_captions, avg=True)\n",
    "\n",
    "print(\"ROUGE-1 Scores:\", scores[\"rouge-1\"])\n",
    "print(\"ROUGE-2 Scores:\", scores[\"rouge-2\"])\n",
    "print(\"ROUGE-l Scores:\", scores[\"rouge-l\"])"
   ]
  },
  {
   "cell_type": "code",
   "execution_count": null,
   "metadata": {},
   "outputs": [],
   "source": []
  }
 ],
 "metadata": {
  "kernelspec": {
   "display_name": ".venv",
   "language": "python",
   "name": "python3"
  },
  "language_info": {
   "codemirror_mode": {
    "name": "ipython",
    "version": 3
   },
   "file_extension": ".py",
   "mimetype": "text/x-python",
   "name": "python",
   "nbconvert_exporter": "python",
   "pygments_lexer": "ipython3",
   "version": "3.12.3"
  }
 },
 "nbformat": 4,
 "nbformat_minor": 2
}
