{
 "cells": [
  {
   "cell_type": "code",
   "execution_count": 1,
   "metadata": {},
   "outputs": [],
   "source": [
    "from datasets import load_dataset, concatenate_datasets"
   ]
  },
  {
   "cell_type": "code",
   "execution_count": 2,
   "metadata": {},
   "outputs": [
    {
     "data": {
      "text/plain": [
       "DatasetDict({\n",
       "    test: Dataset({\n",
       "        features: ['image', 'caption', 'sentids', 'img_id', 'filename'],\n",
       "        num_rows: 31783\n",
       "    })\n",
       "})"
      ]
     },
     "execution_count": 2,
     "metadata": {},
     "output_type": "execute_result"
    }
   ],
   "source": [
    "# Flickr30k датасет - состоит из 30 000 изображений, каждое из которых связано с пятью разными подписями, \n",
    "# обеспечивающими точное описание основных объектов и событий. В них нет известных людей или мест. \n",
    "# Демонстрирует разных сцен и ситуаций.\n",
    "ds_flickr30k = load_dataset(\"lmms-lab/flickr30k\")\n",
    "\n",
    "ds_flickr30k"
   ]
  },
  {
   "cell_type": "code",
   "execution_count": 3,
   "metadata": {},
   "outputs": [],
   "source": [
    "# Функция поиска в подписях изображений упоминаний про детей, младенцев, мальчиков, девочек\n",
    "def check_for_children(caption_list):\n",
    "    keywords = [\"child\", \"girl\", \"boy\", \"baby\"]\n",
    "    return any(\n",
    "        keyword in caption.lower() for keyword in keywords for caption in caption_list\n",
    "    )"
   ]
  },
  {
   "cell_type": "code",
   "execution_count": 4,
   "metadata": {},
   "outputs": [
    {
     "data": {
      "text/plain": [
       "Dataset({\n",
       "    features: ['image', 'caption'],\n",
       "    num_rows: 10361\n",
       "})"
      ]
     },
     "execution_count": 4,
     "metadata": {},
     "output_type": "execute_result"
    }
   ],
   "source": [
    "# Бинарная разметка датасета по наличию детей\n",
    "ds_flickr30k[\"test\"] = ds_flickr30k[\"test\"].add_column(\n",
    "    \"has_children\",\n",
    "    [check_for_children(example[\"caption\"]) for example in ds_flickr30k[\"test\"]],\n",
    ")\n",
    "\n",
    "# Фильтрация датасета только на детей\n",
    "filter_ds_flickr30k = ds_flickr30k[\"test\"].filter(\n",
    "    lambda example: example[\"has_children\"]\n",
    ")\n",
    "\n",
    "# Удаление лишней информации\n",
    "filter_ds_flickr30k = filter_ds_flickr30k.remove_columns(\n",
    "    [\"sentids\", \"has_children\", \"img_id\", \"filename\"]\n",
    ")\n",
    "\n",
    "filter_ds_flickr30k"
   ]
  },
  {
   "cell_type": "code",
   "execution_count": 5,
   "metadata": {},
   "outputs": [
    {
     "data": {
      "text/plain": [
       "DatasetDict({\n",
       "    validation: Dataset({\n",
       "        features: ['image', 'image_coco_url', 'image_date_captured', 'image_file_name', 'image_height', 'image_width', 'image_id', 'image_license', 'image_open_images_id', 'annotations_ids', 'annotations_captions'],\n",
       "        num_rows: 4500\n",
       "    })\n",
       "    test: Dataset({\n",
       "        features: ['image', 'image_coco_url', 'image_date_captured', 'image_file_name', 'image_height', 'image_width', 'image_id', 'image_license', 'image_open_images_id', 'annotations_ids', 'annotations_captions'],\n",
       "        num_rows: 10600\n",
       "    })\n",
       "})"
      ]
     },
     "execution_count": 5,
     "metadata": {},
     "output_type": "execute_result"
    }
   ],
   "source": [
    "# NoCaps датасет - состоит из 166 100 созданных человеком подписей, описывающих 15 100 изображений \n",
    "# из проверочных и тестовых наборов Open Images.\n",
    "ds_nocaps = load_dataset(\"lmms-lab/NoCaps\")\n",
    "\n",
    "ds_nocaps"
   ]
  },
  {
   "cell_type": "code",
   "execution_count": 6,
   "metadata": {},
   "outputs": [
    {
     "data": {
      "text/plain": [
       "Dataset({\n",
       "    features: ['image', 'caption'],\n",
       "    num_rows: 667\n",
       "})"
      ]
     },
     "execution_count": 6,
     "metadata": {},
     "output_type": "execute_result"
    }
   ],
   "source": [
    "# Бинарная разметка датасета по наличию детей\n",
    "ds_nocaps[\"validation\"] = ds_nocaps[\"validation\"].add_column(\n",
    "    \"has_children\",\n",
    "    [\n",
    "        check_for_children(example[\"annotations_captions\"])\n",
    "        for example in ds_nocaps[\"validation\"]\n",
    "    ],\n",
    ")\n",
    "\n",
    "# Фильтрация датасета только на детей\n",
    "filter_ds_nocaps = ds_nocaps[\"validation\"].filter(\n",
    "    lambda example: example[\"has_children\"]\n",
    ")\n",
    "\n",
    "# Удаление лишней информации\n",
    "filter_ds_nocaps = filter_ds_nocaps.remove_columns(\n",
    "    [\n",
    "        \"annotations_ids\",\n",
    "        \"has_children\",\n",
    "        \"image_open_images_id\",\n",
    "        \"image_license\",\n",
    "        \"image_width\",\n",
    "        \"image_height\",\n",
    "        \"image_date_captured\",\n",
    "        \"image_coco_url\",\n",
    "        \"image_file_name\",\n",
    "        \"image_id\",\n",
    "    ]\n",
    ")\n",
    "\n",
    "# Переименование колонок под соответствие первому датасету\n",
    "filter_ds_nocaps = filter_ds_nocaps.rename_columns({\"annotations_captions\": \"caption\"})\n",
    "\n",
    "filter_ds_nocaps"
   ]
  },
  {
   "cell_type": "code",
   "execution_count": 7,
   "metadata": {},
   "outputs": [
    {
     "data": {
      "text/plain": [
       "Dataset({\n",
       "    features: ['image', 'caption'],\n",
       "    num_rows: 11028\n",
       "})"
      ]
     },
     "execution_count": 7,
     "metadata": {},
     "output_type": "execute_result"
    }
   ],
   "source": [
    "# Объединение дву датасетов для дообучения моделей\n",
    "ds_train = concatenate_datasets([filter_ds_flickr30k, filter_ds_nocaps])\n",
    "\n",
    "ds_train"
   ]
  },
  {
   "cell_type": "code",
   "execution_count": 8,
   "metadata": {},
   "outputs": [
    {
     "data": {
      "application/vnd.jupyter.widget-view+json": {
       "model_id": "f1310d1322894546aa1ae6200caa706d",
       "version_major": 2,
       "version_minor": 0
      },
      "text/plain": [
       "Saving the dataset (0/4 shards):   0%|          | 0/11028 [00:00<?, ? examples/s]"
      ]
     },
     "metadata": {},
     "output_type": "display_data"
    }
   ],
   "source": [
    "ds_train.save_to_disk(\"datasets/ds_train\")"
   ]
  },
  {
   "cell_type": "code",
   "execution_count": null,
   "metadata": {},
   "outputs": [],
   "source": []
  }
 ],
 "metadata": {
  "kernelspec": {
   "display_name": "DataSphere Kernel",
   "language": "python",
   "name": "python3"
  },
  "language_info": {
   "codemirror_mode": {
    "name": "ipython",
    "version": 3
   },
   "file_extension": ".py",
   "mimetype": "text/x-python",
   "name": "python",
   "nbconvert_exporter": "python",
   "pygments_lexer": "ipython3",
   "version": "3.12.3"
  }
 },
 "nbformat": 4,
 "nbformat_minor": 2
}
